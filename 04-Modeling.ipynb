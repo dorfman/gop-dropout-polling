{
 "cells": [
  {
   "cell_type": "markdown",
   "metadata": {},
   "source": [
    "# Modeling\n",
    "Data is separated on a candidate-basis to observe polls prior to and before a candidate suspends their campaign."
   ]
  },
  {
   "cell_type": "markdown",
   "metadata": {},
   "source": [
    "## Imports"
   ]
  },
  {
   "cell_type": "code",
   "execution_count": 1,
   "metadata": {
    "collapsed": true
   },
   "outputs": [],
   "source": [
    "%matplotlib inline\n",
    "import matplotlib.pyplot as plt\n",
    "import seaborn as sns\n",
    "\n",
    "import datetime\n",
    "import numpy as np\n",
    "import pandas as pd\n",
    "import os\n",
    "import math\n",
    "\n",
    "import stats"
   ]
  },
  {
   "cell_type": "markdown",
   "metadata": {},
   "source": [
    "## Read File Written in 02-DataCleaning"
   ]
  },
  {
   "cell_type": "code",
   "execution_count": 2,
   "metadata": {
    "collapsed": true
   },
   "outputs": [],
   "source": [
    "candidates = pd.read_csv('candidates.csv', index_col='name')"
   ]
  },
  {
   "cell_type": "markdown",
   "metadata": {},
   "source": [
    "## Read File Written in 03-Modeling"
   ]
  },
  {
   "cell_type": "code",
   "execution_count": 3,
   "metadata": {
    "collapsed": false
   },
   "outputs": [],
   "source": [
    "polls = pd.read_csv('bootPolls.csv')"
   ]
  },
  {
   "cell_type": "markdown",
   "metadata": {},
   "source": [
    "Convert date from string to datetime."
   ]
  },
  {
   "cell_type": "code",
   "execution_count": 4,
   "metadata": {
    "collapsed": false
   },
   "outputs": [],
   "source": [
    "polls.date = pd.Series(pd.DatetimeIndex(polls.date))\n",
    "polls.index = polls.date\n",
    "del polls['date']\n",
    "\n",
    "candidates.date = pd.to_datetime(candidates.date)\n",
    "\n",
    "stats.Equals100(polls)"
   ]
  },
  {
   "cell_type": "markdown",
   "metadata": {},
   "source": [
    "## Data Modeling Functions Defintions"
   ]
  },
  {
   "cell_type": "markdown",
   "metadata": {},
   "source": [
    "### Before Campaign Suspension"
   ]
  },
  {
   "cell_type": "markdown",
   "metadata": {},
   "source": [
    "Function to get average polling for a single active candidate before a candidate drops out."
   ]
  },
  {
   "cell_type": "code",
   "execution_count": 5,
   "metadata": {
    "collapsed": true
   },
   "outputs": [],
   "source": [
    "def getBeforeAverage(pollGroup, dropout, cand):\n",
    "    \"\"\"Returns average polling for a single candidate in the week prior to another candidate dropping out of the race.\n",
    "    \n",
    "    Parameters\n",
    "    ----------\n",
    "    pollGroup : DataFrame\n",
    "        A snippet of the main DataFrame used sliced to only include polls take a week prior to and a week \n",
    "        after the dropout suspends their campaign.\n",
    "    dropout : str\n",
    "        The name of the candidate that dropped out.\n",
    "    cand : str\n",
    "        The name of the candidate whose average polling is being calculated.\n",
    "    \"\"\"\n",
    "    \n",
    "    tot = 0                             # used to as numerator in calculating the mean\n",
    "    count = 0                           # regular iterator. Also used to as denominator in calculating the mean\n",
    "    iterDate = pollGroup.index[count]   # used to check where date is relative to the date of suspension\n",
    "    \n",
    "    while candidates['date'][dropout] - iterDate >= datetime.timedelta(days=0):\n",
    "        tot += pollGroup[cand][count]\n",
    "        count += 1\n",
    "        iterDate = pollGroup.index[count]\n",
    "\n",
    "    return tot/count"
   ]
  },
  {
   "cell_type": "markdown",
   "metadata": {},
   "source": [
    "Function to create list of average polling for all other candidates before a candidate drops out."
   ]
  },
  {
   "cell_type": "code",
   "execution_count": 6,
   "metadata": {
    "collapsed": false
   },
   "outputs": [],
   "source": [
    "def BeforeAverages(pollGroup, dropout):\n",
    "    \"\"\"Returns a list of average polling for all active candidate in the week prior to another\n",
    "       candidate dropping out of the race.\n",
    "    \n",
    "    Parameters\n",
    "    ----------\n",
    "    pollGroup : DataFrame\n",
    "        A snippet of the main DataFrame used sliced to only include polls take a week prior to and a week \n",
    "        after the dropout suspends their campaign.\n",
    "    dropout : str\n",
    "        The name of the candidate that dropped out.\n",
    "    \"\"\"\n",
    "    \n",
    "    averages = []\n",
    "    for c in pollGroup.columns:    # for each candidate\n",
    "        averages.append(getBeforeAverage(pollGroup, dropout, c))\n",
    "        \n",
    "    return averages"
   ]
  },
  {
   "cell_type": "markdown",
   "metadata": {},
   "source": [
    "### After Campaign Suspension"
   ]
  },
  {
   "cell_type": "markdown",
   "metadata": {},
   "source": [
    "Function to retrieve difference in days since date of suspension/dropout."
   ]
  },
  {
   "cell_type": "code",
   "execution_count": 7,
   "metadata": {
    "collapsed": true
   },
   "outputs": [],
   "source": [
    "def dateDiff(dropout, iterDate):\n",
    "    \"\"\"Returns difference in days between date iterator and the date a candidate dropped out of the race.\n",
    "    \n",
    "    Parameters\n",
    "    ----------\n",
    "    dropout : str\n",
    "        The name of the candidate that dropped out.\n",
    "    iterDate : str\n",
    "        The name of the candidate whose average polling is being calculated.\n",
    "    \"\"\"\n",
    "    return (iterDate - candidates['date'][dropout]).days"
   ]
  },
  {
   "cell_type": "markdown",
   "metadata": {},
   "source": [
    "Function to get weighted average polling for a single active candidate after a candidate drops out. Weight is determined by days after campaign suspension; the further away from the date of suspension, the more weight the polling data holds."
   ]
  },
  {
   "cell_type": "code",
   "execution_count": 8,
   "metadata": {
    "collapsed": false
   },
   "outputs": [],
   "source": [
    "def getAfterAverage(pollGroup, dropout, cand):\n",
    "    \"\"\"Returns average polling for a candidate in the week after another candidate drops out of the race.\n",
    "    \n",
    "    Parameters\n",
    "    ----------\n",
    "    pollGroup : DataFrame\n",
    "        A snippet of the main DataFrame used sliced to only include polls take a week prior to and a week \n",
    "        after the dropout suspends their campaign.\n",
    "    dropout : str\n",
    "        The name of the candidate that dropped out.\n",
    "    cand : str\n",
    "        The name of the candidate whose average polling is being calculated.\n",
    "    \"\"\"\n",
    "    \n",
    "    tot = 0                             # used to as numerator in calculating the mean\n",
    "    count = 0                           # regular iterator\n",
    "    dateCount = 0                       # used to as denomiator in calculating the mean\n",
    "    iterDate = pollGroup.index[count]   # used to check where date is relative to the date of suspension\n",
    "    \n",
    "    # Get the date iterator to the dropout date\n",
    "    while candidates['date'][dropout] - iterDate >= datetime.timedelta(days=0):\n",
    "        count += 1\n",
    "        iterDate = pollGroup.index[count]\n",
    "    \n",
    "    # Iterates through poll grouping conducted in the week after a candidate dropped out of the race\n",
    "    while count < len(pollGroup.index):\n",
    "        iterDate = pollGroup.index[count]\n",
    "        diff = dateDiff(dropout, iterDate)\n",
    "        candCount = pollGroup[cand][count]\n",
    "        \n",
    "        if math.isnan(candCount) == False:    # only uses numbers\n",
    "            tot += candCount * diff           # gives weight to polls conducted further away from the date of dropping\n",
    "            dateCount += diff\n",
    "        count += 1\n",
    "        \n",
    "    if dateCount == 0:    # can't divide by zero, so just return 0 if no polls conducted after date of dropping\n",
    "        return float('nan')\n",
    "    else:\n",
    "        return tot/dateCount"
   ]
  },
  {
   "cell_type": "markdown",
   "metadata": {},
   "source": [
    "Function to get weighted average polling for all other candidtates after a candidate drops out."
   ]
  },
  {
   "cell_type": "code",
   "execution_count": 9,
   "metadata": {
    "collapsed": true
   },
   "outputs": [],
   "source": [
    "def AfterAverages(pollGroup, dropout):\n",
    "    \"\"\"Returns a list of average polling for all active candidate in the week after another\n",
    "       candidate drops out of the race.\n",
    "    \n",
    "    Parameters\n",
    "    ----------\n",
    "    pollGroup : DataFrame\n",
    "        A snippet of the main DataFrame used sliced to only include polls take a week prior to and a week \n",
    "        after the dropout suspends their campaign.\n",
    "    dropout : str\n",
    "        The name of the candidate that dropped out.\n",
    "    \"\"\"\n",
    "    \n",
    "    averages = []\n",
    "    for c in pollGroup.columns:\n",
    "        averages.append(getAfterAverage(pollGroup, dropout, c))\n",
    "    return averages"
   ]
  },
  {
   "cell_type": "markdown",
   "metadata": {},
   "source": [
    "## Data Modeling Functions Apllications"
   ]
  },
  {
   "cell_type": "markdown",
   "metadata": {},
   "source": [
    "Create a list of dictionaries holding the name of each candidate that suspended their campaign and the DataFrames of polling data from a week before to a week after that candidate suspended their campaign."
   ]
  },
  {
   "cell_type": "code",
   "execution_count": 10,
   "metadata": {
    "collapsed": false
   },
   "outputs": [],
   "source": [
    "pollList = []\n",
    "\n",
    "pollIndex = [c for c in candidates.index if candidates.dropped[c] == True]\n",
    "for p in pollIndex:\n",
    "    pollList.append({'name': p, 'poll': stats.BiWeekPolling(polls, candidates, p)})"
   ]
  },
  {
   "cell_type": "markdown",
   "metadata": {},
   "source": [
    "Create a DataFrame indexed by the candidates that dropped out of the race during the primaries. Each column holds other candidates' average polling numbers in the week prior to a candidate's campaign suspension.\n",
    "\n",
    "Each cell contains the polling for a candidate in the column the week before the candidate in the row dropped out."
   ]
  },
  {
   "cell_type": "code",
   "execution_count": 11,
   "metadata": {
    "collapsed": false
   },
   "outputs": [
    {
     "data": {
      "text/html": [
       "<div>\n",
       "<table border=\"1\" class=\"dataframe\">\n",
       "  <thead>\n",
       "    <tr style=\"text-align: right;\">\n",
       "      <th></th>\n",
       "      <th>Trump</th>\n",
       "      <th>Cruz</th>\n",
       "      <th>Kasich</th>\n",
       "      <th>Bush</th>\n",
       "      <th>Carson</th>\n",
       "      <th>Christie</th>\n",
       "      <th>Fiorina</th>\n",
       "      <th>Gilmore</th>\n",
       "      <th>Huckabee</th>\n",
       "      <th>Paul</th>\n",
       "      <th>Rubio</th>\n",
       "      <th>Santorum</th>\n",
       "      <th>Undecided</th>\n",
       "    </tr>\n",
       "    <tr>\n",
       "      <th>name</th>\n",
       "      <th></th>\n",
       "      <th></th>\n",
       "      <th></th>\n",
       "      <th></th>\n",
       "      <th></th>\n",
       "      <th></th>\n",
       "      <th></th>\n",
       "      <th></th>\n",
       "      <th></th>\n",
       "      <th></th>\n",
       "      <th></th>\n",
       "      <th></th>\n",
       "      <th></th>\n",
       "    </tr>\n",
       "  </thead>\n",
       "  <tbody>\n",
       "    <tr>\n",
       "      <th>Bush</th>\n",
       "      <td>38.140144</td>\n",
       "      <td>19.488856</td>\n",
       "      <td>6.013456</td>\n",
       "      <td>5.023567</td>\n",
       "      <td>8.067111</td>\n",
       "      <td>NaN</td>\n",
       "      <td>NaN</td>\n",
       "      <td>NaN</td>\n",
       "      <td>NaN</td>\n",
       "      <td>NaN</td>\n",
       "      <td>13.109856</td>\n",
       "      <td>NaN</td>\n",
       "      <td>10.157011</td>\n",
       "    </tr>\n",
       "    <tr>\n",
       "      <th>Carson</th>\n",
       "      <td>41.170333</td>\n",
       "      <td>17.902537</td>\n",
       "      <td>7.486778</td>\n",
       "      <td>NaN</td>\n",
       "      <td>7.980000</td>\n",
       "      <td>NaN</td>\n",
       "      <td>NaN</td>\n",
       "      <td>NaN</td>\n",
       "      <td>NaN</td>\n",
       "      <td>NaN</td>\n",
       "      <td>16.522907</td>\n",
       "      <td>NaN</td>\n",
       "      <td>8.937444</td>\n",
       "    </tr>\n",
       "    <tr>\n",
       "      <th>Christie</th>\n",
       "      <td>35.636463</td>\n",
       "      <td>20.414833</td>\n",
       "      <td>4.203944</td>\n",
       "      <td>4.474870</td>\n",
       "      <td>7.665000</td>\n",
       "      <td>2.553944</td>\n",
       "      <td>2.055000</td>\n",
       "      <td>0.028333</td>\n",
       "      <td>NaN</td>\n",
       "      <td>NaN</td>\n",
       "      <td>14.937148</td>\n",
       "      <td>NaN</td>\n",
       "      <td>8.030463</td>\n",
       "    </tr>\n",
       "    <tr>\n",
       "      <th>Fiorina</th>\n",
       "      <td>35.636463</td>\n",
       "      <td>20.414833</td>\n",
       "      <td>4.203944</td>\n",
       "      <td>4.474870</td>\n",
       "      <td>7.665000</td>\n",
       "      <td>2.553944</td>\n",
       "      <td>2.055000</td>\n",
       "      <td>0.028333</td>\n",
       "      <td>NaN</td>\n",
       "      <td>NaN</td>\n",
       "      <td>14.937148</td>\n",
       "      <td>NaN</td>\n",
       "      <td>8.030463</td>\n",
       "    </tr>\n",
       "    <tr>\n",
       "      <th>Gilmore</th>\n",
       "      <td>38.472074</td>\n",
       "      <td>19.490704</td>\n",
       "      <td>3.968685</td>\n",
       "      <td>5.519241</td>\n",
       "      <td>8.712963</td>\n",
       "      <td>NaN</td>\n",
       "      <td>NaN</td>\n",
       "      <td>0.026111</td>\n",
       "      <td>NaN</td>\n",
       "      <td>NaN</td>\n",
       "      <td>12.752370</td>\n",
       "      <td>NaN</td>\n",
       "      <td>11.057852</td>\n",
       "    </tr>\n",
       "    <tr>\n",
       "      <th>Huckabee</th>\n",
       "      <td>38.020667</td>\n",
       "      <td>17.741667</td>\n",
       "      <td>4.540667</td>\n",
       "      <td>4.465667</td>\n",
       "      <td>7.156111</td>\n",
       "      <td>1.961611</td>\n",
       "      <td>1.566778</td>\n",
       "      <td>0.160667</td>\n",
       "      <td>1.730333</td>\n",
       "      <td>2.684500</td>\n",
       "      <td>11.567389</td>\n",
       "      <td>0.770889</td>\n",
       "      <td>7.633056</td>\n",
       "    </tr>\n",
       "    <tr>\n",
       "      <th>Paul</th>\n",
       "      <td>38.997597</td>\n",
       "      <td>17.916708</td>\n",
       "      <td>4.708042</td>\n",
       "      <td>4.279569</td>\n",
       "      <td>6.926528</td>\n",
       "      <td>2.422278</td>\n",
       "      <td>1.637361</td>\n",
       "      <td>0.274167</td>\n",
       "      <td>NaN</td>\n",
       "      <td>2.636917</td>\n",
       "      <td>12.067542</td>\n",
       "      <td>0.658264</td>\n",
       "      <td>7.475028</td>\n",
       "    </tr>\n",
       "    <tr>\n",
       "      <th>Rubio</th>\n",
       "      <td>43.478426</td>\n",
       "      <td>22.191204</td>\n",
       "      <td>10.071944</td>\n",
       "      <td>NaN</td>\n",
       "      <td>NaN</td>\n",
       "      <td>NaN</td>\n",
       "      <td>NaN</td>\n",
       "      <td>NaN</td>\n",
       "      <td>NaN</td>\n",
       "      <td>NaN</td>\n",
       "      <td>11.281481</td>\n",
       "      <td>NaN</td>\n",
       "      <td>12.976944</td>\n",
       "    </tr>\n",
       "    <tr>\n",
       "      <th>Santorum</th>\n",
       "      <td>38.997597</td>\n",
       "      <td>17.916708</td>\n",
       "      <td>4.708042</td>\n",
       "      <td>4.279569</td>\n",
       "      <td>6.926528</td>\n",
       "      <td>2.422278</td>\n",
       "      <td>1.637361</td>\n",
       "      <td>0.274167</td>\n",
       "      <td>NaN</td>\n",
       "      <td>2.636917</td>\n",
       "      <td>12.067542</td>\n",
       "      <td>0.658264</td>\n",
       "      <td>7.475028</td>\n",
       "    </tr>\n",
       "  </tbody>\n",
       "</table>\n",
       "</div>"
      ],
      "text/plain": [
       "              Trump       Cruz     Kasich      Bush    Carson  Christie  \\\n",
       "name                                                                      \n",
       "Bush      38.140144  19.488856   6.013456  5.023567  8.067111       NaN   \n",
       "Carson    41.170333  17.902537   7.486778       NaN  7.980000       NaN   \n",
       "Christie  35.636463  20.414833   4.203944  4.474870  7.665000  2.553944   \n",
       "Fiorina   35.636463  20.414833   4.203944  4.474870  7.665000  2.553944   \n",
       "Gilmore   38.472074  19.490704   3.968685  5.519241  8.712963       NaN   \n",
       "Huckabee  38.020667  17.741667   4.540667  4.465667  7.156111  1.961611   \n",
       "Paul      38.997597  17.916708   4.708042  4.279569  6.926528  2.422278   \n",
       "Rubio     43.478426  22.191204  10.071944       NaN       NaN       NaN   \n",
       "Santorum  38.997597  17.916708   4.708042  4.279569  6.926528  2.422278   \n",
       "\n",
       "           Fiorina   Gilmore  Huckabee      Paul      Rubio  Santorum  \\\n",
       "name                                                                    \n",
       "Bush           NaN       NaN       NaN       NaN  13.109856       NaN   \n",
       "Carson         NaN       NaN       NaN       NaN  16.522907       NaN   \n",
       "Christie  2.055000  0.028333       NaN       NaN  14.937148       NaN   \n",
       "Fiorina   2.055000  0.028333       NaN       NaN  14.937148       NaN   \n",
       "Gilmore        NaN  0.026111       NaN       NaN  12.752370       NaN   \n",
       "Huckabee  1.566778  0.160667  1.730333  2.684500  11.567389  0.770889   \n",
       "Paul      1.637361  0.274167       NaN  2.636917  12.067542  0.658264   \n",
       "Rubio          NaN       NaN       NaN       NaN  11.281481       NaN   \n",
       "Santorum  1.637361  0.274167       NaN  2.636917  12.067542  0.658264   \n",
       "\n",
       "          Undecided  \n",
       "name                 \n",
       "Bush      10.157011  \n",
       "Carson     8.937444  \n",
       "Christie   8.030463  \n",
       "Fiorina    8.030463  \n",
       "Gilmore   11.057852  \n",
       "Huckabee   7.633056  \n",
       "Paul       7.475028  \n",
       "Rubio     12.976944  \n",
       "Santorum   7.475028  "
      ]
     },
     "execution_count": 11,
     "metadata": {},
     "output_type": "execute_result"
    }
   ],
   "source": [
    "WeekBeforeDrop = []\n",
    "\n",
    "for p in range(len(pollList)):\n",
    "    WeekBeforeDrop.append(BeforeAverages(pollList[p]['poll'], pollList[p]['name']))\n",
    "    \n",
    "PollingBeforeDrop = pd.DataFrame(WeekBeforeDrop, columns=polls.columns, index=pollIndex)\n",
    "PollingBeforeDrop.index.names = ['name']\n",
    "stats.Equals100(PollingBeforeDrop)\n",
    "PollingBeforeDrop"
   ]
  },
  {
   "cell_type": "markdown",
   "metadata": {},
   "source": [
    "Create a DataFrame indexed by the candidates that dropped out of the race during the primaries. Each column holds other candidates' average polling numbers in the week after a candidate's campaign suspension.\n",
    "\n",
    "Each cell contains the polling for a candidate in the column the week after the candidate in the row dropped out."
   ]
  },
  {
   "cell_type": "code",
   "execution_count": 12,
   "metadata": {
    "collapsed": false
   },
   "outputs": [
    {
     "data": {
      "text/html": [
       "<div>\n",
       "<table border=\"1\" class=\"dataframe\">\n",
       "  <thead>\n",
       "    <tr style=\"text-align: right;\">\n",
       "      <th></th>\n",
       "      <th>Trump</th>\n",
       "      <th>Cruz</th>\n",
       "      <th>Kasich</th>\n",
       "      <th>Bush</th>\n",
       "      <th>Carson</th>\n",
       "      <th>Christie</th>\n",
       "      <th>Fiorina</th>\n",
       "      <th>Gilmore</th>\n",
       "      <th>Huckabee</th>\n",
       "      <th>Paul</th>\n",
       "      <th>Rubio</th>\n",
       "      <th>Santorum</th>\n",
       "      <th>Undecided</th>\n",
       "    </tr>\n",
       "    <tr>\n",
       "      <th>name</th>\n",
       "      <th></th>\n",
       "      <th></th>\n",
       "      <th></th>\n",
       "      <th></th>\n",
       "      <th></th>\n",
       "      <th></th>\n",
       "      <th></th>\n",
       "      <th></th>\n",
       "      <th></th>\n",
       "      <th></th>\n",
       "      <th></th>\n",
       "      <th></th>\n",
       "      <th></th>\n",
       "    </tr>\n",
       "  </thead>\n",
       "  <tbody>\n",
       "    <tr>\n",
       "      <th>Bush</th>\n",
       "      <td>37.121489</td>\n",
       "      <td>19.401219</td>\n",
       "      <td>8.366950</td>\n",
       "      <td>NaN</td>\n",
       "      <td>7.556389</td>\n",
       "      <td>NaN</td>\n",
       "      <td>NaN</td>\n",
       "      <td>NaN</td>\n",
       "      <td>NaN</td>\n",
       "      <td>NaN</td>\n",
       "      <td>15.414469</td>\n",
       "      <td>NaN</td>\n",
       "      <td>12.139483</td>\n",
       "    </tr>\n",
       "    <tr>\n",
       "      <th>Carson</th>\n",
       "      <td>44.160089</td>\n",
       "      <td>21.994800</td>\n",
       "      <td>10.422659</td>\n",
       "      <td>NaN</td>\n",
       "      <td>NaN</td>\n",
       "      <td>NaN</td>\n",
       "      <td>NaN</td>\n",
       "      <td>NaN</td>\n",
       "      <td>NaN</td>\n",
       "      <td>NaN</td>\n",
       "      <td>11.807244</td>\n",
       "      <td>NaN</td>\n",
       "      <td>11.615207</td>\n",
       "    </tr>\n",
       "    <tr>\n",
       "      <th>Christie</th>\n",
       "      <td>37.599087</td>\n",
       "      <td>19.257773</td>\n",
       "      <td>7.270493</td>\n",
       "      <td>4.415913</td>\n",
       "      <td>7.944734</td>\n",
       "      <td>NaN</td>\n",
       "      <td>NaN</td>\n",
       "      <td>0.033333</td>\n",
       "      <td>NaN</td>\n",
       "      <td>NaN</td>\n",
       "      <td>13.455768</td>\n",
       "      <td>NaN</td>\n",
       "      <td>10.022898</td>\n",
       "    </tr>\n",
       "    <tr>\n",
       "      <th>Fiorina</th>\n",
       "      <td>37.599087</td>\n",
       "      <td>19.257773</td>\n",
       "      <td>7.270493</td>\n",
       "      <td>4.415913</td>\n",
       "      <td>7.944734</td>\n",
       "      <td>NaN</td>\n",
       "      <td>NaN</td>\n",
       "      <td>0.033333</td>\n",
       "      <td>NaN</td>\n",
       "      <td>NaN</td>\n",
       "      <td>13.455768</td>\n",
       "      <td>NaN</td>\n",
       "      <td>10.022898</td>\n",
       "    </tr>\n",
       "    <tr>\n",
       "      <th>Gilmore</th>\n",
       "      <td>37.339127</td>\n",
       "      <td>19.338353</td>\n",
       "      <td>7.391210</td>\n",
       "      <td>4.308426</td>\n",
       "      <td>8.010317</td>\n",
       "      <td>NaN</td>\n",
       "      <td>NaN</td>\n",
       "      <td>NaN</td>\n",
       "      <td>NaN</td>\n",
       "      <td>NaN</td>\n",
       "      <td>13.562917</td>\n",
       "      <td>NaN</td>\n",
       "      <td>10.049649</td>\n",
       "    </tr>\n",
       "    <tr>\n",
       "      <th>Huckabee</th>\n",
       "      <td>35.769601</td>\n",
       "      <td>19.234263</td>\n",
       "      <td>4.481146</td>\n",
       "      <td>4.043949</td>\n",
       "      <td>7.192677</td>\n",
       "      <td>2.599379</td>\n",
       "      <td>1.872727</td>\n",
       "      <td>0.086364</td>\n",
       "      <td>NaN</td>\n",
       "      <td>2.6785</td>\n",
       "      <td>15.081157</td>\n",
       "      <td>0.300833</td>\n",
       "      <td>6.659404</td>\n",
       "    </tr>\n",
       "    <tr>\n",
       "      <th>Paul</th>\n",
       "      <td>38.626753</td>\n",
       "      <td>19.554844</td>\n",
       "      <td>4.105089</td>\n",
       "      <td>5.665908</td>\n",
       "      <td>8.744583</td>\n",
       "      <td>2.590389</td>\n",
       "      <td>2.161944</td>\n",
       "      <td>0.027833</td>\n",
       "      <td>NaN</td>\n",
       "      <td>NaN</td>\n",
       "      <td>12.603136</td>\n",
       "      <td>NaN</td>\n",
       "      <td>5.919519</td>\n",
       "    </tr>\n",
       "    <tr>\n",
       "      <th>Rubio</th>\n",
       "      <td>42.008203</td>\n",
       "      <td>26.025790</td>\n",
       "      <td>14.387865</td>\n",
       "      <td>NaN</td>\n",
       "      <td>NaN</td>\n",
       "      <td>NaN</td>\n",
       "      <td>NaN</td>\n",
       "      <td>NaN</td>\n",
       "      <td>NaN</td>\n",
       "      <td>NaN</td>\n",
       "      <td>NaN</td>\n",
       "      <td>NaN</td>\n",
       "      <td>17.578142</td>\n",
       "    </tr>\n",
       "    <tr>\n",
       "      <th>Santorum</th>\n",
       "      <td>38.626753</td>\n",
       "      <td>19.554844</td>\n",
       "      <td>4.105089</td>\n",
       "      <td>5.665908</td>\n",
       "      <td>8.744583</td>\n",
       "      <td>2.590389</td>\n",
       "      <td>2.161944</td>\n",
       "      <td>0.027833</td>\n",
       "      <td>NaN</td>\n",
       "      <td>NaN</td>\n",
       "      <td>12.603136</td>\n",
       "      <td>NaN</td>\n",
       "      <td>5.919519</td>\n",
       "    </tr>\n",
       "  </tbody>\n",
       "</table>\n",
       "</div>"
      ],
      "text/plain": [
       "              Trump       Cruz     Kasich      Bush    Carson  Christie  \\\n",
       "name                                                                      \n",
       "Bush      37.121489  19.401219   8.366950       NaN  7.556389       NaN   \n",
       "Carson    44.160089  21.994800  10.422659       NaN       NaN       NaN   \n",
       "Christie  37.599087  19.257773   7.270493  4.415913  7.944734       NaN   \n",
       "Fiorina   37.599087  19.257773   7.270493  4.415913  7.944734       NaN   \n",
       "Gilmore   37.339127  19.338353   7.391210  4.308426  8.010317       NaN   \n",
       "Huckabee  35.769601  19.234263   4.481146  4.043949  7.192677  2.599379   \n",
       "Paul      38.626753  19.554844   4.105089  5.665908  8.744583  2.590389   \n",
       "Rubio     42.008203  26.025790  14.387865       NaN       NaN       NaN   \n",
       "Santorum  38.626753  19.554844   4.105089  5.665908  8.744583  2.590389   \n",
       "\n",
       "           Fiorina   Gilmore  Huckabee    Paul      Rubio  Santorum  Undecided  \n",
       "name                                                                            \n",
       "Bush           NaN       NaN       NaN     NaN  15.414469       NaN  12.139483  \n",
       "Carson         NaN       NaN       NaN     NaN  11.807244       NaN  11.615207  \n",
       "Christie       NaN  0.033333       NaN     NaN  13.455768       NaN  10.022898  \n",
       "Fiorina        NaN  0.033333       NaN     NaN  13.455768       NaN  10.022898  \n",
       "Gilmore        NaN       NaN       NaN     NaN  13.562917       NaN  10.049649  \n",
       "Huckabee  1.872727  0.086364       NaN  2.6785  15.081157  0.300833   6.659404  \n",
       "Paul      2.161944  0.027833       NaN     NaN  12.603136       NaN   5.919519  \n",
       "Rubio          NaN       NaN       NaN     NaN        NaN       NaN  17.578142  \n",
       "Santorum  2.161944  0.027833       NaN     NaN  12.603136       NaN   5.919519  "
      ]
     },
     "execution_count": 12,
     "metadata": {},
     "output_type": "execute_result"
    }
   ],
   "source": [
    "WeekAfterDrop = []\n",
    "\n",
    "for p in range(len(pollList)):\n",
    "    WeekAfterDrop.append(AfterAverages(pollList[p]['poll'], pollList[p]['name']))\n",
    "    \n",
    "PollingAfterDrop = pd.DataFrame(WeekAfterDrop, columns=polls.columns, index=pollIndex)\n",
    "PollingAfterDrop.index.names = ['name']\n",
    "stats.Equals100(PollingAfterDrop)\n",
    "PollingAfterDrop"
   ]
  },
  {
   "cell_type": "markdown",
   "metadata": {},
   "source": [
    "## Testing\n",
    "Confirm DataFrame snippets are working as expected. Test on Jeb Bush."
   ]
  },
  {
   "cell_type": "markdown",
   "metadata": {},
   "source": [
    "Display date of drop."
   ]
  },
  {
   "cell_type": "code",
   "execution_count": 13,
   "metadata": {
    "collapsed": false
   },
   "outputs": [
    {
     "data": {
      "text/plain": [
       "Timestamp('2016-02-16 00:00:00')"
      ]
     },
     "execution_count": 13,
     "metadata": {},
     "output_type": "execute_result"
    }
   ],
   "source": [
    "candidates['date']['Bush']"
   ]
  },
  {
   "cell_type": "markdown",
   "metadata": {},
   "source": [
    "Confirm data is saved properly after being pushed to a list of dictionaries."
   ]
  },
  {
   "cell_type": "code",
   "execution_count": 14,
   "metadata": {
    "collapsed": false
   },
   "outputs": [],
   "source": [
    "BushPolls1 = polls[(polls.index > candidates['date']['Bush'] - datetime.timedelta(days=7)) \\\n",
    "     & (polls.index < candidates['date']['Bush'] + datetime.timedelta(days=9))]\n",
    "BushPoll2 = pollList[1]['poll']\n",
    "assert all(BushPolls1) == all(BushPoll2)"
   ]
  },
  {
   "cell_type": "markdown",
   "metadata": {},
   "source": [
    "Display polling for candidates a week before to a week after Jeb Bush dropped."
   ]
  },
  {
   "cell_type": "code",
   "execution_count": 15,
   "metadata": {
    "collapsed": false
   },
   "outputs": [
    {
     "data": {
      "text/html": [
       "<div>\n",
       "<table border=\"1\" class=\"dataframe\">\n",
       "  <thead>\n",
       "    <tr style=\"text-align: right;\">\n",
       "      <th></th>\n",
       "      <th>Trump</th>\n",
       "      <th>Cruz</th>\n",
       "      <th>Kasich</th>\n",
       "      <th>Bush</th>\n",
       "      <th>Carson</th>\n",
       "      <th>Christie</th>\n",
       "      <th>Fiorina</th>\n",
       "      <th>Gilmore</th>\n",
       "      <th>Huckabee</th>\n",
       "      <th>Paul</th>\n",
       "      <th>Rubio</th>\n",
       "      <th>Santorum</th>\n",
       "      <th>Undecided</th>\n",
       "    </tr>\n",
       "    <tr>\n",
       "      <th>date</th>\n",
       "      <th></th>\n",
       "      <th></th>\n",
       "      <th></th>\n",
       "      <th></th>\n",
       "      <th></th>\n",
       "      <th></th>\n",
       "      <th></th>\n",
       "      <th></th>\n",
       "      <th></th>\n",
       "      <th></th>\n",
       "      <th></th>\n",
       "      <th></th>\n",
       "      <th></th>\n",
       "    </tr>\n",
       "  </thead>\n",
       "  <tbody>\n",
       "    <tr>\n",
       "      <th>2016-02-10</th>\n",
       "      <td>36.076778</td>\n",
       "      <td>21.743778</td>\n",
       "      <td>3.265500</td>\n",
       "      <td>5.937722</td>\n",
       "      <td>9.710000</td>\n",
       "      <td>2.624389</td>\n",
       "      <td>2.435556</td>\n",
       "      <td>0.023333</td>\n",
       "      <td>NaN</td>\n",
       "      <td>NaN</td>\n",
       "      <td>13.378778</td>\n",
       "      <td>NaN</td>\n",
       "      <td>4.804167</td>\n",
       "    </tr>\n",
       "    <tr>\n",
       "      <th>2016-02-11</th>\n",
       "      <td>42.229333</td>\n",
       "      <td>17.840944</td>\n",
       "      <td>4.795056</td>\n",
       "      <td>6.481444</td>\n",
       "      <td>8.870000</td>\n",
       "      <td>NaN</td>\n",
       "      <td>NaN</td>\n",
       "      <td>0.033333</td>\n",
       "      <td>NaN</td>\n",
       "      <td>NaN</td>\n",
       "      <td>10.468722</td>\n",
       "      <td>NaN</td>\n",
       "      <td>9.281167</td>\n",
       "    </tr>\n",
       "    <tr>\n",
       "      <th>2016-02-14</th>\n",
       "      <td>38.197778</td>\n",
       "      <td>18.908889</td>\n",
       "      <td>7.072222</td>\n",
       "      <td>3.708333</td>\n",
       "      <td>7.451667</td>\n",
       "      <td>NaN</td>\n",
       "      <td>NaN</td>\n",
       "      <td>NaN</td>\n",
       "      <td>NaN</td>\n",
       "      <td>NaN</td>\n",
       "      <td>13.016667</td>\n",
       "      <td>NaN</td>\n",
       "      <td>11.644444</td>\n",
       "    </tr>\n",
       "    <tr>\n",
       "      <th>2016-02-15</th>\n",
       "      <td>37.966778</td>\n",
       "      <td>19.462944</td>\n",
       "      <td>7.745222</td>\n",
       "      <td>4.602167</td>\n",
       "      <td>5.482778</td>\n",
       "      <td>NaN</td>\n",
       "      <td>NaN</td>\n",
       "      <td>NaN</td>\n",
       "      <td>NaN</td>\n",
       "      <td>NaN</td>\n",
       "      <td>15.216833</td>\n",
       "      <td>NaN</td>\n",
       "      <td>9.523278</td>\n",
       "    </tr>\n",
       "    <tr>\n",
       "      <th>2016-02-16</th>\n",
       "      <td>36.230056</td>\n",
       "      <td>19.487722</td>\n",
       "      <td>7.189278</td>\n",
       "      <td>4.388167</td>\n",
       "      <td>8.821111</td>\n",
       "      <td>NaN</td>\n",
       "      <td>NaN</td>\n",
       "      <td>NaN</td>\n",
       "      <td>NaN</td>\n",
       "      <td>NaN</td>\n",
       "      <td>13.468278</td>\n",
       "      <td>NaN</td>\n",
       "      <td>10.415389</td>\n",
       "    </tr>\n",
       "    <tr>\n",
       "      <th>2016-02-17</th>\n",
       "      <td>37.506333</td>\n",
       "      <td>19.315889</td>\n",
       "      <td>7.467944</td>\n",
       "      <td>NaN</td>\n",
       "      <td>9.101667</td>\n",
       "      <td>NaN</td>\n",
       "      <td>NaN</td>\n",
       "      <td>NaN</td>\n",
       "      <td>NaN</td>\n",
       "      <td>NaN</td>\n",
       "      <td>12.864778</td>\n",
       "      <td>NaN</td>\n",
       "      <td>13.743389</td>\n",
       "    </tr>\n",
       "    <tr>\n",
       "      <th>2016-02-21</th>\n",
       "      <td>36.843778</td>\n",
       "      <td>19.274833</td>\n",
       "      <td>7.610611</td>\n",
       "      <td>NaN</td>\n",
       "      <td>7.456111</td>\n",
       "      <td>NaN</td>\n",
       "      <td>NaN</td>\n",
       "      <td>NaN</td>\n",
       "      <td>NaN</td>\n",
       "      <td>NaN</td>\n",
       "      <td>14.727611</td>\n",
       "      <td>NaN</td>\n",
       "      <td>14.087056</td>\n",
       "    </tr>\n",
       "    <tr>\n",
       "      <th>2016-02-22</th>\n",
       "      <td>36.851722</td>\n",
       "      <td>17.898833</td>\n",
       "      <td>10.037889</td>\n",
       "      <td>NaN</td>\n",
       "      <td>7.633889</td>\n",
       "      <td>NaN</td>\n",
       "      <td>NaN</td>\n",
       "      <td>NaN</td>\n",
       "      <td>NaN</td>\n",
       "      <td>NaN</td>\n",
       "      <td>17.986056</td>\n",
       "      <td>NaN</td>\n",
       "      <td>9.591611</td>\n",
       "    </tr>\n",
       "    <tr>\n",
       "      <th>2016-02-24</th>\n",
       "      <td>37.449278</td>\n",
       "      <td>20.617667</td>\n",
       "      <td>7.698833</td>\n",
       "      <td>NaN</td>\n",
       "      <td>7.367778</td>\n",
       "      <td>NaN</td>\n",
       "      <td>NaN</td>\n",
       "      <td>NaN</td>\n",
       "      <td>NaN</td>\n",
       "      <td>NaN</td>\n",
       "      <td>14.233778</td>\n",
       "      <td>NaN</td>\n",
       "      <td>12.632667</td>\n",
       "    </tr>\n",
       "  </tbody>\n",
       "</table>\n",
       "</div>"
      ],
      "text/plain": [
       "                Trump       Cruz     Kasich      Bush    Carson  Christie  \\\n",
       "date                                                                        \n",
       "2016-02-10  36.076778  21.743778   3.265500  5.937722  9.710000  2.624389   \n",
       "2016-02-11  42.229333  17.840944   4.795056  6.481444  8.870000       NaN   \n",
       "2016-02-14  38.197778  18.908889   7.072222  3.708333  7.451667       NaN   \n",
       "2016-02-15  37.966778  19.462944   7.745222  4.602167  5.482778       NaN   \n",
       "2016-02-16  36.230056  19.487722   7.189278  4.388167  8.821111       NaN   \n",
       "2016-02-17  37.506333  19.315889   7.467944       NaN  9.101667       NaN   \n",
       "2016-02-21  36.843778  19.274833   7.610611       NaN  7.456111       NaN   \n",
       "2016-02-22  36.851722  17.898833  10.037889       NaN  7.633889       NaN   \n",
       "2016-02-24  37.449278  20.617667   7.698833       NaN  7.367778       NaN   \n",
       "\n",
       "             Fiorina   Gilmore  Huckabee  Paul      Rubio  Santorum  Undecided  \n",
       "date                                                                            \n",
       "2016-02-10  2.435556  0.023333       NaN   NaN  13.378778       NaN   4.804167  \n",
       "2016-02-11       NaN  0.033333       NaN   NaN  10.468722       NaN   9.281167  \n",
       "2016-02-14       NaN       NaN       NaN   NaN  13.016667       NaN  11.644444  \n",
       "2016-02-15       NaN       NaN       NaN   NaN  15.216833       NaN   9.523278  \n",
       "2016-02-16       NaN       NaN       NaN   NaN  13.468278       NaN  10.415389  \n",
       "2016-02-17       NaN       NaN       NaN   NaN  12.864778       NaN  13.743389  \n",
       "2016-02-21       NaN       NaN       NaN   NaN  14.727611       NaN  14.087056  \n",
       "2016-02-22       NaN       NaN       NaN   NaN  17.986056       NaN   9.591611  \n",
       "2016-02-24       NaN       NaN       NaN   NaN  14.233778       NaN  12.632667  "
      ]
     },
     "execution_count": 15,
     "metadata": {},
     "output_type": "execute_result"
    }
   ],
   "source": [
    "BushPolls1"
   ]
  },
  {
   "cell_type": "markdown",
   "metadata": {},
   "source": [
    "Confirm polling data sums up to 100 for each poll"
   ]
  },
  {
   "cell_type": "code",
   "execution_count": 16,
   "metadata": {
    "collapsed": false
   },
   "outputs": [
    {
     "data": {
      "text/plain": [
       "100.0"
      ]
     },
     "execution_count": 16,
     "metadata": {},
     "output_type": "execute_result"
    }
   ],
   "source": [
    "sum(BushPolls1.loc['2016-02-22'].dropna())"
   ]
  },
  {
   "cell_type": "code",
   "execution_count": 17,
   "metadata": {
    "collapsed": false
   },
   "outputs": [],
   "source": [
    "assert sum(BushPolls1.loc['2016-02-10'].dropna()) == 100\n",
    "assert sum(BushPolls1.loc['2016-02-22'].dropna()) == 100"
   ]
  },
  {
   "cell_type": "markdown",
   "metadata": {},
   "source": [
    "Confirm polling before drop is accurate."
   ]
  },
  {
   "cell_type": "code",
   "execution_count": 18,
   "metadata": {
    "collapsed": false
   },
   "outputs": [],
   "source": [
    "BushBeforeAvgs1 = BeforeAverages(BushPolls1, 'Bush')\n",
    "BushBeforeAvgs2 = PollingBeforeDrop.loc['Bush']\n",
    "assert all(BushBeforeAvgs1) == all(list(BushBeforeAvgs2))\n",
    "assert sum(BushBeforeAvgs2.dropna()) == 100"
   ]
  },
  {
   "cell_type": "markdown",
   "metadata": {},
   "source": [
    "Display candidates' average polling data in the week before Jeb Bush suspended his campaign."
   ]
  },
  {
   "cell_type": "code",
   "execution_count": 19,
   "metadata": {
    "collapsed": false
   },
   "outputs": [
    {
     "name": "stdout",
     "output_type": "stream",
     "text": [
      "[38.140144444444445, 19.488855555555553, 6.0134555555555558, 5.0235666666666665, 8.067111111111112, nan, nan, nan, nan, nan, 13.109855555555551, nan, 9.1336888888888978]\n"
     ]
    }
   ],
   "source": [
    "print(BushBeforeAvgs1)"
   ]
  },
  {
   "cell_type": "markdown",
   "metadata": {},
   "source": [
    "Confrim polling after drop is accurate."
   ]
  },
  {
   "cell_type": "code",
   "execution_count": 20,
   "metadata": {
    "collapsed": true
   },
   "outputs": [],
   "source": [
    "BushAfterAvgs1 = AfterAverages(BushPolls1, 'Bush')\n",
    "BushAfterAvgs2 = PollingAfterDrop.loc['Bush']\n",
    "assert all(BushAfterAvgs1) == all(list(BushAfterAvgs2))"
   ]
  },
  {
   "cell_type": "markdown",
   "metadata": {},
   "source": [
    "Display candidates' average polling data in the week after Jeb Bush suspended his campaign."
   ]
  },
  {
   "cell_type": "code",
   "execution_count": 21,
   "metadata": {
    "collapsed": false
   },
   "outputs": [
    {
     "name": "stdout",
     "output_type": "stream",
     "text": [
      "[37.121488888888884, 19.401219444444443, 8.3669499999999992, nan, 7.5563888888888897, nan, nan, nan, nan, nan, 15.414469444444444, nan, 12.139483333333347]\n"
     ]
    }
   ],
   "source": [
    "print(BushAfterAvgs1)"
   ]
  },
  {
   "cell_type": "markdown",
   "metadata": {},
   "source": [
    "Polling data sums up to 100."
   ]
  },
  {
   "cell_type": "code",
   "execution_count": 22,
   "metadata": {
    "collapsed": true
   },
   "outputs": [],
   "source": [
    "for p in range(len(PollingBeforeDrop.index)):\n",
    "    assert sum(PollingBeforeDrop.iloc[p].dropna()) == 100\n",
    "    \n",
    "for p in range(len(PollingAfterDrop.index)):\n",
    "    assert sum(PollingAfterDrop.iloc[p].dropna()) == 100"
   ]
  },
  {
   "cell_type": "markdown",
   "metadata": {},
   "source": [
    "Graph Jeb Bush's data."
   ]
  },
  {
   "cell_type": "code",
   "execution_count": 23,
   "metadata": {
    "collapsed": false
   },
   "outputs": [
    {
     "data": {
      "text/plain": [
       "<matplotlib.legend.Legend at 0x7fcc155cdbe0>"
      ]
     },
     "execution_count": 23,
     "metadata": {},
     "output_type": "execute_result"
    },
    {
     "data": {
      "image/png": "[encoded data removed]",
      "text/plain": [
       "<matplotlib.figure.Figure at 0x7fcc15693240>"
      ]
     },
     "metadata": {},
     "output_type": "display_data"
    }
   ],
   "source": [
    "plt.figure(figsize=(20,10))\n",
    "\n",
    "plt.plot(BushPolls1.Trump)\n",
    "plt.plot(BushPolls1.Cruz)\n",
    "plt.plot(BushPolls1.Rubio)\n",
    "plt.plot(BushPolls1.Kasich)\n",
    "plt.plot(BushPolls1.Carson)\n",
    "plt.plot(BushPolls1.Bush)\n",
    "plt.plot(BushPolls1.Undecided)\n",
    "\n",
    "plt.axvline(candidates['date']['Bush'])\n",
    "\n",
    "plt.title(\"GOP Candidate Polling a Week Before/After Bush Dropped\", size=20)\n",
    "plt.xlabel(\"Date of Poll\", size=16)\n",
    "plt.ylabel(\"Polling Percentage\", size=16)\n",
    "\n",
    "# y limits are a little greater than needed to display the legend without blocking out data\n",
    "plt.ylim(0, 55)\n",
    "plt.legend(fontsize=14)"
   ]
  },
  {
   "cell_type": "markdown",
   "metadata": {},
   "source": [
    "## Write to File\n",
    "Write the DataFrames PollingBeforeDrop and PollingAfterDrop to two separte files to be analyzed in 05-Analysis.ipynb"
   ]
  },
  {
   "cell_type": "code",
   "execution_count": 24,
   "metadata": {
    "collapsed": true
   },
   "outputs": [],
   "source": [
    "PollingBeforeDrop.to_csv('PollingBeforeDrop.csv')\n",
    "PollingAfterDrop.to_csv('PollingAfterDrop.csv')"
   ]
  }
 ],
 "metadata": {
  "kernelspec": {
   "display_name": "Python 3",
   "language": "python",
   "name": "python3"
  },
  "language_info": {
   "codemirror_mode": {
    "name": "ipython",
    "version": 3
   },
   "file_extension": ".py",
   "mimetype": "text/x-python",
   "name": "python",
   "nbconvert_exporter": "python",
   "pygments_lexer": "ipython3",
   "version": "3.4.3"
  }
 },
 "nbformat": 4,
 "nbformat_minor": 0
}
