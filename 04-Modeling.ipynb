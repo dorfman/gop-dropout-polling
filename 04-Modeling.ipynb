{
 "cells": [
  {
   "cell_type": "markdown",
   "metadata": {},
   "source": [
    "# Modeling\n",
    "Data is separated on a candidate-basis to observe polls prior to and before a candidate suspends their campaign."
   ]
  },
  {
   "cell_type": "markdown",
   "metadata": {},
   "source": [
    "## Imports"
   ]
  },
  {
   "cell_type": "code",
   "execution_count": 1,
   "metadata": {
    "collapsed": true
   },
   "outputs": [],
   "source": [
    "%matplotlib inline\n",
    "import matplotlib.pyplot as plt\n",
    "import seaborn as sns\n",
    "\n",
    "import datetime\n",
    "import numpy as np\n",
    "import pandas as pd\n",
    "import os\n",
    "import math\n",
    "\n",
    "import stats"
   ]
  },
  {
   "cell_type": "markdown",
   "metadata": {},
   "source": [
    "## Read File Written in 02-DataCleaning"
   ]
  },
  {
   "cell_type": "code",
   "execution_count": 2,
   "metadata": {
    "collapsed": true
   },
   "outputs": [],
   "source": [
    "candidates = pd.read_csv('candidates.csv', index_col='name')"
   ]
  },
  {
   "cell_type": "markdown",
   "metadata": {},
   "source": [
    "## Read File Written in 03-Modeling"
   ]
  },
  {
   "cell_type": "code",
   "execution_count": 3,
   "metadata": {
    "collapsed": false
   },
   "outputs": [],
   "source": [
    "polls = pd.read_csv('bootPolls.csv')"
   ]
  },
  {
   "cell_type": "markdown",
   "metadata": {},
   "source": [
    "Convert date from string to datetime."
   ]
  },
  {
   "cell_type": "code",
   "execution_count": 4,
   "metadata": {
    "collapsed": false
   },
   "outputs": [],
   "source": [
    "polls.date = pd.Series(pd.DatetimeIndex(polls.date))\n",
    "polls.index = polls.date\n",
    "del polls['date']\n",
    "\n",
    "candidates.date = pd.to_datetime(candidates.date)\n",
    "\n",
    "stats.Equals100(polls)"
   ]
  },
  {
   "cell_type": "markdown",
   "metadata": {},
   "source": [
    "## Data Modeling Functions Defintions"
   ]
  },
  {
   "cell_type": "markdown",
   "metadata": {},
   "source": [
    "### Before Campaign Suspension"
   ]
  },
  {
   "cell_type": "markdown",
   "metadata": {},
   "source": [
    "Function to get average polling for a single active candidate before a candidate drops out."
   ]
  },
  {
   "cell_type": "code",
   "execution_count": 5,
   "metadata": {
    "collapsed": true
   },
   "outputs": [],
   "source": [
    "def getBeforeAverage(pollGroup, dropout, cand):\n",
    "    \"\"\"Returns average polling for a single candidate in the week prior to another candidate dropping out of the race.\n",
    "    \n",
    "    Parameters\n",
    "    ----------\n",
    "    pollGroup : DataFrame\n",
    "        A snippet of the main DataFrame used sliced to only include polls take a week prior to and a week \n",
    "        after the dropout suspends their campaign.\n",
    "    dropout : str\n",
    "        The name of the candidate that dropped out.\n",
    "    cand : str\n",
    "        The name of the candidate whose average polling is being calculated.\n",
    "    \"\"\"\n",
    "    \n",
    "    tot = 0                             # used to as numerator in calculating the mean\n",
    "    count = 0                           # regular iterator. Also used to as denominator in calculating the mean\n",
    "    iterDate = pollGroup.index[count]   # used to check where date is relative to the date of suspension\n",
    "    \n",
    "    while candidates['date'][dropout] - iterDate >= datetime.timedelta(days=0):\n",
    "        tot += pollGroup[cand][count]\n",
    "        count += 1\n",
    "        iterDate = pollGroup.index[count]\n",
    "\n",
    "    return tot/count"
   ]
  },
  {
   "cell_type": "markdown",
   "metadata": {},
   "source": [
    "Function to create list of average polling for all other candidates before a candidate drops out."
   ]
  },
  {
   "cell_type": "code",
   "execution_count": 6,
   "metadata": {
    "collapsed": false
   },
   "outputs": [],
   "source": [
    "def BeforeAverages(pollGroup, dropout):\n",
    "    \"\"\"Returns a list of average polling for all active candidate in the week prior to another\n",
    "       candidate dropping out of the race.\n",
    "    \n",
    "    Parameters\n",
    "    ----------\n",
    "    pollGroup : DataFrame\n",
    "        A snippet of the main DataFrame used sliced to only include polls take a week prior to and a week \n",
    "        after the dropout suspends their campaign.\n",
    "    dropout : str\n",
    "        The name of the candidate that dropped out.\n",
    "    \"\"\"\n",
    "    \n",
    "    averages = []\n",
    "    for c in pollGroup.columns:    # for each candidate\n",
    "        averages.append(getBeforeAverage(pollGroup, dropout, c))\n",
    "        \n",
    "    return averages"
   ]
  },
  {
   "cell_type": "markdown",
   "metadata": {},
   "source": [
    "### After Campaign Suspension"
   ]
  },
  {
   "cell_type": "markdown",
   "metadata": {},
   "source": [
    "Function to retrieve difference in days since date of suspension/dropout."
   ]
  },
  {
   "cell_type": "code",
   "execution_count": 7,
   "metadata": {
    "collapsed": true
   },
   "outputs": [],
   "source": [
    "def dateDiff(dropout, iterDate):\n",
    "    \"\"\"Returns difference in days between date iterator and the date a candidate dropped out of the race.\n",
    "    \n",
    "    Parameters\n",
    "    ----------\n",
    "    dropout : str\n",
    "        The name of the candidate that dropped out.\n",
    "    iterDate : str\n",
    "        The name of the candidate whose average polling is being calculated.\n",
    "    \"\"\"\n",
    "    return (iterDate - candidates['date'][dropout]).days"
   ]
  },
  {
   "cell_type": "markdown",
   "metadata": {},
   "source": [
    "Function to get weighted average polling for a single active candidate after a candidate drops out. Weight is determined by days after campaign suspension; the further away from the date of suspension, the more weight the polling data holds."
   ]
  },
  {
   "cell_type": "code",
   "execution_count": 8,
   "metadata": {
    "collapsed": false
   },
   "outputs": [],
   "source": [
    "def getAfterAverage(pollGroup, dropout, cand):\n",
    "    \"\"\"Returns average polling for a candidate in the week after another candidate drops out of the race.\n",
    "    \n",
    "    Parameters\n",
    "    ----------\n",
    "    pollGroup : DataFrame\n",
    "        A snippet of the main DataFrame used sliced to only include polls take a week prior to and a week \n",
    "        after the dropout suspends their campaign.\n",
    "    dropout : str\n",
    "        The name of the candidate that dropped out.\n",
    "    cand : str\n",
    "        The name of the candidate whose average polling is being calculated.\n",
    "    \"\"\"\n",
    "    \n",
    "    tot = 0                             # used to as numerator in calculating the mean\n",
    "    count = 0                           # regular iterator\n",
    "    dateCount = 0                       # used to as denomiator in calculating the mean\n",
    "    iterDate = pollGroup.index[count]   # used to check where date is relative to the date of suspension\n",
    "    \n",
    "    # Get the date iterator to the dropout date\n",
    "    while candidates['date'][dropout] - iterDate >= datetime.timedelta(days=0):\n",
    "        count += 1\n",
    "        iterDate = pollGroup.index[count]\n",
    "    \n",
    "    # Iterates through poll grouping conducted in the week after a candidate dropped out of the race\n",
    "    while count < len(pollGroup.index):\n",
    "        iterDate = pollGroup.index[count]\n",
    "        diff = dateDiff(dropout, iterDate)\n",
    "        candCount = pollGroup[cand][count]\n",
    "        \n",
    "        if math.isnan(candCount) == False:    # only uses numbers\n",
    "            tot += candCount * diff           # gives weight to polls conducted further away from the date of dropping\n",
    "            dateCount += diff\n",
    "        count += 1\n",
    "        \n",
    "    if dateCount == 0:    # can't divide by zero, so just return 0 if no polls conducted after date of dropping\n",
    "        return float('nan')\n",
    "    else:\n",
    "        return tot/dateCount"
   ]
  },
  {
   "cell_type": "markdown",
   "metadata": {},
   "source": [
    "Function to get weighted average polling for all other candidtates after a candidate drops out."
   ]
  },
  {
   "cell_type": "code",
   "execution_count": 9,
   "metadata": {
    "collapsed": true
   },
   "outputs": [],
   "source": [
    "def AfterAverages(pollGroup, dropout):\n",
    "    \"\"\"Returns a list of average polling for all active candidate in the week after another\n",
    "       candidate drops out of the race.\n",
    "    \n",
    "    Parameters\n",
    "    ----------\n",
    "    pollGroup : DataFrame\n",
    "        A snippet of the main DataFrame used sliced to only include polls take a week prior to and a week \n",
    "        after the dropout suspends their campaign.\n",
    "    dropout : str\n",
    "        The name of the candidate that dropped out.\n",
    "    \"\"\"\n",
    "    \n",
    "    averages = []\n",
    "    for c in pollGroup.columns:\n",
    "        averages.append(getAfterAverage(pollGroup, dropout, c))\n",
    "    return averages"
   ]
  },
  {
   "cell_type": "markdown",
   "metadata": {},
   "source": [
    "## Data Modeling Functions Apllications"
   ]
  },
  {
   "cell_type": "markdown",
   "metadata": {},
   "source": [
    "Create a list of dictionaries holding the name of each candidate that suspended their campaign and the DataFrames of polling data from a week before to a week after that candidate suspended their campaign."
   ]
  },
  {
   "cell_type": "code",
   "execution_count": 10,
   "metadata": {
    "collapsed": false
   },
   "outputs": [],
   "source": [
    "pollList = []\n",
    "\n",
    "pollIndex = [c for c in candidates.index if candidates.dropped[c] == True]\n",
    "for p in pollIndex:\n",
    "    pollList.append({'name': p, 'poll': stats.BiWeekPolling(polls, candidates, p)})"
   ]
  },
  {
   "cell_type": "markdown",
   "metadata": {},
   "source": [
    "Create a DataFrame indexed by the candidates that dropped out of the race during the primaries. Each column holds other candidates' average polling numbers in the week prior to a candidate's campaign suspension.\n",
    "\n",
    "Each cell contains the polling for a candidate in the column the week before the candidate in the row dropped out."
   ]
  },
  {
   "cell_type": "code",
   "execution_count": 11,
   "metadata": {
    "collapsed": false
   },
   "outputs": [
    {
     "data": {
      "text/html": [
       "<div>\n",
       "<table border=\"1\" class=\"dataframe\">\n",
       "  <thead>\n",
       "    <tr style=\"text-align: right;\">\n",
       "      <th></th>\n",
       "      <th>Trump</th>\n",
       "      <th>Cruz</th>\n",
       "      <th>Kasich</th>\n",
       "      <th>Bush</th>\n",
       "      <th>Carson</th>\n",
       "      <th>Christie</th>\n",
       "      <th>Fiorina</th>\n",
       "      <th>Gilmore</th>\n",
       "      <th>Huckabee</th>\n",
       "      <th>Paul</th>\n",
       "      <th>Rubio</th>\n",
       "      <th>Santorum</th>\n",
       "      <th>Undecided</th>\n",
       "    </tr>\n",
       "    <tr>\n",
       "      <th>name</th>\n",
       "      <th></th>\n",
       "      <th></th>\n",
       "      <th></th>\n",
       "      <th></th>\n",
       "      <th></th>\n",
       "      <th></th>\n",
       "      <th></th>\n",
       "      <th></th>\n",
       "      <th></th>\n",
       "      <th></th>\n",
       "      <th></th>\n",
       "      <th></th>\n",
       "      <th></th>\n",
       "    </tr>\n",
       "  </thead>\n",
       "  <tbody>\n",
       "    <tr>\n",
       "      <th>Bush</th>\n",
       "      <td>38.276356</td>\n",
       "      <td>19.521200</td>\n",
       "      <td>6.121322</td>\n",
       "      <td>4.954322</td>\n",
       "      <td>7.956667</td>\n",
       "      <td>NaN</td>\n",
       "      <td>NaN</td>\n",
       "      <td>NaN</td>\n",
       "      <td>NaN</td>\n",
       "      <td>NaN</td>\n",
       "      <td>13.066144</td>\n",
       "      <td>NaN</td>\n",
       "      <td>10.103989</td>\n",
       "    </tr>\n",
       "    <tr>\n",
       "      <th>Carson</th>\n",
       "      <td>41.183074</td>\n",
       "      <td>18.038500</td>\n",
       "      <td>7.575870</td>\n",
       "      <td>NaN</td>\n",
       "      <td>7.946481</td>\n",
       "      <td>NaN</td>\n",
       "      <td>NaN</td>\n",
       "      <td>NaN</td>\n",
       "      <td>NaN</td>\n",
       "      <td>NaN</td>\n",
       "      <td>16.259611</td>\n",
       "      <td>NaN</td>\n",
       "      <td>8.996463</td>\n",
       "    </tr>\n",
       "    <tr>\n",
       "      <th>Christie</th>\n",
       "      <td>35.758093</td>\n",
       "      <td>20.541815</td>\n",
       "      <td>4.385074</td>\n",
       "      <td>4.327389</td>\n",
       "      <td>7.459259</td>\n",
       "      <td>2.473130</td>\n",
       "      <td>2.026296</td>\n",
       "      <td>0.023333</td>\n",
       "      <td>NaN</td>\n",
       "      <td>NaN</td>\n",
       "      <td>14.967556</td>\n",
       "      <td>NaN</td>\n",
       "      <td>8.038056</td>\n",
       "    </tr>\n",
       "    <tr>\n",
       "      <th>Fiorina</th>\n",
       "      <td>35.758093</td>\n",
       "      <td>20.541815</td>\n",
       "      <td>4.385074</td>\n",
       "      <td>4.327389</td>\n",
       "      <td>7.459259</td>\n",
       "      <td>2.473130</td>\n",
       "      <td>2.026296</td>\n",
       "      <td>0.023333</td>\n",
       "      <td>NaN</td>\n",
       "      <td>NaN</td>\n",
       "      <td>14.967556</td>\n",
       "      <td>NaN</td>\n",
       "      <td>8.038056</td>\n",
       "    </tr>\n",
       "    <tr>\n",
       "      <th>Gilmore</th>\n",
       "      <td>38.685648</td>\n",
       "      <td>19.653519</td>\n",
       "      <td>4.193889</td>\n",
       "      <td>5.331019</td>\n",
       "      <td>8.527407</td>\n",
       "      <td>NaN</td>\n",
       "      <td>NaN</td>\n",
       "      <td>0.019444</td>\n",
       "      <td>NaN</td>\n",
       "      <td>NaN</td>\n",
       "      <td>12.698426</td>\n",
       "      <td>NaN</td>\n",
       "      <td>10.890648</td>\n",
       "    </tr>\n",
       "    <tr>\n",
       "      <th>Huckabee</th>\n",
       "      <td>38.281878</td>\n",
       "      <td>17.889956</td>\n",
       "      <td>4.706367</td>\n",
       "      <td>4.396089</td>\n",
       "      <td>7.009778</td>\n",
       "      <td>1.915422</td>\n",
       "      <td>1.520222</td>\n",
       "      <td>0.155667</td>\n",
       "      <td>1.730667</td>\n",
       "      <td>2.632067</td>\n",
       "      <td>11.288289</td>\n",
       "      <td>0.763278</td>\n",
       "      <td>7.710322</td>\n",
       "    </tr>\n",
       "    <tr>\n",
       "      <th>Paul</th>\n",
       "      <td>39.245708</td>\n",
       "      <td>18.125056</td>\n",
       "      <td>4.947806</td>\n",
       "      <td>4.159819</td>\n",
       "      <td>6.730833</td>\n",
       "      <td>2.374750</td>\n",
       "      <td>1.591250</td>\n",
       "      <td>0.271250</td>\n",
       "      <td>NaN</td>\n",
       "      <td>2.601167</td>\n",
       "      <td>11.714569</td>\n",
       "      <td>0.650833</td>\n",
       "      <td>7.586958</td>\n",
       "    </tr>\n",
       "    <tr>\n",
       "      <th>Rubio</th>\n",
       "      <td>43.593056</td>\n",
       "      <td>22.287593</td>\n",
       "      <td>10.292222</td>\n",
       "      <td>NaN</td>\n",
       "      <td>NaN</td>\n",
       "      <td>NaN</td>\n",
       "      <td>NaN</td>\n",
       "      <td>NaN</td>\n",
       "      <td>NaN</td>\n",
       "      <td>NaN</td>\n",
       "      <td>11.273056</td>\n",
       "      <td>NaN</td>\n",
       "      <td>12.554074</td>\n",
       "    </tr>\n",
       "    <tr>\n",
       "      <th>Santorum</th>\n",
       "      <td>39.245708</td>\n",
       "      <td>18.125056</td>\n",
       "      <td>4.947806</td>\n",
       "      <td>4.159819</td>\n",
       "      <td>6.730833</td>\n",
       "      <td>2.374750</td>\n",
       "      <td>1.591250</td>\n",
       "      <td>0.271250</td>\n",
       "      <td>NaN</td>\n",
       "      <td>2.601167</td>\n",
       "      <td>11.714569</td>\n",
       "      <td>0.650833</td>\n",
       "      <td>7.586958</td>\n",
       "    </tr>\n",
       "  </tbody>\n",
       "</table>\n",
       "</div>"
      ],
      "text/plain": [
       "              Trump       Cruz     Kasich      Bush    Carson  Christie  \\\n",
       "name                                                                      \n",
       "Bush      38.276356  19.521200   6.121322  4.954322  7.956667       NaN   \n",
       "Carson    41.183074  18.038500   7.575870       NaN  7.946481       NaN   \n",
       "Christie  35.758093  20.541815   4.385074  4.327389  7.459259  2.473130   \n",
       "Fiorina   35.758093  20.541815   4.385074  4.327389  7.459259  2.473130   \n",
       "Gilmore   38.685648  19.653519   4.193889  5.331019  8.527407       NaN   \n",
       "Huckabee  38.281878  17.889956   4.706367  4.396089  7.009778  1.915422   \n",
       "Paul      39.245708  18.125056   4.947806  4.159819  6.730833  2.374750   \n",
       "Rubio     43.593056  22.287593  10.292222       NaN       NaN       NaN   \n",
       "Santorum  39.245708  18.125056   4.947806  4.159819  6.730833  2.374750   \n",
       "\n",
       "           Fiorina   Gilmore  Huckabee      Paul      Rubio  Santorum  \\\n",
       "name                                                                    \n",
       "Bush           NaN       NaN       NaN       NaN  13.066144       NaN   \n",
       "Carson         NaN       NaN       NaN       NaN  16.259611       NaN   \n",
       "Christie  2.026296  0.023333       NaN       NaN  14.967556       NaN   \n",
       "Fiorina   2.026296  0.023333       NaN       NaN  14.967556       NaN   \n",
       "Gilmore        NaN  0.019444       NaN       NaN  12.698426       NaN   \n",
       "Huckabee  1.520222  0.155667  1.730667  2.632067  11.288289  0.763278   \n",
       "Paul      1.591250  0.271250       NaN  2.601167  11.714569  0.650833   \n",
       "Rubio          NaN       NaN       NaN       NaN  11.273056       NaN   \n",
       "Santorum  1.591250  0.271250       NaN  2.601167  11.714569  0.650833   \n",
       "\n",
       "          Undecided  \n",
       "name                 \n",
       "Bush      10.103989  \n",
       "Carson     8.996463  \n",
       "Christie   8.038056  \n",
       "Fiorina    8.038056  \n",
       "Gilmore   10.890648  \n",
       "Huckabee   7.710322  \n",
       "Paul       7.586958  \n",
       "Rubio     12.554074  \n",
       "Santorum   7.586958  "
      ]
     },
     "execution_count": 11,
     "metadata": {},
     "output_type": "execute_result"
    }
   ],
   "source": [
    "WeekBeforeDrop = []\n",
    "\n",
    "for p in range(len(pollList)):\n",
    "    WeekBeforeDrop.append(BeforeAverages(pollList[p]['poll'], pollList[p]['name']))\n",
    "    \n",
    "PollingBeforeDrop = pd.DataFrame(WeekBeforeDrop, columns=polls.columns, index=pollIndex)\n",
    "PollingBeforeDrop.index.names = ['name']\n",
    "stats.Equals100(PollingBeforeDrop)\n",
    "PollingBeforeDrop"
   ]
  },
  {
   "cell_type": "markdown",
   "metadata": {},
   "source": [
    "Create a DataFrame indexed by the candidates that dropped out of the race during the primaries. Each column holds other candidates' average polling numbers in the week after a candidate's campaign suspension.\n",
    "\n",
    "Each cell contains the polling for a candidate in the column the week after the candidate in the row dropped out."
   ]
  },
  {
   "cell_type": "code",
   "execution_count": 12,
   "metadata": {
    "collapsed": false
   },
   "outputs": [
    {
     "data": {
      "text/html": [
       "<div>\n",
       "<table border=\"1\" class=\"dataframe\">\n",
       "  <thead>\n",
       "    <tr style=\"text-align: right;\">\n",
       "      <th></th>\n",
       "      <th>Trump</th>\n",
       "      <th>Cruz</th>\n",
       "      <th>Kasich</th>\n",
       "      <th>Bush</th>\n",
       "      <th>Carson</th>\n",
       "      <th>Christie</th>\n",
       "      <th>Fiorina</th>\n",
       "      <th>Gilmore</th>\n",
       "      <th>Huckabee</th>\n",
       "      <th>Paul</th>\n",
       "      <th>Rubio</th>\n",
       "      <th>Santorum</th>\n",
       "      <th>Undecided</th>\n",
       "    </tr>\n",
       "    <tr>\n",
       "      <th>name</th>\n",
       "      <th></th>\n",
       "      <th></th>\n",
       "      <th></th>\n",
       "      <th></th>\n",
       "      <th></th>\n",
       "      <th></th>\n",
       "      <th></th>\n",
       "      <th></th>\n",
       "      <th></th>\n",
       "      <th></th>\n",
       "      <th></th>\n",
       "      <th></th>\n",
       "      <th></th>\n",
       "    </tr>\n",
       "  </thead>\n",
       "  <tbody>\n",
       "    <tr>\n",
       "      <th>Bush</th>\n",
       "      <td>37.419211</td>\n",
       "      <td>19.621886</td>\n",
       "      <td>8.586922</td>\n",
       "      <td>NaN</td>\n",
       "      <td>7.349972</td>\n",
       "      <td>NaN</td>\n",
       "      <td>NaN</td>\n",
       "      <td>NaN</td>\n",
       "      <td>NaN</td>\n",
       "      <td>NaN</td>\n",
       "      <td>14.953164</td>\n",
       "      <td>NaN</td>\n",
       "      <td>12.068844</td>\n",
       "    </tr>\n",
       "    <tr>\n",
       "      <th>Carson</th>\n",
       "      <td>44.140356</td>\n",
       "      <td>22.032830</td>\n",
       "      <td>10.426230</td>\n",
       "      <td>NaN</td>\n",
       "      <td>NaN</td>\n",
       "      <td>NaN</td>\n",
       "      <td>NaN</td>\n",
       "      <td>NaN</td>\n",
       "      <td>NaN</td>\n",
       "      <td>NaN</td>\n",
       "      <td>11.704348</td>\n",
       "      <td>NaN</td>\n",
       "      <td>11.696237</td>\n",
       "    </tr>\n",
       "    <tr>\n",
       "      <th>Christie</th>\n",
       "      <td>37.739415</td>\n",
       "      <td>19.300271</td>\n",
       "      <td>7.336343</td>\n",
       "      <td>4.437340</td>\n",
       "      <td>7.869179</td>\n",
       "      <td>NaN</td>\n",
       "      <td>NaN</td>\n",
       "      <td>0.011667</td>\n",
       "      <td>NaN</td>\n",
       "      <td>NaN</td>\n",
       "      <td>13.280548</td>\n",
       "      <td>NaN</td>\n",
       "      <td>10.025237</td>\n",
       "    </tr>\n",
       "    <tr>\n",
       "      <th>Fiorina</th>\n",
       "      <td>37.739415</td>\n",
       "      <td>19.300271</td>\n",
       "      <td>7.336343</td>\n",
       "      <td>4.437340</td>\n",
       "      <td>7.869179</td>\n",
       "      <td>NaN</td>\n",
       "      <td>NaN</td>\n",
       "      <td>0.011667</td>\n",
       "      <td>NaN</td>\n",
       "      <td>NaN</td>\n",
       "      <td>13.280548</td>\n",
       "      <td>NaN</td>\n",
       "      <td>10.025237</td>\n",
       "    </tr>\n",
       "    <tr>\n",
       "      <th>Gilmore</th>\n",
       "      <td>37.486171</td>\n",
       "      <td>19.394762</td>\n",
       "      <td>7.470675</td>\n",
       "      <td>4.343735</td>\n",
       "      <td>7.926627</td>\n",
       "      <td>NaN</td>\n",
       "      <td>NaN</td>\n",
       "      <td>NaN</td>\n",
       "      <td>NaN</td>\n",
       "      <td>NaN</td>\n",
       "      <td>13.357024</td>\n",
       "      <td>NaN</td>\n",
       "      <td>10.021007</td>\n",
       "    </tr>\n",
       "    <tr>\n",
       "      <th>Huckabee</th>\n",
       "      <td>35.937045</td>\n",
       "      <td>19.295455</td>\n",
       "      <td>4.546010</td>\n",
       "      <td>3.936641</td>\n",
       "      <td>7.045101</td>\n",
       "      <td>2.569520</td>\n",
       "      <td>1.861869</td>\n",
       "      <td>0.081818</td>\n",
       "      <td>NaN</td>\n",
       "      <td>2.695</td>\n",
       "      <td>15.087626</td>\n",
       "      <td>0.315556</td>\n",
       "      <td>6.628359</td>\n",
       "    </tr>\n",
       "    <tr>\n",
       "      <th>Paul</th>\n",
       "      <td>38.811125</td>\n",
       "      <td>19.726583</td>\n",
       "      <td>4.338903</td>\n",
       "      <td>5.481056</td>\n",
       "      <td>8.565556</td>\n",
       "      <td>2.462824</td>\n",
       "      <td>2.113657</td>\n",
       "      <td>0.019417</td>\n",
       "      <td>NaN</td>\n",
       "      <td>NaN</td>\n",
       "      <td>12.535194</td>\n",
       "      <td>NaN</td>\n",
       "      <td>5.945685</td>\n",
       "    </tr>\n",
       "    <tr>\n",
       "      <th>Rubio</th>\n",
       "      <td>41.844845</td>\n",
       "      <td>25.981526</td>\n",
       "      <td>13.971349</td>\n",
       "      <td>NaN</td>\n",
       "      <td>NaN</td>\n",
       "      <td>NaN</td>\n",
       "      <td>NaN</td>\n",
       "      <td>NaN</td>\n",
       "      <td>NaN</td>\n",
       "      <td>NaN</td>\n",
       "      <td>NaN</td>\n",
       "      <td>NaN</td>\n",
       "      <td>18.202280</td>\n",
       "    </tr>\n",
       "    <tr>\n",
       "      <th>Santorum</th>\n",
       "      <td>38.811125</td>\n",
       "      <td>19.726583</td>\n",
       "      <td>4.338903</td>\n",
       "      <td>5.481056</td>\n",
       "      <td>8.565556</td>\n",
       "      <td>2.462824</td>\n",
       "      <td>2.113657</td>\n",
       "      <td>0.019417</td>\n",
       "      <td>NaN</td>\n",
       "      <td>NaN</td>\n",
       "      <td>12.535194</td>\n",
       "      <td>NaN</td>\n",
       "      <td>5.945685</td>\n",
       "    </tr>\n",
       "  </tbody>\n",
       "</table>\n",
       "</div>"
      ],
      "text/plain": [
       "              Trump       Cruz     Kasich      Bush    Carson  Christie  \\\n",
       "name                                                                      \n",
       "Bush      37.419211  19.621886   8.586922       NaN  7.349972       NaN   \n",
       "Carson    44.140356  22.032830  10.426230       NaN       NaN       NaN   \n",
       "Christie  37.739415  19.300271   7.336343  4.437340  7.869179       NaN   \n",
       "Fiorina   37.739415  19.300271   7.336343  4.437340  7.869179       NaN   \n",
       "Gilmore   37.486171  19.394762   7.470675  4.343735  7.926627       NaN   \n",
       "Huckabee  35.937045  19.295455   4.546010  3.936641  7.045101  2.569520   \n",
       "Paul      38.811125  19.726583   4.338903  5.481056  8.565556  2.462824   \n",
       "Rubio     41.844845  25.981526  13.971349       NaN       NaN       NaN   \n",
       "Santorum  38.811125  19.726583   4.338903  5.481056  8.565556  2.462824   \n",
       "\n",
       "           Fiorina   Gilmore  Huckabee   Paul      Rubio  Santorum  Undecided  \n",
       "name                                                                           \n",
       "Bush           NaN       NaN       NaN    NaN  14.953164       NaN  12.068844  \n",
       "Carson         NaN       NaN       NaN    NaN  11.704348       NaN  11.696237  \n",
       "Christie       NaN  0.011667       NaN    NaN  13.280548       NaN  10.025237  \n",
       "Fiorina        NaN  0.011667       NaN    NaN  13.280548       NaN  10.025237  \n",
       "Gilmore        NaN       NaN       NaN    NaN  13.357024       NaN  10.021007  \n",
       "Huckabee  1.861869  0.081818       NaN  2.695  15.087626  0.315556   6.628359  \n",
       "Paul      2.113657  0.019417       NaN    NaN  12.535194       NaN   5.945685  \n",
       "Rubio          NaN       NaN       NaN    NaN        NaN       NaN  18.202280  \n",
       "Santorum  2.113657  0.019417       NaN    NaN  12.535194       NaN   5.945685  "
      ]
     },
     "execution_count": 12,
     "metadata": {},
     "output_type": "execute_result"
    }
   ],
   "source": [
    "WeekAfterDrop = []\n",
    "\n",
    "for p in range(len(pollList)):\n",
    "    WeekAfterDrop.append(AfterAverages(pollList[p]['poll'], pollList[p]['name']))\n",
    "    \n",
    "PollingAfterDrop = pd.DataFrame(WeekAfterDrop, columns=polls.columns, index=pollIndex)\n",
    "PollingAfterDrop.index.names = ['name']\n",
    "stats.Equals100(PollingAfterDrop)\n",
    "PollingAfterDrop"
   ]
  },
  {
   "cell_type": "markdown",
   "metadata": {},
   "source": [
    "## Testing\n",
    "Confirm DataFrame snippets are working as expected. Test on Jeb Bush."
   ]
  },
  {
   "cell_type": "markdown",
   "metadata": {},
   "source": [
    "Display date of drop."
   ]
  },
  {
   "cell_type": "code",
   "execution_count": 13,
   "metadata": {
    "collapsed": false
   },
   "outputs": [
    {
     "data": {
      "text/plain": [
       "Timestamp('2016-02-16 00:00:00')"
      ]
     },
     "execution_count": 13,
     "metadata": {},
     "output_type": "execute_result"
    }
   ],
   "source": [
    "candidates['date']['Bush']"
   ]
  },
  {
   "cell_type": "markdown",
   "metadata": {},
   "source": [
    "Confirm data is saved properly after being pushed to a list of dictionaries."
   ]
  },
  {
   "cell_type": "code",
   "execution_count": 14,
   "metadata": {
    "collapsed": false
   },
   "outputs": [],
   "source": [
    "BushPolls1 = polls[(polls.index > candidates['date']['Bush'] - datetime.timedelta(days=7)) \\\n",
    "     & (polls.index < candidates['date']['Bush'] + datetime.timedelta(days=9))]\n",
    "BushPoll2 = pollList[1]['poll']\n",
    "assert all(BushPolls1) == all(BushPoll2)"
   ]
  },
  {
   "cell_type": "markdown",
   "metadata": {},
   "source": [
    "Display polling for candidates a week before to a week after Jeb Bush dropped."
   ]
  },
  {
   "cell_type": "code",
   "execution_count": 15,
   "metadata": {
    "collapsed": false
   },
   "outputs": [
    {
     "data": {
      "text/html": [
       "<div>\n",
       "<table border=\"1\" class=\"dataframe\">\n",
       "  <thead>\n",
       "    <tr style=\"text-align: right;\">\n",
       "      <th></th>\n",
       "      <th>Trump</th>\n",
       "      <th>Cruz</th>\n",
       "      <th>Kasich</th>\n",
       "      <th>Bush</th>\n",
       "      <th>Carson</th>\n",
       "      <th>Christie</th>\n",
       "      <th>Fiorina</th>\n",
       "      <th>Gilmore</th>\n",
       "      <th>Huckabee</th>\n",
       "      <th>Paul</th>\n",
       "      <th>Rubio</th>\n",
       "      <th>Santorum</th>\n",
       "      <th>Undecided</th>\n",
       "    </tr>\n",
       "    <tr>\n",
       "      <th>date</th>\n",
       "      <th></th>\n",
       "      <th></th>\n",
       "      <th></th>\n",
       "      <th></th>\n",
       "      <th></th>\n",
       "      <th></th>\n",
       "      <th></th>\n",
       "      <th></th>\n",
       "      <th></th>\n",
       "      <th></th>\n",
       "      <th></th>\n",
       "      <th></th>\n",
       "      <th></th>\n",
       "    </tr>\n",
       "  </thead>\n",
       "  <tbody>\n",
       "    <tr>\n",
       "      <th>2016-02-10</th>\n",
       "      <td>36.344778</td>\n",
       "      <td>22.075778</td>\n",
       "      <td>3.820389</td>\n",
       "      <td>5.648167</td>\n",
       "      <td>9.309444</td>\n",
       "      <td>2.427056</td>\n",
       "      <td>2.355556</td>\n",
       "      <td>0.028333</td>\n",
       "      <td>NaN</td>\n",
       "      <td>NaN</td>\n",
       "      <td>13.221333</td>\n",
       "      <td>NaN</td>\n",
       "      <td>4.769167</td>\n",
       "    </tr>\n",
       "    <tr>\n",
       "      <th>2016-02-11</th>\n",
       "      <td>42.348611</td>\n",
       "      <td>17.959444</td>\n",
       "      <td>4.883333</td>\n",
       "      <td>6.343056</td>\n",
       "      <td>8.851667</td>\n",
       "      <td>NaN</td>\n",
       "      <td>NaN</td>\n",
       "      <td>0.011667</td>\n",
       "      <td>NaN</td>\n",
       "      <td>NaN</td>\n",
       "      <td>10.370278</td>\n",
       "      <td>NaN</td>\n",
       "      <td>9.231944</td>\n",
       "    </tr>\n",
       "    <tr>\n",
       "      <th>2016-02-14</th>\n",
       "      <td>38.306944</td>\n",
       "      <td>18.856667</td>\n",
       "      <td>7.036389</td>\n",
       "      <td>3.703333</td>\n",
       "      <td>7.388333</td>\n",
       "      <td>NaN</td>\n",
       "      <td>NaN</td>\n",
       "      <td>NaN</td>\n",
       "      <td>NaN</td>\n",
       "      <td>NaN</td>\n",
       "      <td>12.925556</td>\n",
       "      <td>NaN</td>\n",
       "      <td>11.782778</td>\n",
       "    </tr>\n",
       "    <tr>\n",
       "      <th>2016-02-15</th>\n",
       "      <td>38.020222</td>\n",
       "      <td>19.239500</td>\n",
       "      <td>7.592667</td>\n",
       "      <td>4.621278</td>\n",
       "      <td>5.545000</td>\n",
       "      <td>NaN</td>\n",
       "      <td>NaN</td>\n",
       "      <td>NaN</td>\n",
       "      <td>NaN</td>\n",
       "      <td>NaN</td>\n",
       "      <td>15.621444</td>\n",
       "      <td>NaN</td>\n",
       "      <td>9.359889</td>\n",
       "    </tr>\n",
       "    <tr>\n",
       "      <th>2016-02-16</th>\n",
       "      <td>36.361222</td>\n",
       "      <td>19.474611</td>\n",
       "      <td>7.273833</td>\n",
       "      <td>4.455778</td>\n",
       "      <td>8.688889</td>\n",
       "      <td>NaN</td>\n",
       "      <td>NaN</td>\n",
       "      <td>NaN</td>\n",
       "      <td>NaN</td>\n",
       "      <td>NaN</td>\n",
       "      <td>13.192111</td>\n",
       "      <td>NaN</td>\n",
       "      <td>10.553556</td>\n",
       "    </tr>\n",
       "    <tr>\n",
       "      <th>2016-02-17</th>\n",
       "      <td>37.737389</td>\n",
       "      <td>19.639278</td>\n",
       "      <td>7.728667</td>\n",
       "      <td>NaN</td>\n",
       "      <td>8.961111</td>\n",
       "      <td>NaN</td>\n",
       "      <td>NaN</td>\n",
       "      <td>NaN</td>\n",
       "      <td>NaN</td>\n",
       "      <td>NaN</td>\n",
       "      <td>12.302889</td>\n",
       "      <td>NaN</td>\n",
       "      <td>13.630667</td>\n",
       "    </tr>\n",
       "    <tr>\n",
       "      <th>2016-02-21</th>\n",
       "      <td>37.131389</td>\n",
       "      <td>19.181667</td>\n",
       "      <td>7.517222</td>\n",
       "      <td>NaN</td>\n",
       "      <td>7.405000</td>\n",
       "      <td>NaN</td>\n",
       "      <td>NaN</td>\n",
       "      <td>NaN</td>\n",
       "      <td>NaN</td>\n",
       "      <td>NaN</td>\n",
       "      <td>14.248611</td>\n",
       "      <td>NaN</td>\n",
       "      <td>14.516111</td>\n",
       "    </tr>\n",
       "    <tr>\n",
       "      <th>2016-02-22</th>\n",
       "      <td>37.229722</td>\n",
       "      <td>18.213611</td>\n",
       "      <td>10.567500</td>\n",
       "      <td>NaN</td>\n",
       "      <td>7.171111</td>\n",
       "      <td>NaN</td>\n",
       "      <td>NaN</td>\n",
       "      <td>NaN</td>\n",
       "      <td>NaN</td>\n",
       "      <td>NaN</td>\n",
       "      <td>17.585556</td>\n",
       "      <td>NaN</td>\n",
       "      <td>9.232500</td>\n",
       "    </tr>\n",
       "    <tr>\n",
       "      <th>2016-02-24</th>\n",
       "      <td>37.701444</td>\n",
       "      <td>20.951056</td>\n",
       "      <td>7.877333</td>\n",
       "      <td>NaN</td>\n",
       "      <td>7.248333</td>\n",
       "      <td>NaN</td>\n",
       "      <td>NaN</td>\n",
       "      <td>NaN</td>\n",
       "      <td>NaN</td>\n",
       "      <td>NaN</td>\n",
       "      <td>13.750500</td>\n",
       "      <td>NaN</td>\n",
       "      <td>12.471333</td>\n",
       "    </tr>\n",
       "  </tbody>\n",
       "</table>\n",
       "</div>"
      ],
      "text/plain": [
       "                Trump       Cruz     Kasich      Bush    Carson  Christie  \\\n",
       "date                                                                        \n",
       "2016-02-10  36.344778  22.075778   3.820389  5.648167  9.309444  2.427056   \n",
       "2016-02-11  42.348611  17.959444   4.883333  6.343056  8.851667       NaN   \n",
       "2016-02-14  38.306944  18.856667   7.036389  3.703333  7.388333       NaN   \n",
       "2016-02-15  38.020222  19.239500   7.592667  4.621278  5.545000       NaN   \n",
       "2016-02-16  36.361222  19.474611   7.273833  4.455778  8.688889       NaN   \n",
       "2016-02-17  37.737389  19.639278   7.728667       NaN  8.961111       NaN   \n",
       "2016-02-21  37.131389  19.181667   7.517222       NaN  7.405000       NaN   \n",
       "2016-02-22  37.229722  18.213611  10.567500       NaN  7.171111       NaN   \n",
       "2016-02-24  37.701444  20.951056   7.877333       NaN  7.248333       NaN   \n",
       "\n",
       "             Fiorina   Gilmore  Huckabee  Paul      Rubio  Santorum  Undecided  \n",
       "date                                                                            \n",
       "2016-02-10  2.355556  0.028333       NaN   NaN  13.221333       NaN   4.769167  \n",
       "2016-02-11       NaN  0.011667       NaN   NaN  10.370278       NaN   9.231944  \n",
       "2016-02-14       NaN       NaN       NaN   NaN  12.925556       NaN  11.782778  \n",
       "2016-02-15       NaN       NaN       NaN   NaN  15.621444       NaN   9.359889  \n",
       "2016-02-16       NaN       NaN       NaN   NaN  13.192111       NaN  10.553556  \n",
       "2016-02-17       NaN       NaN       NaN   NaN  12.302889       NaN  13.630667  \n",
       "2016-02-21       NaN       NaN       NaN   NaN  14.248611       NaN  14.516111  \n",
       "2016-02-22       NaN       NaN       NaN   NaN  17.585556       NaN   9.232500  \n",
       "2016-02-24       NaN       NaN       NaN   NaN  13.750500       NaN  12.471333  "
      ]
     },
     "execution_count": 15,
     "metadata": {},
     "output_type": "execute_result"
    }
   ],
   "source": [
    "BushPolls1"
   ]
  },
  {
   "cell_type": "markdown",
   "metadata": {},
   "source": [
    "Confirm polling data sums up to 100 for each poll"
   ]
  },
  {
   "cell_type": "code",
   "execution_count": 16,
   "metadata": {
    "collapsed": false
   },
   "outputs": [
    {
     "data": {
      "text/plain": [
       "100.0"
      ]
     },
     "execution_count": 16,
     "metadata": {},
     "output_type": "execute_result"
    }
   ],
   "source": [
    "sum(BushPolls1.loc['2016-02-22'].dropna())"
   ]
  },
  {
   "cell_type": "code",
   "execution_count": 17,
   "metadata": {
    "collapsed": false
   },
   "outputs": [],
   "source": [
    "assert sum(BushPolls1.loc['2016-02-10'].dropna()) == 100\n",
    "assert sum(BushPolls1.loc['2016-02-22'].dropna()) == 100"
   ]
  },
  {
   "cell_type": "markdown",
   "metadata": {},
   "source": [
    "Confirm polling before drop is accurate."
   ]
  },
  {
   "cell_type": "code",
   "execution_count": 18,
   "metadata": {
    "collapsed": false
   },
   "outputs": [],
   "source": [
    "BushBeforeAvgs1 = BeforeAverages(BushPolls1, 'Bush')\n",
    "BushBeforeAvgs2 = PollingBeforeDrop.loc['Bush']\n",
    "assert all(BushBeforeAvgs1) == all(list(BushBeforeAvgs2))\n",
    "assert sum(BushBeforeAvgs2.dropna()) == 100"
   ]
  },
  {
   "cell_type": "markdown",
   "metadata": {},
   "source": [
    "Display candidates' average polling data in the week before Jeb Bush suspended his campaign."
   ]
  },
  {
   "cell_type": "code",
   "execution_count": 19,
   "metadata": {
    "collapsed": false
   },
   "outputs": [
    {
     "name": "stdout",
     "output_type": "stream",
     "text": [
      "[38.276355555555554, 19.5212, 6.121322222222223, 4.9543222222222223, 7.9566666666666661, nan, nan, nan, nan, nan, 13.066144444444443, nan, 9.1394666666666673]\n"
     ]
    }
   ],
   "source": [
    "print(BushBeforeAvgs1)"
   ]
  },
  {
   "cell_type": "markdown",
   "metadata": {},
   "source": [
    "Confrim polling after drop is accurate."
   ]
  },
  {
   "cell_type": "code",
   "execution_count": 20,
   "metadata": {
    "collapsed": true
   },
   "outputs": [],
   "source": [
    "BushAfterAvgs1 = AfterAverages(BushPolls1, 'Bush')\n",
    "BushAfterAvgs2 = PollingAfterDrop.loc['Bush']\n",
    "assert all(BushAfterAvgs1) == all(list(BushAfterAvgs2))"
   ]
  },
  {
   "cell_type": "markdown",
   "metadata": {},
   "source": [
    "Display candidates' average polling data in the week after Jeb Bush suspended his campaign."
   ]
  },
  {
   "cell_type": "code",
   "execution_count": 21,
   "metadata": {
    "collapsed": false
   },
   "outputs": [
    {
     "name": "stdout",
     "output_type": "stream",
     "text": [
      "[37.419211111111103, 19.621886111111117, 8.5869222222222223, nan, 7.3499722222222221, nan, nan, nan, nan, nan, 14.95316388888889, nan, 12.068844444444441]\n"
     ]
    }
   ],
   "source": [
    "print(BushAfterAvgs1)"
   ]
  },
  {
   "cell_type": "markdown",
   "metadata": {},
   "source": [
    "Polling data sums up to 100."
   ]
  },
  {
   "cell_type": "code",
   "execution_count": 22,
   "metadata": {
    "collapsed": true
   },
   "outputs": [],
   "source": [
    "for p in range(len(PollingBeforeDrop.index)):\n",
    "    assert sum(PollingBeforeDrop.iloc[p].dropna()) == 100\n",
    "    \n",
    "for p in range(len(PollingAfterDrop.index)):\n",
    "    assert sum(PollingAfterDrop.iloc[p].dropna()) == 100"
   ]
  },
  {
   "cell_type": "markdown",
   "metadata": {},
   "source": [
    "Graph Jeb Bush's data."
   ]
  },
  {
   "cell_type": "code",
   "execution_count": 23,
   "metadata": {
    "collapsed": false
   },
   "outputs": [
    {
     "data": {
      "text/plain": [
       "<matplotlib.legend.Legend at 0x7fab0df8ba90>"
      ]
     },
     "execution_count": 23,
     "metadata": {},
     "output_type": "execute_result"
    },
    {
     "data": {
      "image/png": "[encoded data removed]",
      "text/plain": [
       "<matplotlib.figure.Figure at 0x7fab0e4cbef0>"
      ]
     },
     "metadata": {},
     "output_type": "display_data"
    }
   ],
   "source": [
    "plt.figure(figsize=(20,10))\n",
    "\n",
    "plt.plot(BushPolls1.Trump)\n",
    "plt.plot(BushPolls1.Cruz)\n",
    "plt.plot(BushPolls1.Rubio)\n",
    "plt.plot(BushPolls1.Kasich)\n",
    "plt.plot(BushPolls1.Carson)\n",
    "plt.plot(BushPolls1.Bush)\n",
    "plt.plot(BushPolls1.Undecided)\n",
    "\n",
    "plt.axvline(candidates['date']['Bush'])\n",
    "\n",
    "plt.title(\"GOP Candidate Polling a Week Before/After Bush Dropped\", size=20)\n",
    "plt.xlabel(\"Date of Poll\", size=16)\n",
    "plt.ylabel(\"Polling Percentage\", size=16)\n",
    "\n",
    "# y limits are a little greater than needed to display the legend without blocking out data\n",
    "plt.ylim(0, 55)\n",
    "plt.legend(fontsize=14)"
   ]
  },
  {
   "cell_type": "markdown",
   "metadata": {},
   "source": [
    "## Write to File\n",
    "Write the DataFrames PollingBeforeDrop and PollingAfterDrop to two separte files to be analyzed in 05-Analysis.ipynb"
   ]
  },
  {
   "cell_type": "code",
   "execution_count": 24,
   "metadata": {
    "collapsed": true
   },
   "outputs": [],
   "source": [
    "PollingBeforeDrop.to_csv('PollingBeforeDrop.csv')\n",
    "PollingAfterDrop.to_csv('PollingAfterDrop.csv')"
   ]
  }
 ],
 "metadata": {
  "kernelspec": {
   "display_name": "Python 3",
   "language": "python",
   "name": "python3"
  },
  "language_info": {
   "codemirror_mode": {
    "name": "ipython",
    "version": 3
   },
   "file_extension": ".py",
   "mimetype": "text/x-python",
   "name": "python",
   "nbconvert_exporter": "python",
   "pygments_lexer": "ipython3",
   "version": "3.4.3"
  }
 },
 "nbformat": 4,
 "nbformat_minor": 0
}
