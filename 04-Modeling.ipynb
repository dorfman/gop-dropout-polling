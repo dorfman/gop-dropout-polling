{
 "cells": [
  {
   "cell_type": "markdown",
   "metadata": {},
   "source": [
    "# Modeling\n",
    "Data is separated on a candidate-basis to observe polls prior to and before a candidate suspends their campaign."
   ]
  },
  {
   "cell_type": "markdown",
   "metadata": {},
   "source": [
    "## Imports"
   ]
  },
  {
   "cell_type": "code",
   "execution_count": 1,
   "metadata": {
    "collapsed": true
   },
   "outputs": [],
   "source": [
    "%matplotlib inline\n",
    "import matplotlib.pyplot as plt\n",
    "import seaborn as sns\n",
    "\n",
    "import datetime\n",
    "import numpy as np\n",
    "import pandas as pd\n",
    "import os\n",
    "import math\n",
    "\n",
    "import stats"
   ]
  },
  {
   "cell_type": "markdown",
   "metadata": {},
   "source": [
    "## Read File Written in 02-DataCleaning"
   ]
  },
  {
   "cell_type": "code",
   "execution_count": 2,
   "metadata": {
    "collapsed": true
   },
   "outputs": [],
   "source": [
    "candidates = pd.read_csv('candidates.csv', index_col='name')"
   ]
  },
  {
   "cell_type": "markdown",
   "metadata": {},
   "source": [
    "## Read File Written in 03-Modeling"
   ]
  },
  {
   "cell_type": "code",
   "execution_count": 3,
   "metadata": {
    "collapsed": false
   },
   "outputs": [],
   "source": [
    "polls = pd.read_csv('bootPolls.csv')"
   ]
  },
  {
   "cell_type": "markdown",
   "metadata": {},
   "source": [
    "Convert date from string to datetime."
   ]
  },
  {
   "cell_type": "code",
   "execution_count": 4,
   "metadata": {
    "collapsed": false
   },
   "outputs": [],
   "source": [
    "polls.date = pd.Series(pd.DatetimeIndex(polls.date))\n",
    "polls.index = polls.date\n",
    "del polls['date']\n",
    "\n",
    "candidates.date = pd.to_datetime(candidates.date)\n",
    "\n",
    "stats.Equals100(polls)"
   ]
  },
  {
   "cell_type": "markdown",
   "metadata": {},
   "source": [
    "## Data Modeling Functions Defintions"
   ]
  },
  {
   "cell_type": "markdown",
   "metadata": {},
   "source": [
    "### Before Campaign Suspension"
   ]
  },
  {
   "cell_type": "markdown",
   "metadata": {},
   "source": [
    "Function to get average polling for a single active candidate before a candidate drops out."
   ]
  },
  {
   "cell_type": "code",
   "execution_count": 5,
   "metadata": {
    "collapsed": true
   },
   "outputs": [],
   "source": [
    "def getBeforeAverage(pollGroup, dropout, cand):\n",
    "    \"\"\"Returns average polling for a single candidate in the week prior to another candidate dropping out of the race.\n",
    "    \n",
    "    Parameters\n",
    "    ----------\n",
    "    pollGroup : DataFrame\n",
    "        A snippet of the main DataFrame used sliced to only include polls take a week prior to and a week \n",
    "        after the dropout suspends their campaign.\n",
    "    dropout : str\n",
    "        The name of the candidate that dropped out.\n",
    "    cand : str\n",
    "        The name of the candidate whose average polling is being calculated.\n",
    "    \"\"\"\n",
    "    \n",
    "    tot = 0                             # used to as numerator in calculating the mean\n",
    "    count = 0                           # regular iterator. Also used to as denominator in calculating the mean\n",
    "    iterDate = pollGroup.index[count]   # used to check where date is relative to the date of suspension\n",
    "    \n",
    "    while candidates['date'][dropout] - iterDate >= datetime.timedelta(days=0):\n",
    "        tot += pollGroup[cand][count]\n",
    "        count += 1\n",
    "        iterDate = pollGroup.index[count]\n",
    "\n",
    "    return tot/count"
   ]
  },
  {
   "cell_type": "markdown",
   "metadata": {},
   "source": [
    "Function to create list of average polling for all other candidates before a candidate drops out."
   ]
  },
  {
   "cell_type": "code",
   "execution_count": 6,
   "metadata": {
    "collapsed": false
   },
   "outputs": [],
   "source": [
    "def BeforeAverages(pollGroup, dropout):\n",
    "    \"\"\"Returns a list of average polling for all active candidate in the week prior to another\n",
    "       candidate dropping out of the race.\n",
    "    \n",
    "    Parameters\n",
    "    ----------\n",
    "    pollGroup : DataFrame\n",
    "        A snippet of the main DataFrame used sliced to only include polls take a week prior to and a week \n",
    "        after the dropout suspends their campaign.\n",
    "    dropout : str\n",
    "        The name of the candidate that dropped out.\n",
    "    \"\"\"\n",
    "    \n",
    "    averages = []\n",
    "    for c in pollGroup.columns:    # for each candidate\n",
    "        averages.append(getBeforeAverage(pollGroup, dropout, c))\n",
    "        \n",
    "    return averages"
   ]
  },
  {
   "cell_type": "markdown",
   "metadata": {},
   "source": [
    "### After Campaign Suspension"
   ]
  },
  {
   "cell_type": "markdown",
   "metadata": {},
   "source": [
    "Function to retrieve difference in days since date of suspension/dropout."
   ]
  },
  {
   "cell_type": "code",
   "execution_count": 7,
   "metadata": {
    "collapsed": true
   },
   "outputs": [],
   "source": [
    "def dateDiff(dropout, iterDate):\n",
    "    \"\"\"Returns difference in days between date iterator and the date a candidate dropped out of the race.\n",
    "    \n",
    "    Parameters\n",
    "    ----------\n",
    "    dropout : str\n",
    "        The name of the candidate that dropped out.\n",
    "    iterDate : str\n",
    "        The name of the candidate whose average polling is being calculated.\n",
    "    \"\"\"\n",
    "    return (iterDate - candidates['date'][dropout]).days"
   ]
  },
  {
   "cell_type": "markdown",
   "metadata": {},
   "source": [
    "Function to get weighted average polling for a single active candidate after a candidate drops out. Weight is determined by days after campaign suspension; the further away from the date of suspension, the more weight the polling data holds."
   ]
  },
  {
   "cell_type": "code",
   "execution_count": 8,
   "metadata": {
    "collapsed": false
   },
   "outputs": [],
   "source": [
    "def getAfterAverage(pollGroup, dropout, cand):\n",
    "    \"\"\"Returns average polling for a candidate in the week after another candidate drops out of the race.\n",
    "    \n",
    "    Parameters\n",
    "    ----------\n",
    "    pollGroup : DataFrame\n",
    "        A snippet of the main DataFrame used sliced to only include polls take a week prior to and a week \n",
    "        after the dropout suspends their campaign.\n",
    "    dropout : str\n",
    "        The name of the candidate that dropped out.\n",
    "    cand : str\n",
    "        The name of the candidate whose average polling is being calculated.\n",
    "    \"\"\"\n",
    "    \n",
    "    tot = 0                             # used to as numerator in calculating the mean\n",
    "    count = 0                           # regular iterator\n",
    "    dateCount = 0                       # used to as denomiator in calculating the mean\n",
    "    iterDate = pollGroup.index[count]   # used to check where date is relative to the date of suspension\n",
    "    \n",
    "    # Get the date iterator to the dropout date\n",
    "    while candidates['date'][dropout] - iterDate >= datetime.timedelta(days=0):\n",
    "        count += 1\n",
    "        iterDate = pollGroup.index[count]\n",
    "    \n",
    "    # Iterates through poll grouping conducted in the week after a candidate dropped out of the race\n",
    "    while count < len(pollGroup.index):\n",
    "        iterDate = pollGroup.index[count]\n",
    "        diff = dateDiff(dropout, iterDate)\n",
    "        candCount = pollGroup[cand][count]\n",
    "        \n",
    "        if math.isnan(candCount) == False:    # only uses numbers\n",
    "            tot += candCount * diff           # gives weight to polls conducted further away from the date of dropping\n",
    "            dateCount += diff\n",
    "        count += 1\n",
    "        \n",
    "    if dateCount == 0:    # can't divide by zero, so just return 0 if no polls conducted after date of dropping\n",
    "        return float('nan')\n",
    "    else:\n",
    "        return tot/dateCount"
   ]
  },
  {
   "cell_type": "markdown",
   "metadata": {},
   "source": [
    "Function to get weighted average polling for all other candidtates after a candidate drops out."
   ]
  },
  {
   "cell_type": "code",
   "execution_count": 9,
   "metadata": {
    "collapsed": true
   },
   "outputs": [],
   "source": [
    "def AfterAverages(pollGroup, dropout):\n",
    "    \"\"\"Returns a list of average polling for all active candidate in the week after another\n",
    "       candidate drops out of the race.\n",
    "    \n",
    "    Parameters\n",
    "    ----------\n",
    "    pollGroup : DataFrame\n",
    "        A snippet of the main DataFrame used sliced to only include polls take a week prior to and a week \n",
    "        after the dropout suspends their campaign.\n",
    "    dropout : str\n",
    "        The name of the candidate that dropped out.\n",
    "    \"\"\"\n",
    "    \n",
    "    averages = []\n",
    "    for c in pollGroup.columns:\n",
    "        averages.append(getAfterAverage(pollGroup, dropout, c))\n",
    "    return averages"
   ]
  },
  {
   "cell_type": "markdown",
   "metadata": {},
   "source": [
    "## Data Modeling Functions Apllications"
   ]
  },
  {
   "cell_type": "markdown",
   "metadata": {},
   "source": [
    "Create a list of dictionaries holding the name of each candidate that suspended their campaign and the DataFrames of polling data from a week before to a week after that candidate suspended their campaign."
   ]
  },
  {
   "cell_type": "code",
   "execution_count": 10,
   "metadata": {
    "collapsed": false
   },
   "outputs": [],
   "source": [
    "pollList = []\n",
    "\n",
    "pollIndex = [c for c in candidates.index if candidates.dropped[c] == True]\n",
    "for p in pollIndex:\n",
    "    pollList.append({'name': p, 'poll': stats.BiWeekPolling(polls, candidates, p)})"
   ]
  },
  {
   "cell_type": "markdown",
   "metadata": {},
   "source": [
    "Create a DataFrame indexed by the candidates that dropped out of the race during the primaries. Each column holds other candidates' average polling numbers in the week prior to a candidate's campaign suspension.\n",
    "\n",
    "Each cell contains the polling for a candidate in the column the week before the candidate in the row dropped out."
   ]
  },
  {
   "cell_type": "code",
   "execution_count": 11,
   "metadata": {
    "collapsed": false
   },
   "outputs": [
    {
     "data": {
      "text/html": [
       "<div>\n",
       "<table border=\"1\" class=\"dataframe\">\n",
       "  <thead>\n",
       "    <tr style=\"text-align: right;\">\n",
       "      <th></th>\n",
       "      <th>Trump</th>\n",
       "      <th>Cruz</th>\n",
       "      <th>Kasich</th>\n",
       "      <th>Bush</th>\n",
       "      <th>Carson</th>\n",
       "      <th>Christie</th>\n",
       "      <th>Fiorina</th>\n",
       "      <th>Gilmore</th>\n",
       "      <th>Huckabee</th>\n",
       "      <th>Paul</th>\n",
       "      <th>Rubio</th>\n",
       "      <th>Santorum</th>\n",
       "      <th>Undecided</th>\n",
       "    </tr>\n",
       "    <tr>\n",
       "      <th>name</th>\n",
       "      <th></th>\n",
       "      <th></th>\n",
       "      <th></th>\n",
       "      <th></th>\n",
       "      <th></th>\n",
       "      <th></th>\n",
       "      <th></th>\n",
       "      <th></th>\n",
       "      <th></th>\n",
       "      <th></th>\n",
       "      <th></th>\n",
       "      <th></th>\n",
       "      <th></th>\n",
       "    </tr>\n",
       "  </thead>\n",
       "  <tbody>\n",
       "    <tr>\n",
       "      <th>Bush</th>\n",
       "      <td>38.112456</td>\n",
       "      <td>19.471322</td>\n",
       "      <td>6.027467</td>\n",
       "      <td>5.028578</td>\n",
       "      <td>7.996444</td>\n",
       "      <td>NaN</td>\n",
       "      <td>NaN</td>\n",
       "      <td>NaN</td>\n",
       "      <td>NaN</td>\n",
       "      <td>NaN</td>\n",
       "      <td>13.080211</td>\n",
       "      <td>NaN</td>\n",
       "      <td>10.283522</td>\n",
       "    </tr>\n",
       "    <tr>\n",
       "      <th>Carson</th>\n",
       "      <td>41.205185</td>\n",
       "      <td>18.053611</td>\n",
       "      <td>7.572593</td>\n",
       "      <td>NaN</td>\n",
       "      <td>7.952593</td>\n",
       "      <td>NaN</td>\n",
       "      <td>NaN</td>\n",
       "      <td>NaN</td>\n",
       "      <td>NaN</td>\n",
       "      <td>NaN</td>\n",
       "      <td>16.318889</td>\n",
       "      <td>NaN</td>\n",
       "      <td>8.897130</td>\n",
       "    </tr>\n",
       "    <tr>\n",
       "      <th>Christie</th>\n",
       "      <td>35.735759</td>\n",
       "      <td>20.663870</td>\n",
       "      <td>4.440500</td>\n",
       "      <td>4.319574</td>\n",
       "      <td>7.502222</td>\n",
       "      <td>2.447630</td>\n",
       "      <td>2.014074</td>\n",
       "      <td>0.021111</td>\n",
       "      <td>NaN</td>\n",
       "      <td>NaN</td>\n",
       "      <td>14.819981</td>\n",
       "      <td>NaN</td>\n",
       "      <td>8.035278</td>\n",
       "    </tr>\n",
       "    <tr>\n",
       "      <th>Fiorina</th>\n",
       "      <td>35.735759</td>\n",
       "      <td>20.663870</td>\n",
       "      <td>4.440500</td>\n",
       "      <td>4.319574</td>\n",
       "      <td>7.502222</td>\n",
       "      <td>2.447630</td>\n",
       "      <td>2.014074</td>\n",
       "      <td>0.021111</td>\n",
       "      <td>NaN</td>\n",
       "      <td>NaN</td>\n",
       "      <td>14.819981</td>\n",
       "      <td>NaN</td>\n",
       "      <td>8.035278</td>\n",
       "    </tr>\n",
       "    <tr>\n",
       "      <th>Gilmore</th>\n",
       "      <td>38.605704</td>\n",
       "      <td>19.674944</td>\n",
       "      <td>4.215296</td>\n",
       "      <td>5.349278</td>\n",
       "      <td>8.485000</td>\n",
       "      <td>NaN</td>\n",
       "      <td>NaN</td>\n",
       "      <td>0.021111</td>\n",
       "      <td>NaN</td>\n",
       "      <td>NaN</td>\n",
       "      <td>12.615963</td>\n",
       "      <td>NaN</td>\n",
       "      <td>11.032704</td>\n",
       "    </tr>\n",
       "    <tr>\n",
       "      <th>Huckabee</th>\n",
       "      <td>38.142733</td>\n",
       "      <td>17.801156</td>\n",
       "      <td>4.511800</td>\n",
       "      <td>4.461467</td>\n",
       "      <td>7.112444</td>\n",
       "      <td>1.960189</td>\n",
       "      <td>1.567889</td>\n",
       "      <td>0.154667</td>\n",
       "      <td>1.744</td>\n",
       "      <td>2.667433</td>\n",
       "      <td>11.389767</td>\n",
       "      <td>0.775944</td>\n",
       "      <td>7.710511</td>\n",
       "    </tr>\n",
       "    <tr>\n",
       "      <th>Paul</th>\n",
       "      <td>39.026667</td>\n",
       "      <td>17.884306</td>\n",
       "      <td>4.610417</td>\n",
       "      <td>4.275000</td>\n",
       "      <td>6.967500</td>\n",
       "      <td>2.420278</td>\n",
       "      <td>1.646944</td>\n",
       "      <td>0.269167</td>\n",
       "      <td>NaN</td>\n",
       "      <td>2.642083</td>\n",
       "      <td>11.998611</td>\n",
       "      <td>0.663472</td>\n",
       "      <td>7.595556</td>\n",
       "    </tr>\n",
       "    <tr>\n",
       "      <th>Rubio</th>\n",
       "      <td>43.509370</td>\n",
       "      <td>21.995167</td>\n",
       "      <td>9.926704</td>\n",
       "      <td>NaN</td>\n",
       "      <td>NaN</td>\n",
       "      <td>NaN</td>\n",
       "      <td>NaN</td>\n",
       "      <td>NaN</td>\n",
       "      <td>NaN</td>\n",
       "      <td>NaN</td>\n",
       "      <td>11.380722</td>\n",
       "      <td>NaN</td>\n",
       "      <td>13.188037</td>\n",
       "    </tr>\n",
       "    <tr>\n",
       "      <th>Santorum</th>\n",
       "      <td>39.026667</td>\n",
       "      <td>17.884306</td>\n",
       "      <td>4.610417</td>\n",
       "      <td>4.275000</td>\n",
       "      <td>6.967500</td>\n",
       "      <td>2.420278</td>\n",
       "      <td>1.646944</td>\n",
       "      <td>0.269167</td>\n",
       "      <td>NaN</td>\n",
       "      <td>2.642083</td>\n",
       "      <td>11.998611</td>\n",
       "      <td>0.663472</td>\n",
       "      <td>7.595556</td>\n",
       "    </tr>\n",
       "  </tbody>\n",
       "</table>\n",
       "</div>"
      ],
      "text/plain": [
       "              Trump       Cruz    Kasich      Bush    Carson  Christie  \\\n",
       "name                                                                     \n",
       "Bush      38.112456  19.471322  6.027467  5.028578  7.996444       NaN   \n",
       "Carson    41.205185  18.053611  7.572593       NaN  7.952593       NaN   \n",
       "Christie  35.735759  20.663870  4.440500  4.319574  7.502222  2.447630   \n",
       "Fiorina   35.735759  20.663870  4.440500  4.319574  7.502222  2.447630   \n",
       "Gilmore   38.605704  19.674944  4.215296  5.349278  8.485000       NaN   \n",
       "Huckabee  38.142733  17.801156  4.511800  4.461467  7.112444  1.960189   \n",
       "Paul      39.026667  17.884306  4.610417  4.275000  6.967500  2.420278   \n",
       "Rubio     43.509370  21.995167  9.926704       NaN       NaN       NaN   \n",
       "Santorum  39.026667  17.884306  4.610417  4.275000  6.967500  2.420278   \n",
       "\n",
       "           Fiorina   Gilmore  Huckabee      Paul      Rubio  Santorum  \\\n",
       "name                                                                    \n",
       "Bush           NaN       NaN       NaN       NaN  13.080211       NaN   \n",
       "Carson         NaN       NaN       NaN       NaN  16.318889       NaN   \n",
       "Christie  2.014074  0.021111       NaN       NaN  14.819981       NaN   \n",
       "Fiorina   2.014074  0.021111       NaN       NaN  14.819981       NaN   \n",
       "Gilmore        NaN  0.021111       NaN       NaN  12.615963       NaN   \n",
       "Huckabee  1.567889  0.154667     1.744  2.667433  11.389767  0.775944   \n",
       "Paul      1.646944  0.269167       NaN  2.642083  11.998611  0.663472   \n",
       "Rubio          NaN       NaN       NaN       NaN  11.380722       NaN   \n",
       "Santorum  1.646944  0.269167       NaN  2.642083  11.998611  0.663472   \n",
       "\n",
       "          Undecided  \n",
       "name                 \n",
       "Bush      10.283522  \n",
       "Carson     8.897130  \n",
       "Christie   8.035278  \n",
       "Fiorina    8.035278  \n",
       "Gilmore   11.032704  \n",
       "Huckabee   7.710511  \n",
       "Paul       7.595556  \n",
       "Rubio     13.188037  \n",
       "Santorum   7.595556  "
      ]
     },
     "execution_count": 11,
     "metadata": {},
     "output_type": "execute_result"
    }
   ],
   "source": [
    "WeekBeforeDrop = []\n",
    "\n",
    "for p in range(len(pollList)):\n",
    "    WeekBeforeDrop.append(BeforeAverages(pollList[p]['poll'], pollList[p]['name']))\n",
    "    \n",
    "PollingBeforeDrop = pd.DataFrame(WeekBeforeDrop, columns=polls.columns, index=pollIndex)\n",
    "PollingBeforeDrop.index.names = ['name']\n",
    "stats.Equals100(PollingBeforeDrop)\n",
    "PollingBeforeDrop"
   ]
  },
  {
   "cell_type": "markdown",
   "metadata": {},
   "source": [
    "Create a DataFrame indexed by the candidates that dropped out of the race during the primaries. Each column holds other candidates' average polling numbers in the week after a candidate's campaign suspension.\n",
    "\n",
    "Each cell contains the polling for a candidate in the column the week after the candidate in the row dropped out."
   ]
  },
  {
   "cell_type": "code",
   "execution_count": 12,
   "metadata": {
    "collapsed": false
   },
   "outputs": [
    {
     "data": {
      "text/html": [
       "<div>\n",
       "<table border=\"1\" class=\"dataframe\">\n",
       "  <thead>\n",
       "    <tr style=\"text-align: right;\">\n",
       "      <th></th>\n",
       "      <th>Trump</th>\n",
       "      <th>Cruz</th>\n",
       "      <th>Kasich</th>\n",
       "      <th>Bush</th>\n",
       "      <th>Carson</th>\n",
       "      <th>Christie</th>\n",
       "      <th>Fiorina</th>\n",
       "      <th>Gilmore</th>\n",
       "      <th>Huckabee</th>\n",
       "      <th>Paul</th>\n",
       "      <th>Rubio</th>\n",
       "      <th>Santorum</th>\n",
       "      <th>Undecided</th>\n",
       "    </tr>\n",
       "    <tr>\n",
       "      <th>name</th>\n",
       "      <th></th>\n",
       "      <th></th>\n",
       "      <th></th>\n",
       "      <th></th>\n",
       "      <th></th>\n",
       "      <th></th>\n",
       "      <th></th>\n",
       "      <th></th>\n",
       "      <th></th>\n",
       "      <th></th>\n",
       "      <th></th>\n",
       "      <th></th>\n",
       "      <th></th>\n",
       "    </tr>\n",
       "  </thead>\n",
       "  <tbody>\n",
       "    <tr>\n",
       "      <th>Bush</th>\n",
       "      <td>37.183442</td>\n",
       "      <td>19.478322</td>\n",
       "      <td>8.406619</td>\n",
       "      <td>NaN</td>\n",
       "      <td>7.451806</td>\n",
       "      <td>NaN</td>\n",
       "      <td>NaN</td>\n",
       "      <td>NaN</td>\n",
       "      <td>NaN</td>\n",
       "      <td>NaN</td>\n",
       "      <td>15.223864</td>\n",
       "      <td>NaN</td>\n",
       "      <td>12.255947</td>\n",
       "    </tr>\n",
       "    <tr>\n",
       "      <th>Carson</th>\n",
       "      <td>44.285663</td>\n",
       "      <td>21.878911</td>\n",
       "      <td>10.271937</td>\n",
       "      <td>NaN</td>\n",
       "      <td>NaN</td>\n",
       "      <td>NaN</td>\n",
       "      <td>NaN</td>\n",
       "      <td>NaN</td>\n",
       "      <td>NaN</td>\n",
       "      <td>NaN</td>\n",
       "      <td>11.684189</td>\n",
       "      <td>NaN</td>\n",
       "      <td>11.879300</td>\n",
       "    </tr>\n",
       "    <tr>\n",
       "      <th>Christie</th>\n",
       "      <td>37.633174</td>\n",
       "      <td>19.227986</td>\n",
       "      <td>7.229041</td>\n",
       "      <td>4.503833</td>\n",
       "      <td>7.910580</td>\n",
       "      <td>NaN</td>\n",
       "      <td>NaN</td>\n",
       "      <td>0.016667</td>\n",
       "      <td>NaN</td>\n",
       "      <td>NaN</td>\n",
       "      <td>13.446138</td>\n",
       "      <td>NaN</td>\n",
       "      <td>10.032582</td>\n",
       "    </tr>\n",
       "    <tr>\n",
       "      <th>Fiorina</th>\n",
       "      <td>37.633174</td>\n",
       "      <td>19.227986</td>\n",
       "      <td>7.229041</td>\n",
       "      <td>4.503833</td>\n",
       "      <td>7.910580</td>\n",
       "      <td>NaN</td>\n",
       "      <td>NaN</td>\n",
       "      <td>0.016667</td>\n",
       "      <td>NaN</td>\n",
       "      <td>NaN</td>\n",
       "      <td>13.446138</td>\n",
       "      <td>NaN</td>\n",
       "      <td>10.032582</td>\n",
       "    </tr>\n",
       "    <tr>\n",
       "      <th>Gilmore</th>\n",
       "      <td>37.385325</td>\n",
       "      <td>19.330885</td>\n",
       "      <td>7.365175</td>\n",
       "      <td>4.404654</td>\n",
       "      <td>7.967341</td>\n",
       "      <td>NaN</td>\n",
       "      <td>NaN</td>\n",
       "      <td>NaN</td>\n",
       "      <td>NaN</td>\n",
       "      <td>NaN</td>\n",
       "      <td>13.544377</td>\n",
       "      <td>NaN</td>\n",
       "      <td>10.002243</td>\n",
       "    </tr>\n",
       "    <tr>\n",
       "      <th>Huckabee</th>\n",
       "      <td>35.967944</td>\n",
       "      <td>19.373975</td>\n",
       "      <td>4.595333</td>\n",
       "      <td>3.915737</td>\n",
       "      <td>7.107778</td>\n",
       "      <td>2.490561</td>\n",
       "      <td>1.823939</td>\n",
       "      <td>0.075152</td>\n",
       "      <td>NaN</td>\n",
       "      <td>2.748833</td>\n",
       "      <td>15.108924</td>\n",
       "      <td>0.34</td>\n",
       "      <td>6.451823</td>\n",
       "    </tr>\n",
       "    <tr>\n",
       "      <th>Paul</th>\n",
       "      <td>38.696925</td>\n",
       "      <td>19.723603</td>\n",
       "      <td>4.335808</td>\n",
       "      <td>5.509058</td>\n",
       "      <td>8.528083</td>\n",
       "      <td>2.466255</td>\n",
       "      <td>2.120741</td>\n",
       "      <td>0.021333</td>\n",
       "      <td>NaN</td>\n",
       "      <td>NaN</td>\n",
       "      <td>12.445089</td>\n",
       "      <td>NaN</td>\n",
       "      <td>6.153105</td>\n",
       "    </tr>\n",
       "    <tr>\n",
       "      <th>Rubio</th>\n",
       "      <td>42.045042</td>\n",
       "      <td>26.107354</td>\n",
       "      <td>14.440049</td>\n",
       "      <td>NaN</td>\n",
       "      <td>NaN</td>\n",
       "      <td>NaN</td>\n",
       "      <td>NaN</td>\n",
       "      <td>NaN</td>\n",
       "      <td>NaN</td>\n",
       "      <td>NaN</td>\n",
       "      <td>NaN</td>\n",
       "      <td>NaN</td>\n",
       "      <td>17.407556</td>\n",
       "    </tr>\n",
       "    <tr>\n",
       "      <th>Santorum</th>\n",
       "      <td>38.696925</td>\n",
       "      <td>19.723603</td>\n",
       "      <td>4.335808</td>\n",
       "      <td>5.509058</td>\n",
       "      <td>8.528083</td>\n",
       "      <td>2.466255</td>\n",
       "      <td>2.120741</td>\n",
       "      <td>0.021333</td>\n",
       "      <td>NaN</td>\n",
       "      <td>NaN</td>\n",
       "      <td>12.445089</td>\n",
       "      <td>NaN</td>\n",
       "      <td>6.153105</td>\n",
       "    </tr>\n",
       "  </tbody>\n",
       "</table>\n",
       "</div>"
      ],
      "text/plain": [
       "              Trump       Cruz     Kasich      Bush    Carson  Christie  \\\n",
       "name                                                                      \n",
       "Bush      37.183442  19.478322   8.406619       NaN  7.451806       NaN   \n",
       "Carson    44.285663  21.878911  10.271937       NaN       NaN       NaN   \n",
       "Christie  37.633174  19.227986   7.229041  4.503833  7.910580       NaN   \n",
       "Fiorina   37.633174  19.227986   7.229041  4.503833  7.910580       NaN   \n",
       "Gilmore   37.385325  19.330885   7.365175  4.404654  7.967341       NaN   \n",
       "Huckabee  35.967944  19.373975   4.595333  3.915737  7.107778  2.490561   \n",
       "Paul      38.696925  19.723603   4.335808  5.509058  8.528083  2.466255   \n",
       "Rubio     42.045042  26.107354  14.440049       NaN       NaN       NaN   \n",
       "Santorum  38.696925  19.723603   4.335808  5.509058  8.528083  2.466255   \n",
       "\n",
       "           Fiorina   Gilmore  Huckabee      Paul      Rubio  Santorum  \\\n",
       "name                                                                    \n",
       "Bush           NaN       NaN       NaN       NaN  15.223864       NaN   \n",
       "Carson         NaN       NaN       NaN       NaN  11.684189       NaN   \n",
       "Christie       NaN  0.016667       NaN       NaN  13.446138       NaN   \n",
       "Fiorina        NaN  0.016667       NaN       NaN  13.446138       NaN   \n",
       "Gilmore        NaN       NaN       NaN       NaN  13.544377       NaN   \n",
       "Huckabee  1.823939  0.075152       NaN  2.748833  15.108924      0.34   \n",
       "Paul      2.120741  0.021333       NaN       NaN  12.445089       NaN   \n",
       "Rubio          NaN       NaN       NaN       NaN        NaN       NaN   \n",
       "Santorum  2.120741  0.021333       NaN       NaN  12.445089       NaN   \n",
       "\n",
       "          Undecided  \n",
       "name                 \n",
       "Bush      12.255947  \n",
       "Carson    11.879300  \n",
       "Christie  10.032582  \n",
       "Fiorina   10.032582  \n",
       "Gilmore   10.002243  \n",
       "Huckabee   6.451823  \n",
       "Paul       6.153105  \n",
       "Rubio     17.407556  \n",
       "Santorum   6.153105  "
      ]
     },
     "execution_count": 12,
     "metadata": {},
     "output_type": "execute_result"
    }
   ],
   "source": [
    "WeekAfterDrop = []\n",
    "\n",
    "for p in range(len(pollList)):\n",
    "    WeekAfterDrop.append(AfterAverages(pollList[p]['poll'], pollList[p]['name']))\n",
    "    \n",
    "PollingAfterDrop = pd.DataFrame(WeekAfterDrop, columns=polls.columns, index=pollIndex)\n",
    "PollingAfterDrop.index.names = ['name']\n",
    "stats.Equals100(PollingAfterDrop)\n",
    "PollingAfterDrop"
   ]
  },
  {
   "cell_type": "markdown",
   "metadata": {},
   "source": [
    "## Testing\n",
    "Confirm DataFrame snippets are working as expected. Test on Jeb Bush."
   ]
  },
  {
   "cell_type": "markdown",
   "metadata": {},
   "source": [
    "Display date of drop."
   ]
  },
  {
   "cell_type": "code",
   "execution_count": 13,
   "metadata": {
    "collapsed": false
   },
   "outputs": [
    {
     "data": {
      "text/plain": [
       "Timestamp('2016-02-16 00:00:00')"
      ]
     },
     "execution_count": 13,
     "metadata": {},
     "output_type": "execute_result"
    }
   ],
   "source": [
    "candidates['date']['Bush']"
   ]
  },
  {
   "cell_type": "markdown",
   "metadata": {},
   "source": [
    "Confirm data is saved properly after being pushed to a list of dictionaries."
   ]
  },
  {
   "cell_type": "code",
   "execution_count": 14,
   "metadata": {
    "collapsed": false
   },
   "outputs": [],
   "source": [
    "BushPolls1 = polls[(polls.index > candidates['date']['Bush'] - datetime.timedelta(days=7)) \\\n",
    "     & (polls.index < candidates['date']['Bush'] + datetime.timedelta(days=9))]\n",
    "BushPoll2 = pollList[1]['poll']\n",
    "assert all(BushPolls1) == all(BushPoll2)"
   ]
  },
  {
   "cell_type": "markdown",
   "metadata": {},
   "source": [
    "Display polling for candidates a week before to a week after Jeb Bush dropped."
   ]
  },
  {
   "cell_type": "code",
   "execution_count": 15,
   "metadata": {
    "collapsed": false
   },
   "outputs": [
    {
     "data": {
      "text/html": [
       "<div>\n",
       "<table border=\"1\" class=\"dataframe\">\n",
       "  <thead>\n",
       "    <tr style=\"text-align: right;\">\n",
       "      <th></th>\n",
       "      <th>Trump</th>\n",
       "      <th>Cruz</th>\n",
       "      <th>Kasich</th>\n",
       "      <th>Bush</th>\n",
       "      <th>Carson</th>\n",
       "      <th>Christie</th>\n",
       "      <th>Fiorina</th>\n",
       "      <th>Gilmore</th>\n",
       "      <th>Huckabee</th>\n",
       "      <th>Paul</th>\n",
       "      <th>Rubio</th>\n",
       "      <th>Santorum</th>\n",
       "      <th>Undecided</th>\n",
       "    </tr>\n",
       "    <tr>\n",
       "      <th>date</th>\n",
       "      <th></th>\n",
       "      <th></th>\n",
       "      <th></th>\n",
       "      <th></th>\n",
       "      <th></th>\n",
       "      <th></th>\n",
       "      <th></th>\n",
       "      <th></th>\n",
       "      <th></th>\n",
       "      <th></th>\n",
       "      <th></th>\n",
       "      <th></th>\n",
       "      <th></th>\n",
       "    </tr>\n",
       "  </thead>\n",
       "  <tbody>\n",
       "    <tr>\n",
       "      <th>2016-02-10</th>\n",
       "      <td>36.002556</td>\n",
       "      <td>22.069111</td>\n",
       "      <td>3.595389</td>\n",
       "      <td>5.750389</td>\n",
       "      <td>9.405000</td>\n",
       "      <td>2.523444</td>\n",
       "      <td>2.421111</td>\n",
       "      <td>0.030000</td>\n",
       "      <td>NaN</td>\n",
       "      <td>NaN</td>\n",
       "      <td>13.110500</td>\n",
       "      <td>NaN</td>\n",
       "      <td>5.092500</td>\n",
       "    </tr>\n",
       "    <tr>\n",
       "      <th>2016-02-11</th>\n",
       "      <td>42.254444</td>\n",
       "      <td>17.839722</td>\n",
       "      <td>4.934167</td>\n",
       "      <td>6.365556</td>\n",
       "      <td>8.695000</td>\n",
       "      <td>NaN</td>\n",
       "      <td>NaN</td>\n",
       "      <td>0.016667</td>\n",
       "      <td>NaN</td>\n",
       "      <td>NaN</td>\n",
       "      <td>10.313333</td>\n",
       "      <td>NaN</td>\n",
       "      <td>9.581111</td>\n",
       "    </tr>\n",
       "    <tr>\n",
       "      <th>2016-02-14</th>\n",
       "      <td>38.080778</td>\n",
       "      <td>18.489778</td>\n",
       "      <td>6.722944</td>\n",
       "      <td>3.897944</td>\n",
       "      <td>7.628889</td>\n",
       "      <td>NaN</td>\n",
       "      <td>NaN</td>\n",
       "      <td>NaN</td>\n",
       "      <td>NaN</td>\n",
       "      <td>NaN</td>\n",
       "      <td>13.142556</td>\n",
       "      <td>NaN</td>\n",
       "      <td>12.037111</td>\n",
       "    </tr>\n",
       "    <tr>\n",
       "      <th>2016-02-15</th>\n",
       "      <td>37.923611</td>\n",
       "      <td>19.369167</td>\n",
       "      <td>7.387222</td>\n",
       "      <td>4.670000</td>\n",
       "      <td>5.581111</td>\n",
       "      <td>NaN</td>\n",
       "      <td>NaN</td>\n",
       "      <td>NaN</td>\n",
       "      <td>NaN</td>\n",
       "      <td>NaN</td>\n",
       "      <td>15.432778</td>\n",
       "      <td>NaN</td>\n",
       "      <td>9.636111</td>\n",
       "    </tr>\n",
       "    <tr>\n",
       "      <th>2016-02-16</th>\n",
       "      <td>36.300889</td>\n",
       "      <td>19.588833</td>\n",
       "      <td>7.497611</td>\n",
       "      <td>4.459000</td>\n",
       "      <td>8.672222</td>\n",
       "      <td>NaN</td>\n",
       "      <td>NaN</td>\n",
       "      <td>NaN</td>\n",
       "      <td>NaN</td>\n",
       "      <td>NaN</td>\n",
       "      <td>13.401889</td>\n",
       "      <td>NaN</td>\n",
       "      <td>10.079556</td>\n",
       "    </tr>\n",
       "    <tr>\n",
       "      <th>2016-02-17</th>\n",
       "      <td>37.651722</td>\n",
       "      <td>19.438000</td>\n",
       "      <td>7.502889</td>\n",
       "      <td>NaN</td>\n",
       "      <td>8.970556</td>\n",
       "      <td>NaN</td>\n",
       "      <td>NaN</td>\n",
       "      <td>NaN</td>\n",
       "      <td>NaN</td>\n",
       "      <td>NaN</td>\n",
       "      <td>12.686056</td>\n",
       "      <td>NaN</td>\n",
       "      <td>13.750778</td>\n",
       "    </tr>\n",
       "    <tr>\n",
       "      <th>2016-02-21</th>\n",
       "      <td>37.032000</td>\n",
       "      <td>19.444111</td>\n",
       "      <td>7.738722</td>\n",
       "      <td>NaN</td>\n",
       "      <td>7.338889</td>\n",
       "      <td>NaN</td>\n",
       "      <td>NaN</td>\n",
       "      <td>NaN</td>\n",
       "      <td>NaN</td>\n",
       "      <td>NaN</td>\n",
       "      <td>14.271333</td>\n",
       "      <td>NaN</td>\n",
       "      <td>14.174944</td>\n",
       "    </tr>\n",
       "    <tr>\n",
       "      <th>2016-02-22</th>\n",
       "      <td>36.930556</td>\n",
       "      <td>18.000278</td>\n",
       "      <td>10.500278</td>\n",
       "      <td>NaN</td>\n",
       "      <td>7.412222</td>\n",
       "      <td>NaN</td>\n",
       "      <td>NaN</td>\n",
       "      <td>NaN</td>\n",
       "      <td>NaN</td>\n",
       "      <td>NaN</td>\n",
       "      <td>17.796944</td>\n",
       "      <td>NaN</td>\n",
       "      <td>9.359722</td>\n",
       "    </tr>\n",
       "    <tr>\n",
       "      <th>2016-02-24</th>\n",
       "      <td>37.409222</td>\n",
       "      <td>20.613278</td>\n",
       "      <td>7.366778</td>\n",
       "      <td>NaN</td>\n",
       "      <td>7.362222</td>\n",
       "      <td>NaN</td>\n",
       "      <td>NaN</td>\n",
       "      <td>NaN</td>\n",
       "      <td>NaN</td>\n",
       "      <td>NaN</td>\n",
       "      <td>14.206611</td>\n",
       "      <td>NaN</td>\n",
       "      <td>13.041889</td>\n",
       "    </tr>\n",
       "  </tbody>\n",
       "</table>\n",
       "</div>"
      ],
      "text/plain": [
       "                Trump       Cruz     Kasich      Bush    Carson  Christie  \\\n",
       "date                                                                        \n",
       "2016-02-10  36.002556  22.069111   3.595389  5.750389  9.405000  2.523444   \n",
       "2016-02-11  42.254444  17.839722   4.934167  6.365556  8.695000       NaN   \n",
       "2016-02-14  38.080778  18.489778   6.722944  3.897944  7.628889       NaN   \n",
       "2016-02-15  37.923611  19.369167   7.387222  4.670000  5.581111       NaN   \n",
       "2016-02-16  36.300889  19.588833   7.497611  4.459000  8.672222       NaN   \n",
       "2016-02-17  37.651722  19.438000   7.502889       NaN  8.970556       NaN   \n",
       "2016-02-21  37.032000  19.444111   7.738722       NaN  7.338889       NaN   \n",
       "2016-02-22  36.930556  18.000278  10.500278       NaN  7.412222       NaN   \n",
       "2016-02-24  37.409222  20.613278   7.366778       NaN  7.362222       NaN   \n",
       "\n",
       "             Fiorina   Gilmore  Huckabee  Paul      Rubio  Santorum  Undecided  \n",
       "date                                                                            \n",
       "2016-02-10  2.421111  0.030000       NaN   NaN  13.110500       NaN   5.092500  \n",
       "2016-02-11       NaN  0.016667       NaN   NaN  10.313333       NaN   9.581111  \n",
       "2016-02-14       NaN       NaN       NaN   NaN  13.142556       NaN  12.037111  \n",
       "2016-02-15       NaN       NaN       NaN   NaN  15.432778       NaN   9.636111  \n",
       "2016-02-16       NaN       NaN       NaN   NaN  13.401889       NaN  10.079556  \n",
       "2016-02-17       NaN       NaN       NaN   NaN  12.686056       NaN  13.750778  \n",
       "2016-02-21       NaN       NaN       NaN   NaN  14.271333       NaN  14.174944  \n",
       "2016-02-22       NaN       NaN       NaN   NaN  17.796944       NaN   9.359722  \n",
       "2016-02-24       NaN       NaN       NaN   NaN  14.206611       NaN  13.041889  "
      ]
     },
     "execution_count": 15,
     "metadata": {},
     "output_type": "execute_result"
    }
   ],
   "source": [
    "BushPolls1"
   ]
  },
  {
   "cell_type": "markdown",
   "metadata": {},
   "source": [
    "Confirm polling data sums up to 100 for each poll"
   ]
  },
  {
   "cell_type": "code",
   "execution_count": 16,
   "metadata": {
    "collapsed": false
   },
   "outputs": [
    {
     "data": {
      "text/plain": [
       "100.0"
      ]
     },
     "execution_count": 16,
     "metadata": {},
     "output_type": "execute_result"
    }
   ],
   "source": [
    "sum(BushPolls1.loc['2016-02-22'].dropna())"
   ]
  },
  {
   "cell_type": "code",
   "execution_count": 17,
   "metadata": {
    "collapsed": false
   },
   "outputs": [],
   "source": [
    "assert sum(BushPolls1.loc['2016-02-10'].dropna()) == 100\n",
    "assert sum(BushPolls1.loc['2016-02-22'].dropna()) == 100"
   ]
  },
  {
   "cell_type": "markdown",
   "metadata": {},
   "source": [
    "Confirm polling before drop is accurate."
   ]
  },
  {
   "cell_type": "code",
   "execution_count": 18,
   "metadata": {
    "collapsed": false
   },
   "outputs": [],
   "source": [
    "BushBeforeAvgs1 = BeforeAverages(BushPolls1, 'Bush')\n",
    "BushBeforeAvgs2 = PollingBeforeDrop.loc['Bush']\n",
    "assert all(BushBeforeAvgs1) == all(list(BushBeforeAvgs2))\n",
    "assert sum(BushBeforeAvgs2.dropna()) == 100"
   ]
  },
  {
   "cell_type": "markdown",
   "metadata": {},
   "source": [
    "Display candidates' average polling data in the week before Jeb Bush suspended his campaign."
   ]
  },
  {
   "cell_type": "code",
   "execution_count": 19,
   "metadata": {
    "collapsed": false
   },
   "outputs": [
    {
     "name": "stdout",
     "output_type": "stream",
     "text": [
      "[38.112455555555549, 19.47132222222222, 6.0274666666666672, 5.0285777777777776, 7.9964444444444451, nan, nan, nan, nan, nan, 13.080211111111112, nan, 9.2852777777777753]\n"
     ]
    }
   ],
   "source": [
    "print(BushBeforeAvgs1)"
   ]
  },
  {
   "cell_type": "markdown",
   "metadata": {},
   "source": [
    "Confrim polling after drop is accurate."
   ]
  },
  {
   "cell_type": "code",
   "execution_count": 20,
   "metadata": {
    "collapsed": true
   },
   "outputs": [],
   "source": [
    "BushAfterAvgs1 = AfterAverages(BushPolls1, 'Bush')\n",
    "BushAfterAvgs2 = PollingAfterDrop.loc['Bush']\n",
    "assert all(BushAfterAvgs1) == all(list(BushAfterAvgs2))"
   ]
  },
  {
   "cell_type": "markdown",
   "metadata": {},
   "source": [
    "Display candidates' average polling data in the week after Jeb Bush suspended his campaign."
   ]
  },
  {
   "cell_type": "code",
   "execution_count": 21,
   "metadata": {
    "collapsed": false
   },
   "outputs": [
    {
     "name": "stdout",
     "output_type": "stream",
     "text": [
      "[37.18344166666666, 19.478322222222225, 8.4066194444444449, nan, 7.4518055555555547, nan, nan, nan, nan, nan, 15.223863888888889, nan, 12.255947222222222]\n"
     ]
    }
   ],
   "source": [
    "print(BushAfterAvgs1)"
   ]
  },
  {
   "cell_type": "markdown",
   "metadata": {},
   "source": [
    "Polling data sums up to 100."
   ]
  },
  {
   "cell_type": "code",
   "execution_count": 22,
   "metadata": {
    "collapsed": true
   },
   "outputs": [],
   "source": [
    "for p in range(len(PollingBeforeDrop.index)):\n",
    "    assert sum(PollingBeforeDrop.iloc[p].dropna()) == 100\n",
    "    \n",
    "for p in range(len(PollingAfterDrop.index)):\n",
    "    assert sum(PollingAfterDrop.iloc[p].dropna()) == 100"
   ]
  },
  {
   "cell_type": "markdown",
   "metadata": {},
   "source": [
    "Graph Jeb Bush's data."
   ]
  },
  {
   "cell_type": "code",
   "execution_count": 23,
   "metadata": {
    "collapsed": false
   },
   "outputs": [
    {
     "data": {
      "text/plain": [
       "<matplotlib.legend.Legend at 0x7f871ced5ac8>"
      ]
     },
     "execution_count": 23,
     "metadata": {},
     "output_type": "execute_result"
    },
    {
     "data": {
      "image/png": "[encoded data removed]",
      "text/plain": [
       "<matplotlib.figure.Figure at 0x7f871cf58400>"
      ]
     },
     "metadata": {},
     "output_type": "display_data"
    }
   ],
   "source": [
    "plt.figure(figsize=(20,10))\n",
    "\n",
    "plt.plot(BushPolls1.Trump)\n",
    "plt.plot(BushPolls1.Cruz)\n",
    "plt.plot(BushPolls1.Rubio)\n",
    "plt.plot(BushPolls1.Kasich)\n",
    "plt.plot(BushPolls1.Carson)\n",
    "plt.plot(BushPolls1.Bush)\n",
    "plt.plot(BushPolls1.Undecided)\n",
    "\n",
    "plt.axvline(candidates['date']['Bush'])\n",
    "\n",
    "plt.title(\"GOP Candidate Polling a Week Before/After Bush Dropped\", size=20)\n",
    "plt.xlabel(\"Date of Poll\", size=16)\n",
    "plt.ylabel(\"Polling Percentage\", size=16)\n",
    "\n",
    "# y limits are a little greater than needed to display the legend without blocking out data\n",
    "plt.ylim(0, 55)\n",
    "plt.legend(fontsize=14)"
   ]
  },
  {
   "cell_type": "markdown",
   "metadata": {},
   "source": [
    "## Write to File\n",
    "Write the DataFrames PollingBeforeDrop and PollingAfterDrop to two separte files to be analyzed in 05-Analysis.ipynb"
   ]
  },
  {
   "cell_type": "code",
   "execution_count": 24,
   "metadata": {
    "collapsed": true
   },
   "outputs": [],
   "source": [
    "PollingBeforeDrop.to_csv('PollingBeforeDrop.csv')\n",
    "PollingAfterDrop.to_csv('PollingAfterDrop.csv')"
   ]
  }
 ],
 "metadata": {
  "kernelspec": {
   "display_name": "Python 3",
   "language": "python",
   "name": "python3"
  },
  "language_info": {
   "codemirror_mode": {
    "name": "ipython",
    "version": 3
   },
   "file_extension": ".py",
   "mimetype": "text/x-python",
   "name": "python",
   "nbconvert_exporter": "python",
   "pygments_lexer": "ipython3",
   "version": "3.4.3"
  }
 },
 "nbformat": 4,
 "nbformat_minor": 0
}
