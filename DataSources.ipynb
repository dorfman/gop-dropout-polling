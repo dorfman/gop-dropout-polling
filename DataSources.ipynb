{
 "cells": [
  {
   "cell_type": "markdown",
   "metadata": {},
   "source": [
    "# Interesting Datasets"
   ]
  },
  {
   "cell_type": "markdown",
   "metadata": {},
   "source": [
    "This notebook lists some well known and interesting data sets that are free or nearly free. This list is not by any means comprehensive, but is a good start."
   ]
  },
  {
   "cell_type": "markdown",
   "metadata": {},
   "source": [
    "### usa.gov bit.ly data\n",
    "\n",
    "* http://www.usa.gov/About/developer-resources/1usagov.shtml\n",
    "* http://1usagov.measuredvoice.com/2013/\n",
    "\n",
    "The U.S government and https://bitly.com/ provide a data set of clicks on the different U.S government web sites."
   ]
  },
  {
   "cell_type": "markdown",
   "metadata": {},
   "source": [
    "### MovieLens\n",
    "\n",
    "http://grouplens.org/datasets/movielens/\n",
    "\n",
    "The MovieLens data set consists of large collections of movie ratings from the MovieLens web site http://movielens.org/."
   ]
  },
  {
   "cell_type": "markdown",
   "metadata": {},
   "source": [
    "### Armchair Analysis\n",
    "\n",
    "http://armchairanalysis.com/\n",
    "\n",
    "Armchair Analysis provides high quality, play-by-play data for all NFL football games."
   ]
  },
  {
   "cell_type": "markdown",
   "metadata": {},
   "source": [
    "### SNAP (Stanford Large Network Dataset Collection)\n",
    "\n",
    "http://snap.stanford.edu/data/\n",
    "\n",
    "SNAP provide a number of large network data sets from social networks, citation networks, collaboration networks, etc."
   ]
  },
  {
   "cell_type": "markdown",
   "metadata": {},
   "source": [
    "### GDELT\n",
    "\n",
    "http://gdeltproject.org/\n",
    "\n",
    "> Supported by Google Ideas, the GDELT Project monitors the world's broadcast, \n",
    "> print, and web news from nearly every corner of every country in over \n",
    "> 100 languages and identifies the people, locations, organizations, counts, \n",
    "> themes, sources, and events driving our global society every second of every day, \n",
    "> creating a free open platform for computing on the entire world."
   ]
  },
  {
   "cell_type": "markdown",
   "metadata": {},
   "source": [
    "### Poplular Baby Names\n",
    "\n",
    "http://www.ssa.gov/oact/babynames/\n",
    "\n",
    "The U.S Social Security Administration maintains a database of the most popular baby names over time."
   ]
  },
  {
   "cell_type": "markdown",
   "metadata": {},
   "source": [
    "### Quandl\n",
    "\n",
    "https://www.quandl.com/\n",
    "\n",
    "Quandl is a (mostly) free and open data aggregator. It offers over 10 million data sets on wide range of topics in a wide range of formats (JSON, CSV, Excel, REST API, Python, R, etc.)."
   ]
  },
  {
   "cell_type": "markdown",
   "metadata": {},
   "source": [
    "### Home Mortgage Disclosure Act (HMDA)\n",
    "\n",
    "http://www.ffiec.gov/hmda/hmdaproducts.htm\n",
    "\n",
    "This HMDA provides extensive data related to home mortgages in the U.S."
   ]
  },
  {
   "cell_type": "markdown",
   "metadata": {},
   "source": [
    "### ASA Data Exposition\n",
    "\n",
    "http://stat-computing.org/dataexpo/\n",
    "\n",
    "The The Americal Statistical Association runs a bi-annual Data Exposition. Each Data Expo focuses on a single data set and the historical data sets are available. In particular the data set of historical airline flight information is interesting:\n",
    "\n",
    "http://stat-computing.org/dataexpo/2009/"
   ]
  },
  {
   "cell_type": "markdown",
   "metadata": {},
   "source": [
    "### Kaggle Datasets\n",
    "\n",
    "https://www.kaggle.com/datasets\n",
    "\n",
    "Kaggle runs Data Science competitions and has a number of interesting data sets."
   ]
  },
  {
   "cell_type": "markdown",
   "metadata": {},
   "source": [
    "### Yelp Data Set Challenge\n",
    "\n",
    "http://www.yelp.com/dataset_challenge\n",
    "\n",
    "Yelp provides a medium sized data set that has users, review, businesses, etc."
   ]
  },
  {
   "cell_type": "markdown",
   "metadata": {},
   "source": [
    "### US Census Data\n",
    "\n",
    "http://www.census.gov/\n",
    "\n",
    "The US Census Bureau offers access to the entire US census datasets. There is a ton of useful data here that can be combined with data from other sources. However, the data is a challenge to find, understand and work with."
   ]
  },
  {
   "cell_type": "markdown",
   "metadata": {},
   "source": [
    "### Twitter API\n",
    "\n",
    "https://dev.twitter.com/rest/public\n",
    "https://dev.twitter.com/streaming/overview\n",
    "\n",
    "Twitter offers a REST API for streaming and a small amount of historical data. There are limits to the amount of data you can gather for free using these APIs. While companies like GNIP (now part of Twitter) offer access to the full Twitter data set, it is horribly expensive."
   ]
  },
  {
   "cell_type": "markdown",
   "metadata": {},
   "source": [
    "### New York Times API\n",
    "\n",
    "http://developer.nytimes.com/docs\n",
    "\n",
    "The New York Times offers a free REST API for querying all maner of data related to the New York Times media properties."
   ]
  },
  {
   "cell_type": "markdown",
   "metadata": {},
   "source": [
    "### Facebook API\n",
    "\n",
    "https://developers.facebook.com/\n",
    "\n",
    "Facebook offers a rich REST API."
   ]
  },
  {
   "cell_type": "markdown",
   "metadata": {},
   "source": [
    "### San Francisco\n",
    "\n",
    "https://data.sfgov.org/\n",
    "\n",
    "The city of San Francisco has a large number of data sets related to the city."
   ]
  },
  {
   "cell_type": "markdown",
   "metadata": {},
   "source": [
    "### Awesome Public Datasets\n",
    "\n",
    "This GitHub repository has an incredibly complete list of public datasets:\n",
    "\n",
    "https://github.com/caesar0301/awesome-public-datasets"
   ]
  },
  {
   "cell_type": "markdown",
   "metadata": {},
   "source": [
    "### BuzzFeedNews\n",
    "\n",
    "https://github.com/BuzzFeedNews/everything\n",
    "\n",
    "The Data Science team at [BuzzFeedNews](http://www.buzzfeed.com/news) publishes the datasets and code from all their stories on GitHub.\n",
    "\n"
   ]
  },
  {
   "cell_type": "markdown",
   "metadata": {},
   "source": [
    "### 538\n",
    "\n",
    "https://github.com/fivethirtyeight/data\n",
    "\n",
    "[538](https://github.com/fivethirtyeight/data) also publishes their datasets from many of their articles on Github."
   ]
  },
  {
   "cell_type": "markdown",
   "metadata": {},
   "source": [
    "### Stack Exchange Data Dump\n",
    "\n",
    "https://archive.org/details/stackexchange\n",
    "\n",
    "This contains a large data dump of [Stack Exchange](http://stackexchange.com/) as of 1/1/2016."
   ]
  }
 ],
 "metadata": {
  "kernelspec": {
   "display_name": "Python 3",
   "language": "python",
   "name": "python3"
  },
  "language_info": {
   "codemirror_mode": {
    "name": "ipython",
    "version": 3
   },
   "file_extension": ".py",
   "mimetype": "text/x-python",
   "name": "python",
   "nbconvert_exporter": "python",
   "pygments_lexer": "ipython3",
   "version": "3.4.3"
  }
 },
 "nbformat": 4,
 "nbformat_minor": 0
}
