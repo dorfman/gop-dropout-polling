{
 "cells": [
  {
   "cell_type": "markdown",
   "metadata": {},
   "source": [
    "# Introduction"
   ]
  },
  {
   "cell_type": "markdown",
   "metadata": {},
   "source": [
    "## Abstract\n",
    "See where a Republican candidate's constiuents and supporters go after they drop out of the race for presidential nomination. Do one candidate's support go mostly to another candidate? Do they go to a couple? Do they mostly go undecided directly after their top choice suspends their campaign?"
   ]
  },
  {
   "cell_type": "markdown",
   "metadata": {},
   "source": [
    "## Description of the Dataset\n",
    "A csv file with columns for poll, start date of poll, end date of poll, datetime the poll was retreived, number of observations, population, mode, and the actual polling percentages for all the registeired Republican candidates."
   ]
  },
  {
   "cell_type": "markdown",
   "metadata": {},
   "source": [
    "## Index of Notebooks\n",
    "* `01-Introduction.ipynb`\n",
    "    - Includes an abstract, brief description of the dataset, an index of notebooks, and citations for data used.\n",
    "* `02-DataCleaning.ipynb`\n",
    "    - Reads the dataset in /data/dorfman/2016-national-gop-primary.csv and removes unneeded columns and poll entries/rows taken before 2016. Also constructs a DataFrame for candidate dropout dates.\n",
    "* `03-Modeling.ipynb`\n",
    "    - Plots cleaned data to explore any immediately noticeable trends. Models data using bootstrap sampling.\n",
    "* `04-Exploration.ipynb`\n",
    "    - Explores DataFrames and plots for every candidate dropped.\n",
    "* `05-Analysis.ipynb`\n",
    "    - Calculates percentage gains and losses for active candidates after a candidate drops.\n",
    "* `06-Presentation.ipynb`\n",
    "    - A concise version of the past five notebooks. Highlights a couple dropped candidates to show how polling was effected after they dropped out."
   ]
  },
  {
   "cell_type": "markdown",
   "metadata": {},
   "source": [
    "## Data\n",
    "\n",
    "### Polling Data\n",
    "http://elections.huffingtonpost.com/pollster/2016-national-gop-primary\n",
    "\n",
    "Downloaded as a CSV from Huffington Post's Pollster.\n",
    "\n",
    "### Dropout Data\n",
    "https://en.wikipedia.org/wiki/United_States_presidential_election,_2016#Withdrawn_candidates_2\n",
    "\n",
    "Manually made dictionary using data (from Wikipedia) on when candidates dropped out. "
   ]
  }
 ],
 "metadata": {
  "kernelspec": {
   "display_name": "Python 3",
   "language": "python",
   "name": "python3"
  },
  "language_info": {
   "codemirror_mode": {
    "name": "ipython",
    "version": 3
   },
   "file_extension": ".py",
   "mimetype": "text/x-python",
   "name": "python",
   "nbconvert_exporter": "python",
   "pygments_lexer": "ipython3",
   "version": "3.4.3"
  }
 },
 "nbformat": 4,
 "nbformat_minor": 0
}
