{
 "cells": [
  {
   "cell_type": "markdown",
   "metadata": {},
   "source": [
    "# Project Guidelines"
   ]
  },
  {
   "cell_type": "markdown",
   "metadata": {},
   "source": [
    "## Overview"
   ]
  },
  {
   "cell_type": "markdown",
   "metadata": {},
   "source": [
    "This document describes the final projects that you will do for this course. These projects will build on your existing knowledge and take you to the next level with your skills in coding, software engineering, visualization, debugging, algorithmic thinking, etc.\n",
    "\n",
    "What is the difference between this project and the previous homework you have done?\n",
    "\n",
    "* The project will be **more work** than a single homework.\n",
    "* The project will be a much more accurate representation of what it is like to do data science \"in the wild\".\n",
    "* The project is **open ended**. For most of your homework, there has been a very clear result you are aiming for, and I pick the target. With the project, I will give you general guidance, but you will have significant freedom to create and explore questions. Because of this you won't know the right answer and neither will I.\n",
    "* The end result of your project will be a **computational narrative**, i.e. a *story*, that uses code, data and visualizations to communicate something of significance. You will tell this story to me in the form of notebooks and to the class in your final presentation.\n",
    "* The project is a **capstone experience** that will tie together everything you have learned and likely require you to learn a lot of new things we haven't covered in class.\n",
    "* Most importantly, the project will be a lot of **fun** and provide you with something significant you can use as the start of a data science portfolio."
   ]
  },
  {
   "cell_type": "markdown",
   "metadata": {},
   "source": [
    "## Selecting a dataset"
   ]
  },
  {
   "cell_type": "markdown",
   "metadata": {},
   "source": [
    "Use the following guidelines for picking a dataset:\n",
    "\n",
    "* Your dataset should not be larger than 20-30GB unless you get special permission.\n",
    "* Be aware that you have about 2GB of RAM. If your dataset is larger than that, you will have to resort to special libraries (such as dask) for working with larger data.\n",
    "* Your dataset needs to be sufficiently large and complex to explore interesting questions:\n",
    "  - Tabular data\n",
    "    - Should contain at least 2 tables with relationships between tables.\n",
    "    - After you have grouped by all categorical columns, the resulting groups should have at least 100s of rows.\n",
    "    - Should have numerous columns with different data types (categorical, geographical, date/time, quantitative).\n",
    "  - Textual data\n",
    "    - Should be large enough that there are many files.\n",
    "    - Should have some sort of metadata along with it to allow you to answer more interesting questions.\n",
    "* The aquisition or usage of the dataset should not be illegal or unethical in any way. It can however be controversial.\n",
    "* If you scrape your dataset from web pages or an HTTP API, you need to includes the code used to get the data with your project.\n",
    "* If must provide citations and links to where you got the data from.\n",
    "* If you have questions about a particular dataset, please ask me as early as possible."
   ]
  },
  {
   "cell_type": "markdown",
   "metadata": {},
   "source": [
    "## Final presentation"
   ]
  },
  {
   "cell_type": "markdown",
   "metadata": {},
   "source": [
    "To get credit for the project, you **must** present your project to the class during the official final time for the class. You will use the notebook to do your presentation.\n",
    "\n",
    "* Your presentation should be a narative that describes your data science process, and the questions you explored.\n",
    "* You should do live demonstrations and a summary of the code, but you shouldn't get too technical about the details of the code.\n",
    "* Remember, most of the class won't know anything about the dataset, topics or questions you are presenting about.\n",
    "* If you have code that takes a while to run, you should run the code before the presentation, save the results to a file, load the results from disk and perform final analysis and visualizations.\n",
    "* Your presentation notebook should be a separate notebook from the main notebook that contains the full data science process and its description.\n",
    "* You will have 5-7 minutes total for your presentation.\n",
    "\n",
    "**Students and faculty outside the class will be invited to attend the final presentations.**"
   ]
  },
  {
   "cell_type": "markdown",
   "metadata": {},
   "source": [
    "## Rubric"
   ]
  },
  {
   "cell_type": "markdown",
   "metadata": {},
   "source": [
    "You will be graded on the following categories:\n",
    "\n",
    "### Data\n",
    "\n",
    "* Your dataset should be complex and large enough to explore interesting questions, but not soo big that it is difficult to work with (see above).\n",
    "* Your dataset should be stored under a folder with your GitHub username in the `/data` folder of the server. Do not put your data in your project folder.\n",
    "\n",
    "### Code\n",
    "\n",
    "* Code is well organized into relatively small functions (10-20 lines) that do one thing.\n",
    "* Functions have docstrings describing what they do.\n",
    "* Appropriate variable names are used.\n",
    "* PEP 8 is approximately followed for code style.\n",
    "* Code is tested using assert statements.\n",
    "* Code that is used in multiple notebooks is put into standalone `.py` files and imported.\n",
    "* Code is modular to easily allow the exploration of different questions.\n",
    "* Code is written with fast performance in mind and does not have any significant performance problems.\n",
    "* Your code should not use more than 2GB of RAM at any point in time.\n",
    "* Appropriate data structures and algorithms are used.\n",
    "* All of your notebooks should run from scratch in a reasonable amount of time. Please make a note about code that takes a long (more than a few minutes) to run.\n",
    "\n",
    "### Narrative\n",
    "\n",
    "* Narrative text is provided to describe the dataset, code, results, visualizations, modeling, etc.\n",
    "* When appropriate, equations are included (LaTeX).\n",
    "* You identify the core questions you will study.\n",
    "* The narrative tells a compelling *story* that addresses the questions.\n",
    "* A one paragraph abstract is provided.\n",
    "\n",
    "### Presentation\n",
    "\n",
    "* Well dressed, looks professional.\n",
    "* Relaxed, confident and enthusiastic.\n",
    "* Speaks clearly at all times, with good volume, good pace, and smooth delivery.\n",
    "* All demos work.\n",
    "\n",
    "### Organization\n",
    "\n",
    "* The project is organized into multiple notebooks with clear titles and ordering. Something like this:\n",
    "  - `01-Introduction.ipynb`\n",
    "  - `02-DataCleaning.ipynb`\n",
    "  - `03-Exploration.ipynb`\n",
    "  - `04-Modeling.ipynb`\n",
    "  - `05-MachineLearning.ipynb`\n",
    "  - `06-Presentation.ipynb`\n",
    "* An introduction notebook is provided with the following sections:\n",
    "  - Abstract\n",
    "  - Description of the dataset.\n",
    "  - Index of other notebooks with a short description\n",
    "  - Citations\n",
    "* Each notebook has well organized Markdown sections.\n",
    "\n",
    "### Aquisition and cleaning\n",
    "\n",
    "* Dataset is stored on disk in an appropriate format.\n",
    "* Dataset is cleaned and transformed into the tidy-data standard (read Hadley's paper!)\n",
    "* Tests are provided to verify the data is properly cleaned and transformed.\n",
    "* See [odo](http://odo.readthedocs.org/en/latest/) for transforming between formats.\n",
    "\n",
    "### Exploratory data analysis\n",
    "\n",
    "* The dataset is explored thoroughly through transformations (groupby, merge, etc) and visualization.\n",
    "* Data exploration is tied to the questions you are exploring and this relationship is made explicit.\n",
    "* Visualizations adhere to the theory and practice of effective visualizations.\n",
    "* Interesting relationships in different parts of the dataset are explored.\n",
    "* Interactive widgets are used to explore the dataset interactively.\n",
    "* Appropriate visualizations are used.\n",
    "\n",
    "### Statistical modeling\n",
    "\n",
    "* Bootstrap resampling is used to create distributions and confidence intervals of any estimated statistics.\n",
    "* Appropriate statistical models (regression, maximum likelihood, Markov chain) are built to aid in exploring relationships and extracting insight from the data.\n",
    "\n",
    "### Machine learning\n",
    "\n",
    "* Perform supervised or unsupervised machine learning on your dataset to predict, cluster, etc. your data.\n",
    "* Appropriate machine learning practices are used (cross validation, hyperparameter tuning, etc.).\n",
    "* Multiple algorithms/models are compared where appropriate.\n",
    "\n",
    "### Challenge area\n",
    "\n",
    "* Your project should contain at least one challenge area that involves your learning a new Python library, statistical technique, etc.\n",
    "* Examples\n",
    "  - Network/graphs using [NetworkX}(https://networkx.github.io/)\n",
    "  - Larger than memory data using [dask](http://dask.pydata.org/en/latest/).\n",
    "  - Topic modeling of text documents using Latent Dirichlet Allocation (LDA).\n",
    "  - A new supervised/unsupervised learning algorithm.\n",
    "  - A new data storage format, such as HDF5.\n",
    "  - A dataset involving time series and date/times (such as financial assets over time)."
   ]
  }
 ],
 "metadata": {
  "kernelspec": {
   "display_name": "Python 3",
   "language": "python",
   "name": "python3"
  },
  "language_info": {
   "codemirror_mode": {
    "name": "ipython",
    "version": 3
   },
   "file_extension": ".py",
   "mimetype": "text/x-python",
   "name": "python",
   "nbconvert_exporter": "python",
   "pygments_lexer": "ipython3",
   "version": "3.4.3"
  }
 },
 "nbformat": 4,
 "nbformat_minor": 0
}
