{
 "cells": [
  {
   "cell_type": "markdown",
   "metadata": {},
   "source": [
    "# Data Cleaning\n",
    "Reads the dataset in /data/dorfman/2016-national-gop-primary.csv and removes unneeded columns and poll entries/rows taken before 2016. Uses only recent and relevant data. Also constructs a DataFrame for candidate dropout dates."
   ]
  },
  {
   "cell_type": "markdown",
   "metadata": {},
   "source": [
    "## Imports"
   ]
  },
  {
   "cell_type": "code",
   "execution_count": 1,
   "metadata": {
    "collapsed": false
   },
   "outputs": [],
   "source": [
    "%matplotlib inline\n",
    "import matplotlib.pyplot as plt\n",
    "import seaborn as sns\n",
    "\n",
    "import numpy as np\n",
    "import pandas as pd\n",
    "import os\n",
    "import stats"
   ]
  },
  {
   "cell_type": "code",
   "execution_count": 2,
   "metadata": {
    "collapsed": false
   },
   "outputs": [],
   "source": [
    "check = pd.read_csv(\"http://elections.huffingtonpost.com/pollster/2016-national-gop-primary.csv\")"
   ]
  },
  {
   "cell_type": "markdown",
   "metadata": {},
   "source": [
    "## Read Data\n",
    "http://elections.huffingtonpost.com/pollster/2016-national-gop-primary\n",
    "\n",
    "Downloaded as a CSV and imported into Jupyter."
   ]
  },
  {
   "cell_type": "code",
   "execution_count": 3,
   "metadata": {
    "collapsed": false
   },
   "outputs": [
    {
     "data": {
      "text/html": [
       "<div>\n",
       "<table border=\"1\" class=\"dataframe\">\n",
       "  <thead>\n",
       "    <tr style=\"text-align: right;\">\n",
       "      <th></th>\n",
       "      <th>Pollster</th>\n",
       "      <th>Start Date</th>\n",
       "      <th>End Date</th>\n",
       "      <th>Entry Date/Time (ET)</th>\n",
       "      <th>Number of Observations</th>\n",
       "      <th>Population</th>\n",
       "      <th>Mode</th>\n",
       "      <th>Trump</th>\n",
       "      <th>Cruz</th>\n",
       "      <th>Kasich</th>\n",
       "      <th>...</th>\n",
       "      <th>Perry</th>\n",
       "      <th>Rand Paul</th>\n",
       "      <th>Rubio</th>\n",
       "      <th>Santorum</th>\n",
       "      <th>Walker</th>\n",
       "      <th>Undecided</th>\n",
       "      <th>Pollster URL</th>\n",
       "      <th>Source URL</th>\n",
       "      <th>Partisan</th>\n",
       "      <th>Affiliation</th>\n",
       "    </tr>\n",
       "  </thead>\n",
       "  <tbody>\n",
       "    <tr>\n",
       "      <th>0</th>\n",
       "      <td>Ipsos/Reuters</td>\n",
       "      <td>2016-03-19</td>\n",
       "      <td>2016-03-23</td>\n",
       "      <td>2016-03-24 17:37:44 UTC</td>\n",
       "      <td>523</td>\n",
       "      <td>Registered Voters - Republican</td>\n",
       "      <td>Internet</td>\n",
       "      <td>45</td>\n",
       "      <td>28</td>\n",
       "      <td>20</td>\n",
       "      <td>...</td>\n",
       "      <td>NaN</td>\n",
       "      <td>NaN</td>\n",
       "      <td>NaN</td>\n",
       "      <td>NaN</td>\n",
       "      <td>NaN</td>\n",
       "      <td>7</td>\n",
       "      <td>http://elections.huffingtonpost.com/pollster/p...</td>\n",
       "      <td>http://big.assets.huffingtonpost.com/2016Reute...</td>\n",
       "      <td>Nonpartisan</td>\n",
       "      <td>None</td>\n",
       "    </tr>\n",
       "    <tr>\n",
       "      <th>1</th>\n",
       "      <td>FOX</td>\n",
       "      <td>2016-03-20</td>\n",
       "      <td>2016-03-22</td>\n",
       "      <td>2016-03-23 22:19:32 UTC</td>\n",
       "      <td>388</td>\n",
       "      <td>Likely Voters - Republican</td>\n",
       "      <td>Live Phone</td>\n",
       "      <td>41</td>\n",
       "      <td>38</td>\n",
       "      <td>17</td>\n",
       "      <td>...</td>\n",
       "      <td>NaN</td>\n",
       "      <td>NaN</td>\n",
       "      <td>NaN</td>\n",
       "      <td>NaN</td>\n",
       "      <td>NaN</td>\n",
       "      <td>1</td>\n",
       "      <td>http://elections.huffingtonpost.com/pollster/p...</td>\n",
       "      <td>http://www.foxnews.com/politics/interactive/20...</td>\n",
       "      <td>Nonpartisan</td>\n",
       "      <td>None</td>\n",
       "    </tr>\n",
       "    <tr>\n",
       "      <th>2</th>\n",
       "      <td>Bloomberg/Selzer</td>\n",
       "      <td>2016-03-19</td>\n",
       "      <td>2016-03-22</td>\n",
       "      <td>2016-03-23 21:46:55 UTC</td>\n",
       "      <td>366</td>\n",
       "      <td>Likely Voters - Republican</td>\n",
       "      <td>Live Phone</td>\n",
       "      <td>40</td>\n",
       "      <td>31</td>\n",
       "      <td>25</td>\n",
       "      <td>...</td>\n",
       "      <td>NaN</td>\n",
       "      <td>NaN</td>\n",
       "      <td>NaN</td>\n",
       "      <td>NaN</td>\n",
       "      <td>NaN</td>\n",
       "      <td>5</td>\n",
       "      <td>http://elections.huffingtonpost.com/pollster/p...</td>\n",
       "      <td>http://assets.bwbx.io/documents/users/iqjWHBFd...</td>\n",
       "      <td>Nonpartisan</td>\n",
       "      <td>None</td>\n",
       "    </tr>\n",
       "    <tr>\n",
       "      <th>3</th>\n",
       "      <td>Morning Consult</td>\n",
       "      <td>2016-03-18</td>\n",
       "      <td>2016-03-21</td>\n",
       "      <td>2016-03-21 19:05:11 UTC</td>\n",
       "      <td>754</td>\n",
       "      <td>Registered Voters - Republican</td>\n",
       "      <td>Internet</td>\n",
       "      <td>45</td>\n",
       "      <td>26</td>\n",
       "      <td>13</td>\n",
       "      <td>...</td>\n",
       "      <td>NaN</td>\n",
       "      <td>NaN</td>\n",
       "      <td>NaN</td>\n",
       "      <td>NaN</td>\n",
       "      <td>NaN</td>\n",
       "      <td>10</td>\n",
       "      <td>http://elections.huffingtonpost.com/pollster/p...</td>\n",
       "      <td>https://morningconsult.com/2016/03/paul-ryan-g...</td>\n",
       "      <td>Nonpartisan</td>\n",
       "      <td>None</td>\n",
       "    </tr>\n",
       "    <tr>\n",
       "      <th>4</th>\n",
       "      <td>Quinnipiac</td>\n",
       "      <td>2016-03-16</td>\n",
       "      <td>2016-03-21</td>\n",
       "      <td>2016-03-23 11:19:56 UTC</td>\n",
       "      <td>652</td>\n",
       "      <td>Registered Voters - Republican</td>\n",
       "      <td>Live Phone</td>\n",
       "      <td>43</td>\n",
       "      <td>29</td>\n",
       "      <td>16</td>\n",
       "      <td>...</td>\n",
       "      <td>NaN</td>\n",
       "      <td>NaN</td>\n",
       "      <td>NaN</td>\n",
       "      <td>NaN</td>\n",
       "      <td>NaN</td>\n",
       "      <td>9</td>\n",
       "      <td>http://elections.huffingtonpost.com/pollster/p...</td>\n",
       "      <td>http://www.quinnipiac.edu/news-and-events/quin...</td>\n",
       "      <td>Nonpartisan</td>\n",
       "      <td>None</td>\n",
       "    </tr>\n",
       "  </tbody>\n",
       "</table>\n",
       "<p>5 rows × 29 columns</p>\n",
       "</div>"
      ],
      "text/plain": [
       "           Pollster  Start Date    End Date     Entry Date/Time (ET)  \\\n",
       "0     Ipsos/Reuters  2016-03-19  2016-03-23  2016-03-24 17:37:44 UTC   \n",
       "1               FOX  2016-03-20  2016-03-22  2016-03-23 22:19:32 UTC   \n",
       "2  Bloomberg/Selzer  2016-03-19  2016-03-22  2016-03-23 21:46:55 UTC   \n",
       "3   Morning Consult  2016-03-18  2016-03-21  2016-03-21 19:05:11 UTC   \n",
       "4        Quinnipiac  2016-03-16  2016-03-21  2016-03-23 11:19:56 UTC   \n",
       "\n",
       "   Number of Observations                      Population        Mode  Trump  \\\n",
       "0                     523  Registered Voters - Republican    Internet     45   \n",
       "1                     388      Likely Voters - Republican  Live Phone     41   \n",
       "2                     366      Likely Voters - Republican  Live Phone     40   \n",
       "3                     754  Registered Voters - Republican    Internet     45   \n",
       "4                     652  Registered Voters - Republican  Live Phone     43   \n",
       "\n",
       "   Cruz  Kasich     ...       Perry  Rand Paul  Rubio  Santorum  Walker  \\\n",
       "0    28      20     ...         NaN        NaN    NaN       NaN     NaN   \n",
       "1    38      17     ...         NaN        NaN    NaN       NaN     NaN   \n",
       "2    31      25     ...         NaN        NaN    NaN       NaN     NaN   \n",
       "3    26      13     ...         NaN        NaN    NaN       NaN     NaN   \n",
       "4    29      16     ...         NaN        NaN    NaN       NaN     NaN   \n",
       "\n",
       "   Undecided                                       Pollster URL  \\\n",
       "0          7  http://elections.huffingtonpost.com/pollster/p...   \n",
       "1          1  http://elections.huffingtonpost.com/pollster/p...   \n",
       "2          5  http://elections.huffingtonpost.com/pollster/p...   \n",
       "3         10  http://elections.huffingtonpost.com/pollster/p...   \n",
       "4          9  http://elections.huffingtonpost.com/pollster/p...   \n",
       "\n",
       "                                          Source URL     Partisan  Affiliation  \n",
       "0  http://big.assets.huffingtonpost.com/2016Reute...  Nonpartisan         None  \n",
       "1  http://www.foxnews.com/politics/interactive/20...  Nonpartisan         None  \n",
       "2  http://assets.bwbx.io/documents/users/iqjWHBFd...  Nonpartisan         None  \n",
       "3  https://morningconsult.com/2016/03/paul-ryan-g...  Nonpartisan         None  \n",
       "4  http://www.quinnipiac.edu/news-and-events/quin...  Nonpartisan         None  \n",
       "\n",
       "[5 rows x 29 columns]"
      ]
     },
     "execution_count": 3,
     "metadata": {},
     "output_type": "execute_result"
    }
   ],
   "source": [
    "polls = pd.read_csv('http://elections.huffingtonpost.com/pollster/2016-national-gop-primary.csv')\n",
    "polls.head()"
   ]
  },
  {
   "cell_type": "code",
   "execution_count": 4,
   "metadata": {
    "collapsed": false
   },
   "outputs": [],
   "source": [
    "assert polls.columns.size == 29"
   ]
  },
  {
   "cell_type": "markdown",
   "metadata": {},
   "source": [
    "## Clean Polls\n",
    "Delete columns that are not needed."
   ]
  },
  {
   "cell_type": "code",
   "execution_count": 5,
   "metadata": {
    "collapsed": false
   },
   "outputs": [
    {
     "data": {
      "text/html": [
       "<div>\n",
       "<table border=\"1\" class=\"dataframe\">\n",
       "  <thead>\n",
       "    <tr style=\"text-align: right;\">\n",
       "      <th></th>\n",
       "      <th>Pollster</th>\n",
       "      <th>End Date</th>\n",
       "      <th>Trump</th>\n",
       "      <th>Cruz</th>\n",
       "      <th>Kasich</th>\n",
       "      <th>Bush</th>\n",
       "      <th>Carson</th>\n",
       "      <th>Christie</th>\n",
       "      <th>Fiorina</th>\n",
       "      <th>Gilmore</th>\n",
       "      <th>Graham</th>\n",
       "      <th>Huckabee</th>\n",
       "      <th>Jindal</th>\n",
       "      <th>Pataki</th>\n",
       "      <th>Perry</th>\n",
       "      <th>Rand Paul</th>\n",
       "      <th>Rubio</th>\n",
       "      <th>Santorum</th>\n",
       "      <th>Walker</th>\n",
       "      <th>Undecided</th>\n",
       "    </tr>\n",
       "  </thead>\n",
       "  <tbody>\n",
       "    <tr>\n",
       "      <th>0</th>\n",
       "      <td>Ipsos/Reuters</td>\n",
       "      <td>2016-03-23</td>\n",
       "      <td>45</td>\n",
       "      <td>28</td>\n",
       "      <td>20</td>\n",
       "      <td>NaN</td>\n",
       "      <td>NaN</td>\n",
       "      <td>NaN</td>\n",
       "      <td>NaN</td>\n",
       "      <td>NaN</td>\n",
       "      <td>NaN</td>\n",
       "      <td>NaN</td>\n",
       "      <td>NaN</td>\n",
       "      <td>NaN</td>\n",
       "      <td>NaN</td>\n",
       "      <td>NaN</td>\n",
       "      <td>NaN</td>\n",
       "      <td>NaN</td>\n",
       "      <td>NaN</td>\n",
       "      <td>7</td>\n",
       "    </tr>\n",
       "    <tr>\n",
       "      <th>1</th>\n",
       "      <td>FOX</td>\n",
       "      <td>2016-03-22</td>\n",
       "      <td>41</td>\n",
       "      <td>38</td>\n",
       "      <td>17</td>\n",
       "      <td>NaN</td>\n",
       "      <td>NaN</td>\n",
       "      <td>NaN</td>\n",
       "      <td>NaN</td>\n",
       "      <td>NaN</td>\n",
       "      <td>NaN</td>\n",
       "      <td>NaN</td>\n",
       "      <td>NaN</td>\n",
       "      <td>NaN</td>\n",
       "      <td>NaN</td>\n",
       "      <td>NaN</td>\n",
       "      <td>NaN</td>\n",
       "      <td>NaN</td>\n",
       "      <td>NaN</td>\n",
       "      <td>1</td>\n",
       "    </tr>\n",
       "    <tr>\n",
       "      <th>2</th>\n",
       "      <td>Bloomberg/Selzer</td>\n",
       "      <td>2016-03-22</td>\n",
       "      <td>40</td>\n",
       "      <td>31</td>\n",
       "      <td>25</td>\n",
       "      <td>NaN</td>\n",
       "      <td>NaN</td>\n",
       "      <td>NaN</td>\n",
       "      <td>NaN</td>\n",
       "      <td>NaN</td>\n",
       "      <td>NaN</td>\n",
       "      <td>NaN</td>\n",
       "      <td>NaN</td>\n",
       "      <td>NaN</td>\n",
       "      <td>NaN</td>\n",
       "      <td>NaN</td>\n",
       "      <td>NaN</td>\n",
       "      <td>NaN</td>\n",
       "      <td>NaN</td>\n",
       "      <td>5</td>\n",
       "    </tr>\n",
       "    <tr>\n",
       "      <th>3</th>\n",
       "      <td>Morning Consult</td>\n",
       "      <td>2016-03-21</td>\n",
       "      <td>45</td>\n",
       "      <td>26</td>\n",
       "      <td>13</td>\n",
       "      <td>NaN</td>\n",
       "      <td>NaN</td>\n",
       "      <td>NaN</td>\n",
       "      <td>NaN</td>\n",
       "      <td>NaN</td>\n",
       "      <td>NaN</td>\n",
       "      <td>NaN</td>\n",
       "      <td>NaN</td>\n",
       "      <td>NaN</td>\n",
       "      <td>NaN</td>\n",
       "      <td>NaN</td>\n",
       "      <td>NaN</td>\n",
       "      <td>NaN</td>\n",
       "      <td>NaN</td>\n",
       "      <td>10</td>\n",
       "    </tr>\n",
       "    <tr>\n",
       "      <th>4</th>\n",
       "      <td>Quinnipiac</td>\n",
       "      <td>2016-03-21</td>\n",
       "      <td>43</td>\n",
       "      <td>29</td>\n",
       "      <td>16</td>\n",
       "      <td>NaN</td>\n",
       "      <td>NaN</td>\n",
       "      <td>NaN</td>\n",
       "      <td>NaN</td>\n",
       "      <td>NaN</td>\n",
       "      <td>NaN</td>\n",
       "      <td>NaN</td>\n",
       "      <td>NaN</td>\n",
       "      <td>NaN</td>\n",
       "      <td>NaN</td>\n",
       "      <td>NaN</td>\n",
       "      <td>NaN</td>\n",
       "      <td>NaN</td>\n",
       "      <td>NaN</td>\n",
       "      <td>9</td>\n",
       "    </tr>\n",
       "  </tbody>\n",
       "</table>\n",
       "</div>"
      ],
      "text/plain": [
       "           Pollster    End Date  Trump  Cruz  Kasich  Bush  Carson  Christie  \\\n",
       "0     Ipsos/Reuters  2016-03-23     45    28      20   NaN     NaN       NaN   \n",
       "1               FOX  2016-03-22     41    38      17   NaN     NaN       NaN   \n",
       "2  Bloomberg/Selzer  2016-03-22     40    31      25   NaN     NaN       NaN   \n",
       "3   Morning Consult  2016-03-21     45    26      13   NaN     NaN       NaN   \n",
       "4        Quinnipiac  2016-03-21     43    29      16   NaN     NaN       NaN   \n",
       "\n",
       "   Fiorina  Gilmore  Graham  Huckabee  Jindal  Pataki  Perry  Rand Paul  \\\n",
       "0      NaN      NaN     NaN       NaN     NaN     NaN    NaN        NaN   \n",
       "1      NaN      NaN     NaN       NaN     NaN     NaN    NaN        NaN   \n",
       "2      NaN      NaN     NaN       NaN     NaN     NaN    NaN        NaN   \n",
       "3      NaN      NaN     NaN       NaN     NaN     NaN    NaN        NaN   \n",
       "4      NaN      NaN     NaN       NaN     NaN     NaN    NaN        NaN   \n",
       "\n",
       "   Rubio  Santorum  Walker  Undecided  \n",
       "0    NaN       NaN     NaN          7  \n",
       "1    NaN       NaN     NaN          1  \n",
       "2    NaN       NaN     NaN          5  \n",
       "3    NaN       NaN     NaN         10  \n",
       "4    NaN       NaN     NaN          9  "
      ]
     },
     "execution_count": 5,
     "metadata": {},
     "output_type": "execute_result"
    }
   ],
   "source": [
    "del polls['Start Date']\n",
    "del polls['Entry Date/Time (ET)']\n",
    "del polls['Number of Observations']\n",
    "del polls['Population']\n",
    "del polls['Mode']\n",
    "del polls['Pollster URL']\n",
    "del polls['Source URL']\n",
    "del polls['Partisan']\n",
    "del polls['Affiliation']\n",
    "polls.head()"
   ]
  },
  {
   "cell_type": "code",
   "execution_count": 6,
   "metadata": {
    "collapsed": false
   },
   "outputs": [],
   "source": [
    "assert polls.columns.size == 20"
   ]
  },
  {
   "cell_type": "markdown",
   "metadata": {},
   "source": [
    "Replace all NaNs in the 'Undecided' column with zeros."
   ]
  },
  {
   "cell_type": "code",
   "execution_count": 7,
   "metadata": {
    "collapsed": false
   },
   "outputs": [],
   "source": [
    "polls['Undecided'] = polls['Undecided'].fillna(0)"
   ]
  },
  {
   "cell_type": "markdown",
   "metadata": {},
   "source": [
    "Make sure each poll summates to 100%. Polling averages are provided as integers so precision is lost. If the polling sum is less than 100, the remainder is added to 'Undecided'. If the polling sum is greater than 100, the surplus is subtracted from 'Undecided'."
   ]
  },
  {
   "cell_type": "code",
   "execution_count": 8,
   "metadata": {
    "collapsed": false
   },
   "outputs": [],
   "source": [
    "stats.Equals100(polls, 2)\n",
    "for p in range(len(polls[2:])):\n",
    "    assert sum(polls.iloc[p][2:].dropna()) == 100"
   ]
  },
  {
   "cell_type": "markdown",
   "metadata": {},
   "source": [
    "Remove polls taken before 2016."
   ]
  },
  {
   "cell_type": "code",
   "execution_count": 9,
   "metadata": {
    "collapsed": false
   },
   "outputs": [],
   "source": [
    "polls = polls[polls['End Date'] >= '2016-01-01']\n",
    "polls = polls.rename(columns = {'End Date': 'date'})\n",
    "\n",
    "polls.date = pd.Series(pd.DatetimeIndex(polls.date))\n",
    "polls.index = polls.date\n",
    "polls = polls.groupby('date').mean()"
   ]
  },
  {
   "cell_type": "code",
   "execution_count": 10,
   "metadata": {
    "collapsed": false
   },
   "outputs": [],
   "source": [
    "assert all(polls.index >= '2016-01-01')"
   ]
  },
  {
   "cell_type": "markdown",
   "metadata": {},
   "source": [
    "Remove candidates who suspended their campaigns before January 1, 2016. Change Rand Paul's name to be just his last name."
   ]
  },
  {
   "cell_type": "code",
   "execution_count": 11,
   "metadata": {
    "collapsed": false
   },
   "outputs": [
    {
     "data": {
      "text/html": [
       "<div>\n",
       "<table border=\"1\" class=\"dataframe\">\n",
       "  <thead>\n",
       "    <tr style=\"text-align: right;\">\n",
       "      <th></th>\n",
       "      <th>Trump</th>\n",
       "      <th>Cruz</th>\n",
       "      <th>Kasich</th>\n",
       "      <th>Bush</th>\n",
       "      <th>Carson</th>\n",
       "      <th>Christie</th>\n",
       "      <th>Fiorina</th>\n",
       "      <th>Gilmore</th>\n",
       "      <th>Huckabee</th>\n",
       "      <th>Paul</th>\n",
       "      <th>Rubio</th>\n",
       "      <th>Santorum</th>\n",
       "      <th>Undecided</th>\n",
       "    </tr>\n",
       "    <tr>\n",
       "      <th>date</th>\n",
       "      <th></th>\n",
       "      <th></th>\n",
       "      <th></th>\n",
       "      <th></th>\n",
       "      <th></th>\n",
       "      <th></th>\n",
       "      <th></th>\n",
       "      <th></th>\n",
       "      <th></th>\n",
       "      <th></th>\n",
       "      <th></th>\n",
       "      <th></th>\n",
       "      <th></th>\n",
       "    </tr>\n",
       "  </thead>\n",
       "  <tbody>\n",
       "    <tr>\n",
       "      <th>2016-01-03</th>\n",
       "      <td>35.00</td>\n",
       "      <td>18.00</td>\n",
       "      <td>2.0</td>\n",
       "      <td>6</td>\n",
       "      <td>9.0</td>\n",
       "      <td>4.00</td>\n",
       "      <td>3.0</td>\n",
       "      <td>0</td>\n",
       "      <td>2.0</td>\n",
       "      <td>2.00</td>\n",
       "      <td>13.00</td>\n",
       "      <td>1.00</td>\n",
       "      <td>5.0</td>\n",
       "    </tr>\n",
       "    <tr>\n",
       "      <th>2016-01-06</th>\n",
       "      <td>38.50</td>\n",
       "      <td>17.00</td>\n",
       "      <td>2.5</td>\n",
       "      <td>6</td>\n",
       "      <td>8.5</td>\n",
       "      <td>3.50</td>\n",
       "      <td>2.0</td>\n",
       "      <td>0</td>\n",
       "      <td>2.0</td>\n",
       "      <td>4.00</td>\n",
       "      <td>10.50</td>\n",
       "      <td>1.00</td>\n",
       "      <td>4.5</td>\n",
       "    </tr>\n",
       "    <tr>\n",
       "      <th>2016-01-07</th>\n",
       "      <td>35.00</td>\n",
       "      <td>20.00</td>\n",
       "      <td>2.0</td>\n",
       "      <td>4</td>\n",
       "      <td>10.0</td>\n",
       "      <td>2.00</td>\n",
       "      <td>3.0</td>\n",
       "      <td>0</td>\n",
       "      <td>1.0</td>\n",
       "      <td>2.00</td>\n",
       "      <td>13.00</td>\n",
       "      <td>0.00</td>\n",
       "      <td>8.0</td>\n",
       "    </tr>\n",
       "    <tr>\n",
       "      <th>2016-01-08</th>\n",
       "      <td>34.00</td>\n",
       "      <td>18.00</td>\n",
       "      <td>2.0</td>\n",
       "      <td>4</td>\n",
       "      <td>8.0</td>\n",
       "      <td>4.00</td>\n",
       "      <td>2.0</td>\n",
       "      <td>NaN</td>\n",
       "      <td>1.0</td>\n",
       "      <td>3.00</td>\n",
       "      <td>9.00</td>\n",
       "      <td>NaN</td>\n",
       "      <td>15.0</td>\n",
       "    </tr>\n",
       "    <tr>\n",
       "      <th>2016-01-10</th>\n",
       "      <td>39.25</td>\n",
       "      <td>17.25</td>\n",
       "      <td>2.5</td>\n",
       "      <td>5</td>\n",
       "      <td>8.0</td>\n",
       "      <td>3.25</td>\n",
       "      <td>2.5</td>\n",
       "      <td>0</td>\n",
       "      <td>2.5</td>\n",
       "      <td>2.25</td>\n",
       "      <td>10.75</td>\n",
       "      <td>0.25</td>\n",
       "      <td>6.5</td>\n",
       "    </tr>\n",
       "  </tbody>\n",
       "</table>\n",
       "</div>"
      ],
      "text/plain": [
       "            Trump   Cruz  Kasich  Bush  Carson  Christie  Fiorina  Gilmore  \\\n",
       "date                                                                         \n",
       "2016-01-03  35.00  18.00     2.0     6     9.0      4.00      3.0        0   \n",
       "2016-01-06  38.50  17.00     2.5     6     8.5      3.50      2.0        0   \n",
       "2016-01-07  35.00  20.00     2.0     4    10.0      2.00      3.0        0   \n",
       "2016-01-08  34.00  18.00     2.0     4     8.0      4.00      2.0      NaN   \n",
       "2016-01-10  39.25  17.25     2.5     5     8.0      3.25      2.5        0   \n",
       "\n",
       "            Huckabee  Paul  Rubio  Santorum  Undecided  \n",
       "date                                                    \n",
       "2016-01-03       2.0  2.00  13.00      1.00        5.0  \n",
       "2016-01-06       2.0  4.00  10.50      1.00        4.5  \n",
       "2016-01-07       1.0  2.00  13.00      0.00        8.0  \n",
       "2016-01-08       1.0  3.00   9.00       NaN       15.0  \n",
       "2016-01-10       2.5  2.25  10.75      0.25        6.5  "
      ]
     },
     "execution_count": 11,
     "metadata": {},
     "output_type": "execute_result"
    }
   ],
   "source": [
    "del polls['Jindal']\n",
    "del polls['Pataki']\n",
    "del polls['Perry']\n",
    "del polls['Walker']\n",
    "del polls['Graham']\n",
    "\n",
    "polls = polls.rename(columns = {'Rand Paul': 'Paul'})\n",
    "polls.head()"
   ]
  },
  {
   "cell_type": "code",
   "execution_count": 12,
   "metadata": {
    "collapsed": false
   },
   "outputs": [],
   "source": [
    "assert list(polls.columns) == ['Trump', 'Cruz', 'Kasich', 'Bush', 'Carson', 'Christie',\n",
    "       'Fiorina', 'Gilmore', 'Huckabee', 'Paul', 'Rubio', 'Santorum', 'Undecided']"
   ]
  },
  {
   "cell_type": "markdown",
   "metadata": {},
   "source": [
    "Make sure each poll summates to 100% after grouping."
   ]
  },
  {
   "cell_type": "code",
   "execution_count": 13,
   "metadata": {
    "collapsed": false
   },
   "outputs": [],
   "source": [
    "stats.Equals100(polls)\n",
    "for p in range(len(polls.index)):\n",
    "    assert sum(polls.iloc[p].dropna()) == 100"
   ]
  },
  {
   "cell_type": "markdown",
   "metadata": {},
   "source": [
    "Polls are now downsized to only include candidates that have been active in the race for nomination since the start of 2016. The only remaining columns in the DataFrame are those of candidates' and their polling numbers. Date duplicates are removed by grouping and retreiving the mean of polls conducted that day."
   ]
  },
  {
   "cell_type": "markdown",
   "metadata": {},
   "source": [
    "## Create Dictionary on Candidates Dropped\n",
    "Source: https://en.wikipedia.org/wiki/United_States_presidential_election,_2016#Withdrawn_candidates_2\n",
    "\n",
    "Manually made."
   ]
  },
  {
   "cell_type": "code",
   "execution_count": 14,
   "metadata": {
    "collapsed": true
   },
   "outputs": [],
   "source": [
    "def inRace(name):\n",
    "    \"\"\"Returns whether the candidate is still in the race as of March 12, 2016\n",
    "    \n",
    "    Parameters\n",
    "    ----------\n",
    "    name : str\n",
    "        The name of the candidate\n",
    "    \"\"\"\n",
    "    if name == 'Trump' or name == 'Cruz' or name == 'Kasich':\n",
    "        return True\n",
    "    else:\n",
    "        return False"
   ]
  },
  {
   "cell_type": "code",
   "execution_count": 15,
   "metadata": {
    "collapsed": false
   },
   "outputs": [
    {
     "data": {
      "text/plain": [
       "[{'date': '', 'dropped': False, 'name': 'Trump'},\n",
       " {'date': '', 'dropped': False, 'name': 'Cruz'},\n",
       " {'date': '', 'dropped': False, 'name': 'Kasich'},\n",
       " {'date': '', 'dropped': True, 'name': 'Bush'},\n",
       " {'date': '', 'dropped': True, 'name': 'Carson'},\n",
       " {'date': '', 'dropped': True, 'name': 'Christie'},\n",
       " {'date': '', 'dropped': True, 'name': 'Fiorina'},\n",
       " {'date': '', 'dropped': True, 'name': 'Gilmore'},\n",
       " {'date': '', 'dropped': True, 'name': 'Huckabee'},\n",
       " {'date': '', 'dropped': True, 'name': 'Paul'},\n",
       " {'date': '', 'dropped': True, 'name': 'Rubio'},\n",
       " {'date': '', 'dropped': True, 'name': 'Santorum'}]"
      ]
     },
     "execution_count": 15,
     "metadata": {},
     "output_type": "execute_result"
    }
   ],
   "source": [
    "def InitDict():\n",
    "    \"\"\"Returns ad dictionary containing the candidates' names, whether they've dropped or not, and the date of dropping\"\"\"\n",
    "    dictOfCand = []\n",
    "    candidates = polls.columns[:-1]\n",
    "\n",
    "    for c in candidates:\n",
    "        person = {}\n",
    "        person['name'] = c\n",
    "        person['dropped'] = False if inRace(c) else True\n",
    "        person['date'] = ''\n",
    "        dictOfCand.append(person)\n",
    "    \n",
    "    return dictOfCand\n",
    "\n",
    "dictOfCand = InitDict()\n",
    "dictOfCand"
   ]
  },
  {
   "cell_type": "code",
   "execution_count": 16,
   "metadata": {
    "collapsed": false
   },
   "outputs": [],
   "source": [
    "assert len(dictOfCand) == polls.columns.size - 1"
   ]
  },
  {
   "cell_type": "markdown",
   "metadata": {
    "collapsed": true
   },
   "source": [
    "Set dates of campaign suspension for each candidate that dropped."
   ]
  },
  {
   "cell_type": "code",
   "execution_count": 17,
   "metadata": {
    "collapsed": false
   },
   "outputs": [
    {
     "data": {
      "text/plain": [
       "[{'date': '', 'dropped': False, 'name': 'Trump'},\n",
       " {'date': '', 'dropped': False, 'name': 'Cruz'},\n",
       " {'date': '', 'dropped': False, 'name': 'Kasich'},\n",
       " {'date': '2016-02-16', 'dropped': True, 'name': 'Bush'},\n",
       " {'date': '2016-03-04', 'dropped': True, 'name': 'Carson'},\n",
       " {'date': '2016-02-10', 'dropped': True, 'name': 'Christie'},\n",
       " {'date': '2016-02-10', 'dropped': True, 'name': 'Fiorina'},\n",
       " {'date': '2016-02-12', 'dropped': True, 'name': 'Gilmore'},\n",
       " {'date': '2016-02-01', 'dropped': True, 'name': 'Huckabee'},\n",
       " {'date': '2016-02-03', 'dropped': True, 'name': 'Paul'},\n",
       " {'date': '2016-03-15', 'dropped': True, 'name': 'Rubio'},\n",
       " {'date': '2016-02-03', 'dropped': True, 'name': 'Santorum'}]"
      ]
     },
     "execution_count": 17,
     "metadata": {},
     "output_type": "execute_result"
    }
   ],
   "source": [
    "for d in dictOfCand:\n",
    "    if d['name'] == 'Rubio':\n",
    "        d['date'] = '2016-03-15'\n",
    "    elif d['name'] == 'Carson':\n",
    "        d['date'] = '2016-03-04'\n",
    "    elif d['name'] == 'Bush':\n",
    "        d['date'] = '2016-02-16'\n",
    "    elif d['name'] == 'Christie':\n",
    "        d['date'] = '2016-02-10'\n",
    "    elif d['name'] == 'Fiorina':\n",
    "        d['date'] = '2016-02-10'\n",
    "    elif d['name'] == 'Gilmore':\n",
    "        d['date'] = '2016-02-12'\n",
    "    elif d['name'] == 'Huckabee':\n",
    "        d['date'] = '2016-02-01'\n",
    "    elif d['name'] == 'Paul':\n",
    "        d['date'] = '2016-02-03'\n",
    "    elif d['name'] == 'Santorum':\n",
    "        d['date'] = '2016-02-03'\n",
    "    \n",
    "dictOfCand"
   ]
  },
  {
   "cell_type": "markdown",
   "metadata": {},
   "source": [
    "Convert 'dictOfCand'to a DataFrame"
   ]
  },
  {
   "cell_type": "code",
   "execution_count": 18,
   "metadata": {
    "collapsed": false
   },
   "outputs": [
    {
     "data": {
      "text/html": [
       "<div>\n",
       "<table border=\"1\" class=\"dataframe\">\n",
       "  <thead>\n",
       "    <tr style=\"text-align: right;\">\n",
       "      <th></th>\n",
       "      <th>date</th>\n",
       "      <th>dropped</th>\n",
       "    </tr>\n",
       "    <tr>\n",
       "      <th>name</th>\n",
       "      <th></th>\n",
       "      <th></th>\n",
       "    </tr>\n",
       "  </thead>\n",
       "  <tbody>\n",
       "    <tr>\n",
       "      <th>Trump</th>\n",
       "      <td></td>\n",
       "      <td>False</td>\n",
       "    </tr>\n",
       "    <tr>\n",
       "      <th>Cruz</th>\n",
       "      <td></td>\n",
       "      <td>False</td>\n",
       "    </tr>\n",
       "    <tr>\n",
       "      <th>Kasich</th>\n",
       "      <td></td>\n",
       "      <td>False</td>\n",
       "    </tr>\n",
       "    <tr>\n",
       "      <th>Bush</th>\n",
       "      <td>2016-02-16</td>\n",
       "      <td>True</td>\n",
       "    </tr>\n",
       "    <tr>\n",
       "      <th>Carson</th>\n",
       "      <td>2016-03-04</td>\n",
       "      <td>True</td>\n",
       "    </tr>\n",
       "    <tr>\n",
       "      <th>Christie</th>\n",
       "      <td>2016-02-10</td>\n",
       "      <td>True</td>\n",
       "    </tr>\n",
       "    <tr>\n",
       "      <th>Fiorina</th>\n",
       "      <td>2016-02-10</td>\n",
       "      <td>True</td>\n",
       "    </tr>\n",
       "    <tr>\n",
       "      <th>Gilmore</th>\n",
       "      <td>2016-02-12</td>\n",
       "      <td>True</td>\n",
       "    </tr>\n",
       "    <tr>\n",
       "      <th>Huckabee</th>\n",
       "      <td>2016-02-01</td>\n",
       "      <td>True</td>\n",
       "    </tr>\n",
       "    <tr>\n",
       "      <th>Paul</th>\n",
       "      <td>2016-02-03</td>\n",
       "      <td>True</td>\n",
       "    </tr>\n",
       "    <tr>\n",
       "      <th>Rubio</th>\n",
       "      <td>2016-03-15</td>\n",
       "      <td>True</td>\n",
       "    </tr>\n",
       "    <tr>\n",
       "      <th>Santorum</th>\n",
       "      <td>2016-02-03</td>\n",
       "      <td>True</td>\n",
       "    </tr>\n",
       "  </tbody>\n",
       "</table>\n",
       "</div>"
      ],
      "text/plain": [
       "                date dropped\n",
       "name                        \n",
       "Trump                  False\n",
       "Cruz                   False\n",
       "Kasich                 False\n",
       "Bush      2016-02-16    True\n",
       "Carson    2016-03-04    True\n",
       "Christie  2016-02-10    True\n",
       "Fiorina   2016-02-10    True\n",
       "Gilmore   2016-02-12    True\n",
       "Huckabee  2016-02-01    True\n",
       "Paul      2016-02-03    True\n",
       "Rubio     2016-03-15    True\n",
       "Santorum  2016-02-03    True"
      ]
     },
     "execution_count": 18,
     "metadata": {},
     "output_type": "execute_result"
    }
   ],
   "source": [
    "candData = pd.DataFrame(dictOfCand)\n",
    "candData.index = candData.name\n",
    "del candData['name']\n",
    "candData"
   ]
  },
  {
   "cell_type": "markdown",
   "metadata": {},
   "source": [
    "## Null Polling on Candidates that Drop Out\n",
    "If a candidate drops out and they still appear in the polls, add their polling percentage to 'Undecided' and make their value 'NaN'."
   ]
  },
  {
   "cell_type": "code",
   "execution_count": 19,
   "metadata": {
    "collapsed": false,
    "scrolled": true
   },
   "outputs": [
    {
     "data": {
      "text/html": [
       "<div>\n",
       "<table border=\"1\" class=\"dataframe\">\n",
       "  <thead>\n",
       "    <tr style=\"text-align: right;\">\n",
       "      <th></th>\n",
       "      <th>Trump</th>\n",
       "      <th>Cruz</th>\n",
       "      <th>Kasich</th>\n",
       "      <th>Bush</th>\n",
       "      <th>Carson</th>\n",
       "      <th>Christie</th>\n",
       "      <th>Fiorina</th>\n",
       "      <th>Gilmore</th>\n",
       "      <th>Huckabee</th>\n",
       "      <th>Paul</th>\n",
       "      <th>Rubio</th>\n",
       "      <th>Santorum</th>\n",
       "      <th>Undecided</th>\n",
       "    </tr>\n",
       "    <tr>\n",
       "      <th>date</th>\n",
       "      <th></th>\n",
       "      <th></th>\n",
       "      <th></th>\n",
       "      <th></th>\n",
       "      <th></th>\n",
       "      <th></th>\n",
       "      <th></th>\n",
       "      <th></th>\n",
       "      <th></th>\n",
       "      <th></th>\n",
       "      <th></th>\n",
       "      <th></th>\n",
       "      <th></th>\n",
       "    </tr>\n",
       "  </thead>\n",
       "  <tbody>\n",
       "    <tr>\n",
       "      <th>2016-03-18</th>\n",
       "      <td>43.00</td>\n",
       "      <td>27.0</td>\n",
       "      <td>14.00</td>\n",
       "      <td>NaN</td>\n",
       "      <td>NaN</td>\n",
       "      <td>NaN</td>\n",
       "      <td>NaN</td>\n",
       "      <td>NaN</td>\n",
       "      <td>NaN</td>\n",
       "      <td>NaN</td>\n",
       "      <td>NaN</td>\n",
       "      <td>NaN</td>\n",
       "      <td>16</td>\n",
       "    </tr>\n",
       "    <tr>\n",
       "      <th>2016-03-20</th>\n",
       "      <td>44.75</td>\n",
       "      <td>27.5</td>\n",
       "      <td>17.75</td>\n",
       "      <td>NaN</td>\n",
       "      <td>NaN</td>\n",
       "      <td>NaN</td>\n",
       "      <td>NaN</td>\n",
       "      <td>NaN</td>\n",
       "      <td>NaN</td>\n",
       "      <td>NaN</td>\n",
       "      <td>NaN</td>\n",
       "      <td>NaN</td>\n",
       "      <td>10</td>\n",
       "    </tr>\n",
       "    <tr>\n",
       "      <th>2016-03-21</th>\n",
       "      <td>44.00</td>\n",
       "      <td>27.5</td>\n",
       "      <td>14.50</td>\n",
       "      <td>NaN</td>\n",
       "      <td>NaN</td>\n",
       "      <td>NaN</td>\n",
       "      <td>NaN</td>\n",
       "      <td>NaN</td>\n",
       "      <td>NaN</td>\n",
       "      <td>NaN</td>\n",
       "      <td>NaN</td>\n",
       "      <td>NaN</td>\n",
       "      <td>14</td>\n",
       "    </tr>\n",
       "    <tr>\n",
       "      <th>2016-03-22</th>\n",
       "      <td>40.50</td>\n",
       "      <td>34.5</td>\n",
       "      <td>21.00</td>\n",
       "      <td>NaN</td>\n",
       "      <td>NaN</td>\n",
       "      <td>NaN</td>\n",
       "      <td>NaN</td>\n",
       "      <td>NaN</td>\n",
       "      <td>NaN</td>\n",
       "      <td>NaN</td>\n",
       "      <td>NaN</td>\n",
       "      <td>NaN</td>\n",
       "      <td>4</td>\n",
       "    </tr>\n",
       "    <tr>\n",
       "      <th>2016-03-23</th>\n",
       "      <td>45.00</td>\n",
       "      <td>28.0</td>\n",
       "      <td>20.00</td>\n",
       "      <td>NaN</td>\n",
       "      <td>NaN</td>\n",
       "      <td>NaN</td>\n",
       "      <td>NaN</td>\n",
       "      <td>NaN</td>\n",
       "      <td>NaN</td>\n",
       "      <td>NaN</td>\n",
       "      <td>NaN</td>\n",
       "      <td>NaN</td>\n",
       "      <td>7</td>\n",
       "    </tr>\n",
       "  </tbody>\n",
       "</table>\n",
       "</div>"
      ],
      "text/plain": [
       "            Trump  Cruz  Kasich  Bush  Carson  Christie  Fiorina  Gilmore  \\\n",
       "date                                                                        \n",
       "2016-03-18  43.00  27.0   14.00   NaN     NaN       NaN      NaN      NaN   \n",
       "2016-03-20  44.75  27.5   17.75   NaN     NaN       NaN      NaN      NaN   \n",
       "2016-03-21  44.00  27.5   14.50   NaN     NaN       NaN      NaN      NaN   \n",
       "2016-03-22  40.50  34.5   21.00   NaN     NaN       NaN      NaN      NaN   \n",
       "2016-03-23  45.00  28.0   20.00   NaN     NaN       NaN      NaN      NaN   \n",
       "\n",
       "            Huckabee  Paul  Rubio  Santorum  Undecided  \n",
       "date                                                    \n",
       "2016-03-18       NaN   NaN    NaN       NaN         16  \n",
       "2016-03-20       NaN   NaN    NaN       NaN         10  \n",
       "2016-03-21       NaN   NaN    NaN       NaN         14  \n",
       "2016-03-22       NaN   NaN    NaN       NaN          4  \n",
       "2016-03-23       NaN   NaN    NaN       NaN          7  "
      ]
     },
     "execution_count": 19,
     "metadata": {},
     "output_type": "execute_result"
    }
   ],
   "source": [
    "for c in dictOfCand:\n",
    "    if c['date'] != '':\n",
    "        polls.loc[(polls[c['name']].notnull()) & (polls.index > c['date']), 'Undecided'] += \\\n",
    "            polls[(polls[c['name']].notnull()) & (polls.index > c['date'])][c['name']]\n",
    "        polls.loc[(polls[c['name']].notnull()) & (polls.index > c['date']), c['name']] = float('NaN')\n",
    "polls.tail()"
   ]
  },
  {
   "cell_type": "markdown",
   "metadata": {},
   "source": [
    "## Write Data to Files"
   ]
  },
  {
   "cell_type": "code",
   "execution_count": 20,
   "metadata": {
    "collapsed": true
   },
   "outputs": [],
   "source": [
    "polls.to_csv('polls.csv')\n",
    "candData.to_csv('candidates.csv')"
   ]
  }
 ],
 "metadata": {
  "kernelspec": {
   "display_name": "Python 3",
   "language": "python",
   "name": "python3"
  },
  "language_info": {
   "codemirror_mode": {
    "name": "ipython",
    "version": 3
   },
   "file_extension": ".py",
   "mimetype": "text/x-python",
   "name": "python",
   "nbconvert_exporter": "python",
   "pygments_lexer": "ipython3",
   "version": "3.4.3"
  }
 },
 "nbformat": 4,
 "nbformat_minor": 0
}
